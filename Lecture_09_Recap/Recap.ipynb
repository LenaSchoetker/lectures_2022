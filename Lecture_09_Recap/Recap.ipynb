{
 "cells": [
  {
   "cell_type": "markdown",
   "id": "bfb44f86-6ef8-4107-91aa-80e4b1670315",
   "metadata": {},
   "source": [
    "# Recap Exercises\n",
    "Welcome to our recap week. Below you will find a bunch of exercises about the content of our course so far. The solutions can be either found directly in this notebook, or in other files inside this folder."
   ]
  },
  {
   "cell_type": "markdown",
   "id": "c5a8aada-866e-4d54-a6e0-b619e475bff5",
   "metadata": {},
   "source": [
    "## Basic Python\n",
    "The following tasks will import the sample solutions, so that you can compare the outputs without directly looking up the solution. Note that python's ``import`` will **not** overwrite previous imports, so you might want to restart the Jupyter Kernel before importing the second time."
   ]
  },
  {
   "cell_type": "markdown",
   "id": "7962258d-fe48-49d1-aded-74eb5993c47c",
   "metadata": {},
   "source": [
    "### Lambda, Map, Filter, Reduce\n",
    "Your task is to implement several lambda functions, that are supposed to be used inside map, filter or reduce. Example functions are imported from Lambdas.py. You should overwrite them and end up with the same behaviour. Try to not use any additional functions (except map, filter, reduce, np.isnan).\n",
    "- Write a function ``filter_nans`` that can be used by the function ``filter`` to get rid of any np.nan in a list with different types. You will need to find a way that ``np.isnan`` will never be used on a string.\n",
    "- Write a function ``filter_division`` that in ``filter`` returns a list that contains only values that are dividable by 7, but not by 2.\n",
    "- Write a function ``append_hello`` that lets any value of a list say hello.\n",
    "- Write a function ``find_value`` that in ``reduce`` finds the value of a list, that minimizes ``x/7%6`` (in case of ties, return the first one)"
   ]
  },
  {
   "cell_type": "code",
   "execution_count": 1,
   "id": "9c71a06c-6c56-4b62-b64e-ff2c620a8e28",
   "metadata": {},
   "outputs": [
    {
     "name": "stdout",
     "output_type": "stream",
     "text": [
      "[5, 'hello', 42]\n",
      "[7, 21, 35, 49, 63, 77, 91]\n",
      "['nan says hello', '5 says hello', 'hello says hello', '42 says hello']\n",
      "['7 says hello', '21 says hello', '35 says hello', '49 says hello', '63 says hello', '77 says hello', '91 says hello']\n",
      "42\n"
     ]
    }
   ],
   "source": [
    "import numpy as np\n",
    "from functools import reduce\n",
    "from Lambdas import filter_nans, filter_division, append_hello, find_value\n",
    "\n",
    "a = [np.nan, 5, \"hello\", 42]\n",
    "b = np.arange(1, 100)\n",
    "\n",
    "# filter_nans = lambda x: your Code\n",
    "print(list(filter(filter_nans, a)))\n",
    "filtered_b = list(filter(filter_division, b))\n",
    "print(filtered_b)\n",
    "\n",
    "print(list(map(append_hello, a)))\n",
    "print(list(map(append_hello, filtered_b)))\n",
    "\n",
    "print(reduce(find_value, b))"
   ]
  },
  {
   "cell_type": "markdown",
   "id": "c34d17bc-e71a-4884-9ade-0f8fe50372bb",
   "metadata": {},
   "source": [
    "### Comprehensions\n",
    "Most of the time there are a lot of ways to implement the same behaviour. You should know about as many of these ways as possible, so that you can choose the best way of doing things. In this task you are supposed to rewrite the functionality of the lambda-task with comprehensions. Again there are example solutions implemented in the beginning and you are supposed to replace them with your own implementation."
   ]
  },
  {
   "cell_type": "code",
   "execution_count": 2,
   "id": "4acf937a-574c-42ad-b4c4-2136cdb45bcb",
   "metadata": {},
   "outputs": [
    {
     "name": "stdout",
     "output_type": "stream",
     "text": [
      "[5, 'hello', 42]\n",
      "[7, 21, 35, 49, 63, 77, 91]\n",
      "['nan says hello', '5 says hello', 'hello says hello', '42 says hello']\n",
      "{'1 is dividable': False, '2 is dividable': False, '3 is dividable': False, '4 is dividable': False, '5 is dividable': False, '6 is dividable': False, '7 is dividable': True, '8 is dividable': False, '9 is dividable': False, '10 is dividable': False, '11 is dividable': False, '12 is dividable': False, '13 is dividable': False, '14 is dividable': False, '15 is dividable': False, '16 is dividable': False, '17 is dividable': False, '18 is dividable': False, '19 is dividable': False, '20 is dividable': False, '21 is dividable': True, '22 is dividable': False, '23 is dividable': False, '24 is dividable': False, '25 is dividable': False, '26 is dividable': False, '27 is dividable': False, '28 is dividable': False, '29 is dividable': False, '30 is dividable': False, '31 is dividable': False, '32 is dividable': False, '33 is dividable': False, '34 is dividable': False, '35 is dividable': True, '36 is dividable': False, '37 is dividable': False, '38 is dividable': False, '39 is dividable': False, '40 is dividable': False, '41 is dividable': False, '42 is dividable': False, '43 is dividable': False, '44 is dividable': False, '45 is dividable': False, '46 is dividable': False, '47 is dividable': False, '48 is dividable': False, '49 is dividable': True, '50 is dividable': False, '51 is dividable': False, '52 is dividable': False, '53 is dividable': False, '54 is dividable': False, '55 is dividable': False, '56 is dividable': False, '57 is dividable': False, '58 is dividable': False, '59 is dividable': False, '60 is dividable': False, '61 is dividable': False, '62 is dividable': False, '63 is dividable': True, '64 is dividable': False, '65 is dividable': False, '66 is dividable': False, '67 is dividable': False, '68 is dividable': False, '69 is dividable': False, '70 is dividable': False, '71 is dividable': False, '72 is dividable': False, '73 is dividable': False, '74 is dividable': False, '75 is dividable': False, '76 is dividable': False, '77 is dividable': True, '78 is dividable': False, '79 is dividable': False, '80 is dividable': False, '81 is dividable': False, '82 is dividable': False, '83 is dividable': False, '84 is dividable': False, '85 is dividable': False, '86 is dividable': False, '87 is dividable': False, '88 is dividable': False, '89 is dividable': False, '90 is dividable': False, '91 is dividable': True, '92 is dividable': False, '93 is dividable': False, '94 is dividable': False, '95 is dividable': False, '96 is dividable': False, '97 is dividable': False, '98 is dividable': False, '99 is dividable': False}\n"
     ]
    }
   ],
   "source": [
    "from Comprehensions import filtered_nans, filtered_division, appended_hello, is_dividable\n",
    "\n",
    "# filtered_nans = [your code for x in a if your condition]\n",
    "# remark: This one can be a bit tricky using np.isnan. Alternatively there is a nice property of np.nan, that can be used in an elegant way.\n",
    "print(filtered_nans)\n",
    "# filtered_division = your code\n",
    "print(filtered_division)\n",
    "# appended_hello = your code\n",
    "print(appended_hello)\n",
    "\n",
    "# You can try to also implement find_value using list comprehension, but probably this will not work without using min() or some other function\n",
    "\n",
    "# is_dividable = {your key: your value for x in b}\n",
    "print(is_dividable)"
   ]
  },
  {
   "cell_type": "markdown",
   "id": "1b812649-af85-4206-82a2-1cb962055fd1",
   "metadata": {},
   "source": [
    "### Object Orientated Programming, Exceptions, Dunder Methods\n",
    "This Exercise may be a bit longer than the previous one, but if you feel save about OO-programming you should be able to write it down in no time. Also, if you make smart use of the inheritance (and that should be your focus on this taks), the classes ``Circle`` and ``Rectangle`` will both be almost empty.\n",
    "\n",
    "Your general task is to implement the classes, so that they imitate the behaviour of the classes imported from the sample solution ``Shapes.pa``. You can check that behaviour by running the testing cell with the import line **not** commented out.\n",
    "- Implement a class ``Shape``, that is supposed to represent an abstract geometrical shape. It is supposed to be constructed with a 2-tuple representing the coordinates of the shape on some screen and a list containing the length of lines, that constituate the shape. You may consider a ``Shape`` object as some sort of polygon with the lines being edges and with unknown corner degrees. But even that is not know, it could also be a circre with only one line that is not straight at all. As an example have a look at the image below. Both could be a ``Shape`` with ``lines = [50, 50, 50, 50, 50, 50, 50, 50]``\n",
    "![](polygons.PNG)\n",
    "- Implement a class ``Circle``, that inherits from Shape and is supposed to represent a circle by its location (coordinate 2-tuple) and its radius.\n",
    "- Implement a class ``Rectangle``, that inherits from ``Shape`` and is supposed to represent a rectangle by its location (coordinate 2-tuple), width (float) and height (float).\n",
    "- Make sure, that objects from all of your new classes allow the following methods to be called from them:\n",
    "    - The constructors should throw a ``TypeError`` if it gets illegal values. Try to make it EAFP, by utilizing errors that are raised by other libraries.\n",
    "    - The method ``circumference ``, that returns the circumference (\"Umfang\") of the shape.\n",
    "    - The method ``area``, that calculates the area if possible, or raises an \"AreaUnknownError\" if it is not.\n",
    "    - The ``__str__`` method that gives some information about the object, including its type\n",
    "    - A dunder method, so that an equals comparison (``a == b``) will return true for objects with the same lines.\n",
    "    - A dunder method, so that addition between two shapes, will add their areas if possible and throw an exception otherwise."
   ]
  },
  {
   "cell_type": "code",
   "execution_count": 47,
   "id": "15b1b4ed-3a56-436c-823c-f39499595878",
   "metadata": {},
   "outputs": [],
   "source": [
    "from math import pi\n",
    "\n",
    "class AreaUnknownError(AttributeError):\n",
    "    # Your Code here\n",
    "    pass\n",
    "\n",
    "class Shape():\n",
    "    # Your Code here\n",
    "    pass\n",
    "    \n",
    "class Circle(Shape):\n",
    "    # Your Code here\n",
    "    pass\n",
    "    \n",
    "class Rectangle(Shape):\n",
    "    # Your Code here\n",
    "    pass"
   ]
  },
  {
   "cell_type": "code",
   "execution_count": 4,
   "id": "04efc963-7718-4ccd-a27c-819fcd16f1b0",
   "metadata": {},
   "outputs": [
    {
     "name": "stdout",
     "output_type": "stream",
     "text": [
      "A Shape with circumference 220.0\n"
     ]
    }
   ],
   "source": [
    "# You can import the sample solution for getting example output.\n",
    "from Shapes import Shape, Circle, Rectangle, AreaUnknownError\n",
    "\n",
    "# test Shape\n",
    "tt = Shape((100,50), [80, 30, 80, 30])\n",
    "print(tt)"
   ]
  },
  {
   "cell_type": "code",
   "execution_count": 5,
   "id": "0794163a-634c-4e77-86c7-37b41f28b210",
   "metadata": {},
   "outputs": [
    {
     "name": "stdout",
     "output_type": "stream",
     "text": [
      "A Circle with circumference 314.1592653589793\n",
      "Cirlce inherits from Shape: True\n",
      "Area of circle: 98696.04401089359\n"
     ]
    }
   ],
   "source": [
    "# test Circle\n",
    "tc = Circle((0,0), 50)\n",
    "print(tc)\n",
    "print(\"Cirlce inherits from Shape:\", isinstance(tc, Shape))\n",
    "print(\"Area of circle:\", tc.area())\n"
   ]
  },
  {
   "cell_type": "code",
   "execution_count": 6,
   "id": "d1c40c2a-e081-4e83-9009-5df3bd942918",
   "metadata": {},
   "outputs": [
    {
     "name": "stdout",
     "output_type": "stream",
     "text": [
      "A Circle with circumference 314.1592653589793\n",
      "Area of rectangle: 2400.0\n",
      "Combined Area: 101096.04401089359\n",
      "False\n",
      "True\n"
     ]
    }
   ],
   "source": [
    "# test Rectangle and all together\n",
    "tr = Rectangle((100, 0), 80, 30)\n",
    "print(tc)\n",
    "print(\"Area of rectangle:\", tr.area())\n",
    "print(\"Combined Area:\", tr + tc)\n",
    "print(tc == tr)\n",
    "print(tt == tr)"
   ]
  },
  {
   "cell_type": "code",
   "execution_count": 7,
   "id": "2bdfa721-6abc-4807-b486-744bc35e7b37",
   "metadata": {},
   "outputs": [
    {
     "name": "stdout",
     "output_type": "stream",
     "text": [
      "Error: Illegal init values\n",
      "Error: Illegal init values\n",
      "Error: This Object has no known area\n"
     ]
    }
   ],
   "source": [
    "# test Exceptions\n",
    "try:\n",
    "    tt2 = Shape((100, 50, 30), [10, 10, 10])\n",
    "except TypeError as e:\n",
    "    print(\"Error:\", e)\n",
    "    \n",
    "try:\n",
    "    tt2 = Shape((100, 50), [10, \"hi\", 10])\n",
    "except TypeError as e:\n",
    "    print(\"Error:\", e)\n",
    "    \n",
    "try:\n",
    "    print(\"Combined Area 2:\", tt + tr)\n",
    "except AreaUnknownError as e:\n",
    "    print(\"Error:\", e)"
   ]
  },
  {
   "cell_type": "code",
   "execution_count": null,
   "id": "35e8d184-712c-4e96-9900-351ed6571e4f",
   "metadata": {},
   "outputs": [],
   "source": []
  }
 ],
 "metadata": {
  "kernelspec": {
   "display_name": "Python 3 (ipykernel)",
   "language": "python",
   "name": "python3"
  },
  "language_info": {
   "codemirror_mode": {
    "name": "ipython",
    "version": 3
   },
   "file_extension": ".py",
   "mimetype": "text/x-python",
   "name": "python",
   "nbconvert_exporter": "python",
   "pygments_lexer": "ipython3",
   "version": "3.9.11"
  }
 },
 "nbformat": 4,
 "nbformat_minor": 5
}
