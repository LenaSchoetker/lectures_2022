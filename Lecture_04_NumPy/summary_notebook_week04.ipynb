{
 "cells": [
  {
   "cell_type": "markdown",
   "metadata": {
    "id": "4b1a506c-4530-426d-bbe9-2d86ca9541f6"
   },
   "source": [
    "# Numerical Computing with NumPy\n",
    "## Why?\n",
    "In Python we can use `lists` to store and manipulate sequences of objects, any objects.<br>\n",
    "While that is very convenient for us it comes at a cost of time and memory.\n",
    "\n",
    "In this example we create 1,000,000 integers"
   ]
  },
  {
   "cell_type": "code",
   "execution_count": 1,
   "metadata": {
    "colab": {
     "base_uri": "https://localhost:8080/"
    },
    "id": "b3118b7d-53d9-4ef9-ac41-20db7f8dbb26",
    "outputId": "c8b25945-67e7-4a33-83ec-7554f80c2749"
   },
   "outputs": [
    {
     "data": {
      "text/plain": [
       "[192, 187, 192, 167, 153, 196, 200, 171, 158, 179]"
      ]
     },
     "execution_count": 1,
     "metadata": {},
     "output_type": "execute_result"
    }
   ],
   "source": [
    "import random \n",
    "measurements = [random.randint(150, 200) for _ in range(1_000_000)]\n",
    "measurements[:10]"
   ]
  },
  {
   "cell_type": "markdown",
   "metadata": {
    "id": "c7ff4c91-df17-445d-b258-1298ba7987a2"
   },
   "source": [
    "and compute their mean\n"
   ]
  },
  {
   "cell_type": "code",
   "execution_count": 2,
   "metadata": {
    "colab": {
     "base_uri": "https://localhost:8080/"
    },
    "id": "95baaf52-57e9-4927-ae9f-f0dd15a5e596",
    "outputId": "37856c80-b5a6-4a10-d6af-afd91c5cb01e"
   },
   "outputs": [
    {
     "name": "stdout",
     "output_type": "stream",
     "text": [
      "6.85 ms ± 119 µs per loop (mean ± std. dev. of 7 runs, 100 loops each)\n"
     ]
    }
   ],
   "source": [
    "list_time = %timeit -o sum(measurements) / len(measurements)"
   ]
  },
  {
   "cell_type": "markdown",
   "metadata": {
    "id": "822d9483-4dad-4dfa-bcba-713cafeae1dd"
   },
   "source": [
    "Because python doesn't know that our list only contains integers, it has to check everytime it adds values together whether the objects actually support addition.<br>\n",
    "And thats why `sum` takes \"so long\""
   ]
  },
  {
   "cell_type": "markdown",
   "metadata": {
    "id": "93f28ec8-f529-4071-bf25-b19e378c3764"
   },
   "source": [
    "If we could tell the interpreter that we are only adding integers, we could skip all that typechecking and speed up the operation.<br> \n",
    "For this purpose, `numpy` was invented.  \n",
    "<br>\n",
    "\n",
    "To use numpy we have to import it. The import is usually aliased as `np` so we have to type less later on. Aliasing things is only recommended if it is well established in the community of the respective package."
   ]
  },
  {
   "cell_type": "code",
   "execution_count": 3,
   "metadata": {
    "id": "78573e27-b8b9-4519-9bc5-9864c23f2f6d"
   },
   "outputs": [],
   "source": [
    "import numpy as np"
   ]
  },
  {
   "cell_type": "markdown",
   "metadata": {
    "id": "b3b034a8-8078-4683-be9b-93de00309b15"
   },
   "source": [
    "Numpy's standard datatype is the `ndarray` (which stands for n-dimensional array). In the simplest case, numpy array can be created from list."
   ]
  },
  {
   "cell_type": "code",
   "execution_count": 4,
   "metadata": {
    "colab": {
     "base_uri": "https://localhost:8080/"
    },
    "id": "3724ca4a-1760-4732-a077-6101e59612c9",
    "outputId": "4facb0d7-0f3e-46f9-f454-98d3177c8463"
   },
   "outputs": [
    {
     "data": {
      "text/plain": [
       "array([192, 187, 192, ..., 180, 165, 184])"
      ]
     },
     "execution_count": 4,
     "metadata": {},
     "output_type": "execute_result"
    }
   ],
   "source": [
    "measurements_array = np.array(measurements)\n",
    "measurements_array"
   ]
  },
  {
   "cell_type": "markdown",
   "metadata": {
    "id": "99bf4bb5-bec9-4c51-8fb4-87a930aa5958"
   },
   "source": [
    "<br>\n",
    "\n",
    "Now we can use the `mean` function provided by Numpy"
   ]
  },
  {
   "cell_type": "code",
   "execution_count": 5,
   "metadata": {
    "colab": {
     "base_uri": "https://localhost:8080/"
    },
    "id": "b6159500-078d-4eac-b9a5-6d89b072d73c",
    "outputId": "075ba447-8f4f-465b-b8a2-a61568e1b0fb"
   },
   "outputs": [
    {
     "name": "stdout",
     "output_type": "stream",
     "text": [
      "875 µs ± 31.7 µs per loop (mean ± std. dev. of 7 runs, 1000 loops each)\n"
     ]
    }
   ],
   "source": [
    "numpy_time = %timeit -o np.mean(measurements_array)"
   ]
  },
  {
   "cell_type": "markdown",
   "metadata": {
    "id": "2fad6994-735c-4027-a092-0443ffd90a19"
   },
   "source": [
    "As we can see, using Numpy significantly speeds up our computation, making it"
   ]
  },
  {
   "cell_type": "code",
   "execution_count": 6,
   "metadata": {
    "id": "e0e33869-5f81-4a8d-a19c-43eb7edf0c31"
   },
   "outputs": [
    {
     "name": "stdout",
     "output_type": "stream",
     "text": [
      "7.832971216504515 times faster\n"
     ]
    }
   ],
   "source": [
    "print(f\"{list_time.average / numpy_time.average} times faster\")"
   ]
  },
  {
   "cell_type": "markdown",
   "metadata": {
    "id": "8bbe534b-3663-4130-b231-05d128aebaba"
   },
   "source": [
    "# Numpy Arrays\n"
   ]
  },
  {
   "cell_type": "code",
   "execution_count": 7,
   "metadata": {
    "id": "a14c4ab8-6674-440b-876e-db1b96f1cf57"
   },
   "outputs": [],
   "source": [
    "import numpy as np"
   ]
  },
  {
   "cell_type": "markdown",
   "metadata": {
    "id": "a632e8c9-16ce-4de2-b86d-a793490c9fe1"
   },
   "source": [
    "<br>\n",
    "\n",
    "# How to create Arrays\n",
    "<br>\n",
    "\n",
    "## from lists\n",
    "As we already saw we can create Numpy Arrays from lists"
   ]
  },
  {
   "cell_type": "code",
   "execution_count": 8,
   "metadata": {
    "colab": {
     "base_uri": "https://localhost:8080/"
    },
    "id": "51342409-31be-4be2-afbe-384df18adf78",
    "outputId": "fabe27de-a926-4e2f-ea75-00f7bc206319"
   },
   "outputs": [
    {
     "data": {
      "text/plain": [
       "array([10,  2, 35])"
      ]
     },
     "execution_count": 8,
     "metadata": {},
     "output_type": "execute_result"
    }
   ],
   "source": [
    "np.array([10,2,35])"
   ]
  },
  {
   "cell_type": "markdown",
   "metadata": {
    "id": "c50cdc8a-72fe-458a-8fcb-eed3881956c9"
   },
   "source": [
    "<br>\n",
    "\n",
    "## using Numpy functions\n",
    "whenever we don't want to create an array from specific values like `10, 2, 35` we can use Numpy's utility functions.<br>\n",
    "These are also faster than Pythons built-in functions.\n",
    "\n",
    "#### `np.arange`\n",
    "works like `range`"
   ]
  },
  {
   "cell_type": "code",
   "execution_count": 9,
   "metadata": {
    "colab": {
     "base_uri": "https://localhost:8080/"
    },
    "id": "9b2d13c6-5568-47b2-9505-ae45044000f7",
    "outputId": "0759ded3-4315-4b1a-c8b7-1dc1ffbefc61"
   },
   "outputs": [
    {
     "data": {
      "text/plain": [
       "[0, 1, 2, 3, 4]"
      ]
     },
     "execution_count": 9,
     "metadata": {},
     "output_type": "execute_result"
    }
   ],
   "source": [
    "list(range(5))"
   ]
  },
  {
   "cell_type": "code",
   "execution_count": 10,
   "metadata": {
    "colab": {
     "base_uri": "https://localhost:8080/"
    },
    "id": "fd734096-ba63-44eb-9ffe-308da3282e06",
    "outputId": "0a5fbc44-16a2-4ad2-f876-1b115edaccfb"
   },
   "outputs": [
    {
     "data": {
      "text/plain": [
       "array([ 2,  4,  6,  8, 10, 12])"
      ]
     },
     "execution_count": 10,
     "metadata": {},
     "output_type": "execute_result"
    }
   ],
   "source": [
    "np.arange(start=2, stop=14, step=2)"
   ]
  },
  {
   "cell_type": "markdown",
   "metadata": {
    "id": "12f220d5-33ae-4519-b4b9-4caa2ab81628"
   },
   "source": [
    "but is faster"
   ]
  },
  {
   "cell_type": "code",
   "execution_count": 11,
   "metadata": {
    "colab": {
     "base_uri": "https://localhost:8080/"
    },
    "id": "a56a6e6d-b859-422d-850e-8919ba5ac8ce",
    "outputId": "beac54ac-00ff-4fc1-ae6b-7b4432ba9536"
   },
   "outputs": [
    {
     "name": "stdout",
     "output_type": "stream",
     "text": [
      "80.4 ms ± 1.35 ms per loop (mean ± std. dev. of 7 runs, 10 loops each)\n"
     ]
    }
   ],
   "source": [
    "built_in_time = %timeit -o np.array(range(1_000_000))"
   ]
  },
  {
   "cell_type": "code",
   "execution_count": 12,
   "metadata": {
    "colab": {
     "base_uri": "https://localhost:8080/"
    },
    "id": "3184d7e6-7a43-4ab8-9bbb-37d1f20ccf0b",
    "outputId": "a89b2d3c-3c07-480d-e525-b6023b770b12"
   },
   "outputs": [
    {
     "name": "stdout",
     "output_type": "stream",
     "text": [
      "1.06 ms ± 13 µs per loop (mean ± std. dev. of 7 runs, 1000 loops each)\n"
     ]
    }
   ],
   "source": [
    "numpy_time = %timeit -o np.arange(1_000_000)"
   ]
  },
  {
   "cell_type": "code",
   "execution_count": 13,
   "metadata": {
    "id": "c8362158-5339-4d45-b143-29546f1a47b5"
   },
   "outputs": [],
   "source": [
    "# print(f\"Numpy is {built_in_time.average/numpy_time.average} times faster\")"
   ]
  },
  {
   "cell_type": "markdown",
   "metadata": {
    "id": "5595fd45-2dd3-4031-9de3-62a9a7b4e118"
   },
   "source": [
    "<br>\n",
    "\n",
    "#### `np.linspace`\n",
    "Creating an array with a certain number of values in a certain interval."
   ]
  },
  {
   "cell_type": "code",
   "execution_count": 14,
   "metadata": {
    "colab": {
     "base_uri": "https://localhost:8080/"
    },
    "id": "7583a8d8-2de1-4f4d-9b6d-849c1cddb266",
    "outputId": "01ef0087-ecb7-4562-a9fb-d5c02e4ffb6c"
   },
   "outputs": [
    {
     "data": {
      "text/plain": [
       "array([-5.  , -3.75, -2.5 , -1.25,  0.  ,  1.25,  2.5 ,  3.75,  5.  ])"
      ]
     },
     "execution_count": 14,
     "metadata": {},
     "output_type": "execute_result"
    }
   ],
   "source": [
    "np.linspace(start=-5, stop=5, num=9)"
   ]
  },
  {
   "cell_type": "markdown",
   "metadata": {
    "id": "d4359eae-6be5-4309-9193-752966258612"
   },
   "source": [
    "<br>\n",
    "\n",
    "#### `np.zeros`\n",
    "Creating an array with only zeros."
   ]
  },
  {
   "cell_type": "code",
   "execution_count": 15,
   "metadata": {
    "colab": {
     "base_uri": "https://localhost:8080/"
    },
    "id": "44772eb1-1532-4a52-aa68-531c6b233aa6",
    "outputId": "f3c62d80-c39e-48c4-bedf-ded260def301"
   },
   "outputs": [
    {
     "data": {
      "text/plain": [
       "array([0., 0., 0.])"
      ]
     },
     "execution_count": 15,
     "metadata": {},
     "output_type": "execute_result"
    }
   ],
   "source": [
    "np.zeros(3)"
   ]
  },
  {
   "cell_type": "markdown",
   "metadata": {
    "id": "898956e7-dd00-4cfd-a912-bcfee5e95ca6"
   },
   "source": [
    "`np.zeros` takes a `shape` argument that lets us create multidimensional arrays."
   ]
  },
  {
   "cell_type": "code",
   "execution_count": 16,
   "metadata": {
    "colab": {
     "base_uri": "https://localhost:8080/"
    },
    "id": "7dfb05bc-7853-429b-8b26-cb59885c09f0",
    "outputId": "4d3616f7-7c2d-47b2-d8ce-43ef6c405d91"
   },
   "outputs": [
    {
     "data": {
      "text/plain": [
       "array([[[0., 0., 0.],\n",
       "        [0., 0., 0.],\n",
       "        [0., 0., 0.],\n",
       "        [0., 0., 0.]],\n",
       "\n",
       "       [[0., 0., 0.],\n",
       "        [0., 0., 0.],\n",
       "        [0., 0., 0.],\n",
       "        [0., 0., 0.]]])"
      ]
     },
     "execution_count": 16,
     "metadata": {},
     "output_type": "execute_result"
    }
   ],
   "source": [
    "np.zeros((2, 4, 3))"
   ]
  },
  {
   "cell_type": "markdown",
   "metadata": {
    "id": "0e2fd4d1-0eaf-46e1-9db7-1037a8b498dd"
   },
   "source": [
    "<br>\n",
    "\n",
    "#### the same goes for `np.ones`, `np.empty` and `np.full`\n",
    "#### `np.ones`"
   ]
  },
  {
   "cell_type": "code",
   "execution_count": 17,
   "metadata": {
    "colab": {
     "base_uri": "https://localhost:8080/"
    },
    "id": "0756f8a9-d174-4430-8623-3f3c3c790c3d",
    "outputId": "1d89f202-043a-43e9-d179-387ddc13fe2e"
   },
   "outputs": [
    {
     "data": {
      "text/plain": [
       "array([[[1., 1., 1.],\n",
       "        [1., 1., 1.],\n",
       "        [1., 1., 1.],\n",
       "        [1., 1., 1.]],\n",
       "\n",
       "       [[1., 1., 1.],\n",
       "        [1., 1., 1.],\n",
       "        [1., 1., 1.],\n",
       "        [1., 1., 1.]]])"
      ]
     },
     "execution_count": 17,
     "metadata": {},
     "output_type": "execute_result"
    }
   ],
   "source": [
    "np.ones(shape=(2, 4, 3))"
   ]
  },
  {
   "cell_type": "markdown",
   "metadata": {
    "id": "50310f51-373a-4fdb-b3fc-380616f4d755"
   },
   "source": [
    "#### `np.empty`\n",
    "Corresponds to whatever was left in memory. Faster than `np.ones` and `np.zeros`"
   ]
  },
  {
   "cell_type": "code",
   "execution_count": 18,
   "metadata": {
    "colab": {
     "base_uri": "https://localhost:8080/"
    },
    "id": "84e677f5-1d5e-4683-ba0e-33095bfc22e6",
    "outputId": "6ea5b6cc-5670-4d04-c679-9f66e6609090"
   },
   "outputs": [
    {
     "data": {
      "text/plain": [
       "array([[[1., 1., 1.],\n",
       "        [1., 1., 1.],\n",
       "        [1., 1., 1.],\n",
       "        [1., 1., 1.]],\n",
       "\n",
       "       [[1., 1., 1.],\n",
       "        [1., 1., 1.],\n",
       "        [1., 1., 1.],\n",
       "        [1., 1., 1.]]])"
      ]
     },
     "execution_count": 18,
     "metadata": {},
     "output_type": "execute_result"
    }
   ],
   "source": [
    "np.empty(shape=(2, 4, 3))"
   ]
  },
  {
   "cell_type": "code",
   "execution_count": 19,
   "metadata": {
    "colab": {
     "base_uri": "https://localhost:8080/",
     "height": 282
    },
    "id": "fe31eec0-0bf9-48c9-ae2b-fd2d02db7dfa",
    "outputId": "4867c6b5-7540-4c20-bb86-9a344a2e5322"
   },
   "outputs": [
    {
     "name": "stdout",
     "output_type": "stream",
     "text": [
      "784 ns ± 8.71 ns per loop (mean ± std. dev. of 7 runs, 1000000 loops each)\n",
      "17.8 µs ± 252 ns per loop (mean ± std. dev. of 7 runs, 100000 loops each)\n",
      "\n",
      "empty is 22.735242449907876 times faster\n"
     ]
    }
   ],
   "source": [
    "empty_time = %timeit -o np.empty(shape=100_000)\n",
    "ones_time = %timeit -o np.ones(shape=100_000)\n",
    "\n",
    "print(f\"\\nempty is {ones_time.average/empty_time.average} times faster\")"
   ]
  },
  {
   "cell_type": "markdown",
   "metadata": {
    "id": "79d54263-8e61-4d61-9045-5d46b69b162b"
   },
   "source": [
    "<br>\n",
    "\n",
    "#### `np.full`\n",
    "creates an array filled with the same value"
   ]
  },
  {
   "cell_type": "code",
   "execution_count": 20,
   "metadata": {
    "id": "f4c9d052-427f-4e39-a3d1-5994fd422a7f"
   },
   "outputs": [
    {
     "data": {
      "text/plain": [
       "array([[[42, 42, 42],\n",
       "        [42, 42, 42],\n",
       "        [42, 42, 42],\n",
       "        [42, 42, 42]],\n",
       "\n",
       "       [[42, 42, 42],\n",
       "        [42, 42, 42],\n",
       "        [42, 42, 42],\n",
       "        [42, 42, 42]]])"
      ]
     },
     "execution_count": 20,
     "metadata": {},
     "output_type": "execute_result"
    }
   ],
   "source": [
    "np.full(shape=(2, 4, 3), fill_value=42)"
   ]
  },
  {
   "cell_type": "markdown",
   "metadata": {
    "id": "ccbb0e87-66f2-461e-952d-6b6620da7e04"
   },
   "source": [
    "<br>\n",
    "\n",
    "### Exercise\n",
    "Create a `3*3 array` that solely consists of `True`."
   ]
  },
  {
   "cell_type": "markdown",
   "metadata": {
    "id": "532e610b-ad99-4236-b65d-14d48d5a2ea0"
   },
   "source": [
    "<br>\n",
    "\n",
    "## Anatomy of arrays\n",
    "\n",
    "#### `dtype`\n",
    "Returns data type of the array. Arrays can contain bools, ints, unsigned ints, floats or complex numbers of various byte sizes.<br>\n",
    "They can also store strings or Python objects, but that has very few use cases."
   ]
  },
  {
   "cell_type": "code",
   "execution_count": 21,
   "metadata": {
    "id": "41231c04-2c52-4bdc-b040-53e0fe177220"
   },
   "outputs": [
    {
     "data": {
      "text/plain": [
       "(array([0, 1, 2, 3, 4]), dtype('int32'))"
      ]
     },
     "execution_count": 21,
     "metadata": {},
     "output_type": "execute_result"
    }
   ],
   "source": [
    "values = [0, 1, 2, 3, 4]\n",
    "int_arr = np.array(values, dtype='int')\n",
    "int_arr, int_arr.dtype"
   ]
  },
  {
   "cell_type": "markdown",
   "metadata": {
    "id": "8e10658b-5de8-451e-b42e-76b3ec27773a"
   },
   "source": [
    "If the dtype does not match the given values, numpy will cast everything to that data type."
   ]
  },
  {
   "cell_type": "code",
   "execution_count": 22,
   "metadata": {
    "id": "29d0836e-8ceb-4c57-a390-c6060f1b4e5b"
   },
   "outputs": [
    {
     "data": {
      "text/plain": [
       "(array([False,  True,  True,  True,  True]), dtype('bool'))"
      ]
     },
     "execution_count": 22,
     "metadata": {},
     "output_type": "execute_result"
    }
   ],
   "source": [
    "bool_arr = np.array(values, dtype='bool')\n",
    "bool_arr, bool_arr.dtype"
   ]
  },
  {
   "cell_type": "markdown",
   "metadata": {
    "id": "a87372c4-3d43-40be-9e07-314d7f661b34"
   },
   "source": [
    "If no explicit data type is given, numpy will choose the \"smallest common denominator\". <br>\n",
    "In the following example, everything becomes a float, as ints can be represented as floats, but not vice versa."
   ]
  },
  {
   "cell_type": "code",
   "execution_count": 23,
   "metadata": {
    "id": "ae223c47-229c-4752-aee5-6206f55ea423"
   },
   "outputs": [
    {
     "data": {
      "text/plain": [
       "(array([0. , 1. , 2.5, 3. , 4. ]), dtype('float64'))"
      ]
     },
     "execution_count": 23,
     "metadata": {},
     "output_type": "execute_result"
    }
   ],
   "source": [
    "values = [0, 1, 2.5, 3, 4]\n",
    "float_arr = np.array(values)\n",
    "float_arr, float_arr.dtype"
   ]
  },
  {
   "cell_type": "markdown",
   "metadata": {
    "id": "d2fe0a8a-30a2-4c66-8b50-3616f15a9044"
   },
   "source": [
    "However, once the data type is set, everything will be coerced to that type.'"
   ]
  },
  {
   "cell_type": "code",
   "execution_count": 24,
   "metadata": {
    "id": "f23004e7-4517-41ed-b8ae-a6f9e2bba38b"
   },
   "outputs": [
    {
     "data": {
      "text/plain": [
       "array([1, 1, 2, 3, 4])"
      ]
     },
     "execution_count": 24,
     "metadata": {},
     "output_type": "execute_result"
    }
   ],
   "source": [
    "values = [0, 1, 2, 3, 4]\n",
    "int_arr = np.array(values, dtype='int')\n",
    "\n",
    "int_arr[0] = 1.5\n",
    "int_arr"
   ]
  },
  {
   "cell_type": "markdown",
   "metadata": {
    "id": "aa2dc508-e33d-48d2-a0a0-0cf906310723"
   },
   "source": [
    "Numpy's non-Python data types force us to again think about problems like overflow etc."
   ]
  },
  {
   "cell_type": "code",
   "execution_count": 25,
   "metadata": {
    "id": "30d04054-d298-484a-9d2b-79a1e9102e1c"
   },
   "outputs": [
    {
     "data": {
      "text/plain": [
       "(array([0, 1, 2, 3, 4], dtype=uint8), dtype('uint8'))"
      ]
     },
     "execution_count": 25,
     "metadata": {},
     "output_type": "execute_result"
    }
   ],
   "source": [
    "values = [0, 1, 2, 3, 4]\n",
    "uint_arr = np.array(values, dtype='uint8')\n",
    "uint_arr, uint_arr.dtype"
   ]
  },
  {
   "cell_type": "code",
   "execution_count": 26,
   "metadata": {
    "id": "ec6c835b-97da-4809-bb72-5d9224b31d3e"
   },
   "outputs": [
    {
     "data": {
      "text/plain": [
       "array([0, 0, 2, 3, 4], dtype=uint8)"
      ]
     },
     "execution_count": 26,
     "metadata": {},
     "output_type": "execute_result"
    }
   ],
   "source": [
    "uint_arr[1] += 255\n",
    "uint_arr"
   ]
  },
  {
   "cell_type": "markdown",
   "metadata": {
    "id": "8fb174d2-35bd-4562-9cc9-da24d0074cd8"
   },
   "source": [
    "...and can lead to some problems when comparing them to standard python types"
   ]
  },
  {
   "cell_type": "code",
   "execution_count": 27,
   "metadata": {
    "id": "58f2cc3b-4a96-4279-bc2f-3157a63a3e10"
   },
   "outputs": [
    {
     "name": "stdout",
     "output_type": "stream",
     "text": [
      "0.19999999999999996 == 0.20000000298023224 -> False\n",
      "<class 'float'>\n",
      "<class 'numpy.float32'>\n"
     ]
    }
   ],
   "source": [
    "val = 1.2 - 1.0\n",
    "arr = np.array([val], dtype=np.float32)\n",
    "print(f'{val} == {arr[0]} -> {val == arr[0]}')\n",
    "\n",
    "print(type(val))\n",
    "print(type(arr[0]))"
   ]
  },
  {
   "cell_type": "markdown",
   "metadata": {
    "id": "0696dc3a-95e6-4e4b-8acd-12389a0232bc"
   },
   "source": [
    "Numpy provides a function for these cases"
   ]
  },
  {
   "cell_type": "code",
   "execution_count": 28,
   "metadata": {
    "id": "861b7d43-c26d-4f5f-8f9a-a5f88d53919d"
   },
   "outputs": [
    {
     "data": {
      "text/plain": [
       "True"
      ]
     },
     "execution_count": 28,
     "metadata": {},
     "output_type": "execute_result"
    }
   ],
   "source": [
    "np.isclose(val, arr[0])"
   ]
  },
  {
   "cell_type": "markdown",
   "metadata": {
    "id": "a667fdd5-928b-4e40-afbe-a59a869a8315"
   },
   "source": [
    "[Why are floating point calculations inaccurate](http://effbot.org/pyfaq/why-are-floating-point-calculations-so-inaccurate.htm)"
   ]
  },
  {
   "cell_type": "markdown",
   "metadata": {
    "id": "dd544592-271e-455a-baa3-93372bd3388e"
   },
   "source": [
    "<br>\n",
    "\n",
    "### `shape` and `ndim`\n",
    "`.shape` is very important for keeping track of arrays with more than one dimension. It is a tuple with the number of elements in each dimension.<br>\n",
    "`.ndim` is just the number of dimensions in total. \n",
    "\n",
    "### 1D"
   ]
  },
  {
   "cell_type": "code",
   "execution_count": 29,
   "metadata": {
    "id": "1fb37d7a-fe22-4b69-8282-a66d48fab0bc"
   },
   "outputs": [
    {
     "data": {
      "text/plain": [
       "array([1, 2, 3, 4])"
      ]
     },
     "execution_count": 29,
     "metadata": {},
     "output_type": "execute_result"
    }
   ],
   "source": [
    "values = [1, 2, 3, 4]\n",
    "one_dim_arr = np.array(values)\n",
    "one_dim_arr"
   ]
  },
  {
   "cell_type": "code",
   "execution_count": 30,
   "metadata": {
    "id": "5cb00657-ff56-4e6f-b741-1f73300c3e9e"
   },
   "outputs": [
    {
     "data": {
      "text/plain": [
       "(4,)"
      ]
     },
     "execution_count": 30,
     "metadata": {},
     "output_type": "execute_result"
    }
   ],
   "source": [
    "one_dim_arr.shape"
   ]
  },
  {
   "cell_type": "code",
   "execution_count": 31,
   "metadata": {
    "id": "c589c04a-b2c1-443c-a41d-c8cd4139c4ad"
   },
   "outputs": [
    {
     "data": {
      "text/plain": [
       "1"
      ]
     },
     "execution_count": 31,
     "metadata": {},
     "output_type": "execute_result"
    }
   ],
   "source": [
    "one_dim_arr.ndim"
   ]
  },
  {
   "cell_type": "markdown",
   "metadata": {
    "id": "26c82f65-e954-4964-9187-636d000ff10b"
   },
   "source": [
    "### 2D"
   ]
  },
  {
   "cell_type": "code",
   "execution_count": 32,
   "metadata": {
    "id": "52db1028-c998-40ad-9e73-f0e518a0948b"
   },
   "outputs": [
    {
     "data": {
      "text/plain": [
       "array([[1, 2, 3, 4, 5],\n",
       "       [1, 2, 3, 4, 1],\n",
       "       [1, 2, 3, 4, 2]])"
      ]
     },
     "execution_count": 32,
     "metadata": {},
     "output_type": "execute_result"
    }
   ],
   "source": [
    "values = [[1, 2, 3, 4, 5],\n",
    "          [1, 2, 3, 4, 1],\n",
    "          [1, 2, 3, 4, 2]]\n",
    "two_dim_arr = np.array(values)\n",
    "two_dim_arr"
   ]
  },
  {
   "cell_type": "code",
   "execution_count": 33,
   "metadata": {
    "id": "ddf6ea4a-54b0-4bb0-bdb7-920194bc2ee8"
   },
   "outputs": [
    {
     "data": {
      "text/plain": [
       "(3, 5)"
      ]
     },
     "execution_count": 33,
     "metadata": {},
     "output_type": "execute_result"
    }
   ],
   "source": [
    "two_dim_arr.shape"
   ]
  },
  {
   "cell_type": "code",
   "execution_count": 34,
   "metadata": {
    "id": "90b85cff-1d78-48d5-addc-1bbaa082e6f2"
   },
   "outputs": [
    {
     "data": {
      "text/plain": [
       "2"
      ]
     },
     "execution_count": 34,
     "metadata": {},
     "output_type": "execute_result"
    }
   ],
   "source": [
    "two_dim_arr.ndim"
   ]
  },
  {
   "cell_type": "code",
   "execution_count": 35,
   "metadata": {
    "id": "2afd6f9a-d48a-4970-90ce-af381fa49567"
   },
   "outputs": [
    {
     "data": {
      "text/plain": [
       "2"
      ]
     },
     "execution_count": 35,
     "metadata": {},
     "output_type": "execute_result"
    }
   ],
   "source": [
    "two_dim_arr[1,1]"
   ]
  },
  {
   "cell_type": "code",
   "execution_count": 36,
   "metadata": {
    "id": "c81419e1-3fd4-4407-82f8-81b662e4d66f"
   },
   "outputs": [
    {
     "data": {
      "text/plain": [
       "array([[ 1,  2,  3,  4,  5],\n",
       "       [ 1, 10,  3,  4,  1],\n",
       "       [ 1,  2,  3,  4,  2]])"
      ]
     },
     "execution_count": 36,
     "metadata": {},
     "output_type": "execute_result"
    }
   ],
   "source": [
    "two_dim_arr[1,1] = 10\n",
    "two_dim_arr"
   ]
  },
  {
   "cell_type": "markdown",
   "metadata": {
    "id": "e0b4ade1-aa77-4b6f-ab21-1e7577b86152"
   },
   "source": [
    "### 3D"
   ]
  },
  {
   "cell_type": "code",
   "execution_count": 37,
   "metadata": {
    "id": "36a8d633-4c43-4823-a33f-06b1fdc32658"
   },
   "outputs": [
    {
     "data": {
      "text/plain": [
       "array([[[1, 2, 3, 4],\n",
       "        [1, 2, 3, 4],\n",
       "        [1, 2, 3, 4]],\n",
       "\n",
       "       [[1, 2, 3, 4],\n",
       "        [1, 2, 3, 4],\n",
       "        [1, 2, 3, 4]],\n",
       "\n",
       "       [[1, 2, 3, 4],\n",
       "        [1, 2, 3, 4],\n",
       "        [1, 2, 3, 4]],\n",
       "\n",
       "       [[1, 2, 3, 4],\n",
       "        [1, 2, 3, 4],\n",
       "        [1, 2, 3, 4]],\n",
       "\n",
       "       [[1, 2, 3, 4],\n",
       "        [1, 2, 3, 4],\n",
       "        [1, 2, 3, 4]],\n",
       "\n",
       "       [[1, 2, 3, 4],\n",
       "        [1, 2, 3, 4],\n",
       "        [1, 2, 3, 4]]])"
      ]
     },
     "execution_count": 37,
     "metadata": {},
     "output_type": "execute_result"
    }
   ],
   "source": [
    "values = [[[1, 2, 3, 4]] * 3] * 6\n",
    "three_dim_arr = np.array(values)\n",
    "three_dim_arr"
   ]
  },
  {
   "cell_type": "code",
   "execution_count": 38,
   "metadata": {
    "id": "af425a73-c899-4bb6-a8a8-f65329ace05a"
   },
   "outputs": [
    {
     "data": {
      "text/plain": [
       "(6, 3, 4)"
      ]
     },
     "execution_count": 38,
     "metadata": {},
     "output_type": "execute_result"
    }
   ],
   "source": [
    "three_dim_arr.shape"
   ]
  },
  {
   "cell_type": "code",
   "execution_count": 39,
   "metadata": {
    "id": "c4c85985-2274-464c-a454-1ffb3304ab66"
   },
   "outputs": [
    {
     "data": {
      "text/plain": [
       "3"
      ]
     },
     "execution_count": 39,
     "metadata": {},
     "output_type": "execute_result"
    }
   ],
   "source": [
    "three_dim_arr.ndim"
   ]
  },
  {
   "cell_type": "markdown",
   "metadata": {
    "id": "f36aebaf-0b4e-4373-9db0-e12fa0775dde"
   },
   "source": [
    "<br>\n",
    "\n",
    "### Other attributes"
   ]
  },
  {
   "cell_type": "code",
   "execution_count": 40,
   "metadata": {
    "id": "e65d5029-bc74-4b47-9f6d-86c77b5b9e4b"
   },
   "outputs": [
    {
     "data": {
      "text/plain": [
       "array([[ 1,  2,  3,  4,  5],\n",
       "       [ 1, 10,  3,  4,  1],\n",
       "       [ 1,  2,  3,  4,  2]])"
      ]
     },
     "execution_count": 40,
     "metadata": {},
     "output_type": "execute_result"
    }
   ],
   "source": [
    "two_dim_arr"
   ]
  },
  {
   "cell_type": "code",
   "execution_count": 41,
   "metadata": {
    "id": "de67a25e-54c0-4f16-8c08-5bc6d634e2e6"
   },
   "outputs": [
    {
     "data": {
      "text/plain": [
       "array([[ 1,  1,  1],\n",
       "       [ 2, 10,  2],\n",
       "       [ 3,  3,  3],\n",
       "       [ 4,  4,  4],\n",
       "       [ 5,  1,  2]])"
      ]
     },
     "execution_count": 41,
     "metadata": {},
     "output_type": "execute_result"
    }
   ],
   "source": [
    "two_dim_arr.T"
   ]
  },
  {
   "cell_type": "code",
   "execution_count": 42,
   "metadata": {
    "id": "a69856cf-475a-4bd3-ae11-1a445cc02257"
   },
   "outputs": [
    {
     "name": "stdout",
     "output_type": "stream",
     "text": [
      "['T', '__abs__', '__add__', '__and__', '__array__', '__array_finalize__', '__array_function__', '__array_interface__', '__array_prepare__', '__array_priority__', '__array_struct__', '__array_ufunc__', '__array_wrap__', '__bool__', '__class__', '__complex__', '__contains__', '__copy__', '__deepcopy__', '__delattr__', '__delitem__', '__dir__', '__divmod__', '__doc__', '__eq__', '__float__', '__floordiv__', '__format__', '__ge__', '__getattribute__', '__getitem__', '__gt__', '__hash__', '__iadd__', '__iand__', '__ifloordiv__', '__ilshift__', '__imatmul__', '__imod__', '__imul__', '__index__', '__init__', '__init_subclass__', '__int__', '__invert__', '__ior__', '__ipow__', '__irshift__', '__isub__', '__iter__', '__itruediv__', '__ixor__', '__le__', '__len__', '__lshift__', '__lt__', '__matmul__', '__mod__', '__mul__', '__ne__', '__neg__', '__new__', '__or__', '__pos__', '__pow__', '__radd__', '__rand__', '__rdivmod__', '__reduce__', '__reduce_ex__', '__repr__', '__rfloordiv__', '__rlshift__', '__rmatmul__', '__rmod__', '__rmul__', '__ror__', '__rpow__', '__rrshift__', '__rshift__', '__rsub__', '__rtruediv__', '__rxor__', '__setattr__', '__setitem__', '__setstate__', '__sizeof__', '__str__', '__sub__', '__subclasshook__', '__truediv__', '__xor__', 'all', 'any', 'argmax', 'argmin', 'argpartition', 'argsort', 'astype', 'base', 'byteswap', 'choose', 'clip', 'compress', 'conj', 'conjugate', 'copy', 'ctypes', 'cumprod', 'cumsum', 'data', 'diagonal', 'dot', 'dtype', 'dump', 'dumps', 'fill', 'flags', 'flat', 'flatten', 'getfield', 'imag', 'item', 'itemset', 'itemsize', 'max', 'mean', 'min', 'nbytes', 'ndim', 'newbyteorder', 'nonzero', 'partition', 'prod', 'ptp', 'put', 'ravel', 'real', 'repeat', 'reshape', 'resize', 'round', 'searchsorted', 'setfield', 'setflags', 'shape', 'size', 'sort', 'squeeze', 'std', 'strides', 'sum', 'swapaxes', 'take', 'tobytes', 'tofile', 'tolist', 'tostring', 'trace', 'transpose', 'var', 'view']\n"
     ]
    }
   ],
   "source": [
    "print(dir(two_dim_arr))"
   ]
  },
  {
   "cell_type": "markdown",
   "metadata": {
    "id": "2976b59c-2e4f-4d72-b561-df9f748d75ca"
   },
   "source": [
    "### Repeating values"
   ]
  },
  {
   "cell_type": "markdown",
   "metadata": {
    "id": "9eb2662d-a2d6-49ea-a613-821e6c72873d"
   },
   "source": [
    "``np.repeat`` repeats elements of an array:"
   ]
  },
  {
   "cell_type": "code",
   "execution_count": 43,
   "metadata": {
    "id": "446308ec-78f9-4569-9973-a5005b5d1e65"
   },
   "outputs": [
    {
     "data": {
      "text/plain": [
       "array([3, 3, 3, 3, 3])"
      ]
     },
     "execution_count": 43,
     "metadata": {},
     "output_type": "execute_result"
    }
   ],
   "source": [
    "np.repeat(3, 5)"
   ]
  },
  {
   "cell_type": "code",
   "execution_count": 44,
   "metadata": {
    "id": "33c6314a-375f-4beb-b169-af7a375ecccf"
   },
   "outputs": [
    {
     "name": "stdout",
     "output_type": "stream",
     "text": [
      "29.3 µs ± 96.2 ns per loop (mean ± std. dev. of 7 runs, 100000 loops each)\n"
     ]
    }
   ],
   "source": [
    "%%timeit -n100000\n",
    "np.array([3]*500)"
   ]
  },
  {
   "cell_type": "code",
   "execution_count": 45,
   "metadata": {
    "id": "ab6855ed-28a4-4ad0-a12e-73eeff300569"
   },
   "outputs": [
    {
     "name": "stdout",
     "output_type": "stream",
     "text": [
      "4.54 µs ± 46.5 ns per loop (mean ± std. dev. of 7 runs, 100000 loops each)\n"
     ]
    }
   ],
   "source": [
    "%%timeit\n",
    "np.repeat(3, 500)"
   ]
  },
  {
   "cell_type": "code",
   "execution_count": 46,
   "metadata": {
    "id": "cee6aeb4-54eb-4e3a-aafa-51942985e2db"
   },
   "outputs": [
    {
     "data": {
      "text/plain": [
       "array([1, 1, 2, 2, 3, 3, 4, 4])"
      ]
     },
     "execution_count": 46,
     "metadata": {},
     "output_type": "execute_result"
    }
   ],
   "source": [
    "np.repeat([[1,2],[3,4]], 2)"
   ]
  },
  {
   "cell_type": "markdown",
   "metadata": {
    "id": "34b7c4e1-005c-43c5-a00b-1a50e79b69d1"
   },
   "source": [
    "`np.tile` is another way of repeating values using NumPy."
   ]
  },
  {
   "cell_type": "code",
   "execution_count": 47,
   "metadata": {
    "id": "b6e33ad7-bade-40db-9e36-fb08ba827449"
   },
   "outputs": [
    {
     "name": "stdout",
     "output_type": "stream",
     "text": [
      "Repeat: [1 1 1 2 2 2 3 3 3]\n",
      "Tile: [1 2 3 1 2 3 1 2 3]\n"
     ]
    }
   ],
   "source": [
    "print('Repeat:', np.repeat([1, 2, 3], 3))\n",
    "print('Tile:', np.tile([1, 2, 3], 3))"
   ]
  },
  {
   "cell_type": "markdown",
   "metadata": {
    "id": "1252cff4-195a-4ba5-965d-37bb640aa336"
   },
   "source": [
    "### Reshape"
   ]
  },
  {
   "cell_type": "code",
   "execution_count": 48,
   "metadata": {
    "id": "a55db05e-b085-48d7-a7b1-3b16a7c75542"
   },
   "outputs": [
    {
     "name": "stdout",
     "output_type": "stream",
     "text": [
      "(12,)\n"
     ]
    },
    {
     "data": {
      "text/plain": [
       "array([ 2,  3,  4,  5,  6,  7,  8,  9, 10, 11, 12, 13])"
      ]
     },
     "execution_count": 48,
     "metadata": {},
     "output_type": "execute_result"
    }
   ],
   "source": [
    "a = np.arange(start=2, stop=14)\n",
    "print(a.shape)\n",
    "a"
   ]
  },
  {
   "cell_type": "code",
   "execution_count": 49,
   "metadata": {
    "id": "7fba28f5-be6f-4185-88d9-d24b9df33db2"
   },
   "outputs": [
    {
     "data": {
      "text/plain": [
       "array([[ 2,  3,  4,  5],\n",
       "       [ 6,  7,  8,  9],\n",
       "       [10, 11, 12, 13]])"
      ]
     },
     "execution_count": 49,
     "metadata": {},
     "output_type": "execute_result"
    }
   ],
   "source": [
    "b = a.reshape(3, 4)\n",
    "b"
   ]
  },
  {
   "cell_type": "markdown",
   "metadata": {
    "id": "8ce0d5f5-b8a9-46dd-ad34-aee5fb1986cb"
   },
   "source": [
    "-1 as axis automatically figures out the size of the respective dimension"
   ]
  },
  {
   "cell_type": "code",
   "execution_count": 50,
   "metadata": {
    "id": "b1df9b23-7a3d-4b87-be21-d12469d69a6f"
   },
   "outputs": [
    {
     "name": "stdout",
     "output_type": "stream",
     "text": [
      "[1 2 1 2 1 2 1 2 1 2 1 2 1 2 1 2 1 2 1 2 1 2 1 2 1 2 1 2 1 2 1 2 1 2 1 2]\n"
     ]
    },
    {
     "data": {
      "text/plain": [
       "array([[1, 2],\n",
       "       [1, 2],\n",
       "       [1, 2],\n",
       "       [1, 2],\n",
       "       [1, 2],\n",
       "       [1, 2],\n",
       "       [1, 2],\n",
       "       [1, 2],\n",
       "       [1, 2],\n",
       "       [1, 2],\n",
       "       [1, 2],\n",
       "       [1, 2],\n",
       "       [1, 2],\n",
       "       [1, 2],\n",
       "       [1, 2],\n",
       "       [1, 2],\n",
       "       [1, 2],\n",
       "       [1, 2]])"
      ]
     },
     "execution_count": 50,
     "metadata": {},
     "output_type": "execute_result"
    }
   ],
   "source": [
    "# numpy.random will be introduced below\n",
    "from numpy.random import randint\n",
    "n = randint(20)\n",
    "a = np.tile([1,2], n)\n",
    "print(a)\n",
    "a.reshape(-1, 2)"
   ]
  },
  {
   "cell_type": "markdown",
   "metadata": {
    "id": "3d0a878c-bbb2-4c9d-9110-d9a20bc895dd",
    "tags": []
   },
   "source": [
    "### Example\n",
    "We would like to create an 2D array where each row is [1, 2, 3] and it should have 10 rows."
   ]
  },
  {
   "cell_type": "code",
   "execution_count": 51,
   "metadata": {
    "id": "db455657-cb6b-49d2-991d-f6fa14df77c1"
   },
   "outputs": [],
   "source": [
    "import numpy as np"
   ]
  },
  {
   "cell_type": "code",
   "execution_count": 52,
   "metadata": {
    "id": "fac5a958-35d6-417e-b8ea-3ba8eb3bc8b6"
   },
   "outputs": [
    {
     "data": {
      "text/plain": [
       "array([[1, 2, 3],\n",
       "       [1, 2, 3],\n",
       "       [1, 2, 3],\n",
       "       [1, 2, 3],\n",
       "       [1, 2, 3],\n",
       "       [1, 2, 3],\n",
       "       [1, 2, 3],\n",
       "       [1, 2, 3],\n",
       "       [1, 2, 3],\n",
       "       [1, 2, 3]])"
      ]
     },
     "execution_count": 52,
     "metadata": {},
     "output_type": "execute_result"
    }
   ],
   "source": [
    "# Example output (slower than numpy)\n",
    "np.array([np.array([1,2,3]) for _ in range(10)])"
   ]
  },
  {
   "cell_type": "code",
   "execution_count": 53,
   "metadata": {
    "id": "f44345bc-0619-49ff-aa9d-9736e4d9bcc1"
   },
   "outputs": [
    {
     "data": {
      "text/plain": [
       "array([[1, 2, 3],\n",
       "       [1, 2, 3],\n",
       "       [1, 2, 3],\n",
       "       [1, 2, 3],\n",
       "       [1, 2, 3],\n",
       "       [1, 2, 3],\n",
       "       [1, 2, 3],\n",
       "       [1, 2, 3],\n",
       "       [1, 2, 3],\n",
       "       [1, 2, 3]])"
      ]
     },
     "execution_count": 53,
     "metadata": {},
     "output_type": "execute_result"
    }
   ],
   "source": [
    "np.repeat(np.arange(1, 4), 10).reshape(-1, 10).T"
   ]
  },
  {
   "cell_type": "code",
   "execution_count": 54,
   "metadata": {
    "id": "a8877597-3604-4bd3-a2e2-0837d39c51d2"
   },
   "outputs": [
    {
     "data": {
      "text/plain": [
       "array([[1, 2, 3],\n",
       "       [1, 2, 3],\n",
       "       [1, 2, 3],\n",
       "       [1, 2, 3],\n",
       "       [1, 2, 3],\n",
       "       [1, 2, 3],\n",
       "       [1, 2, 3],\n",
       "       [1, 2, 3],\n",
       "       [1, 2, 3],\n",
       "       [1, 2, 3]])"
      ]
     },
     "execution_count": 54,
     "metadata": {},
     "output_type": "execute_result"
    }
   ],
   "source": [
    "np.tile(np.arange(1, 4), 10).reshape(10, -1)"
   ]
  },
  {
   "cell_type": "code",
   "execution_count": 55,
   "metadata": {
    "id": "763c0a22-28c1-46f2-b44c-a4482be6c815"
   },
   "outputs": [
    {
     "data": {
      "text/plain": [
       "array([1, 2, 3])"
      ]
     },
     "execution_count": 55,
     "metadata": {},
     "output_type": "execute_result"
    }
   ],
   "source": [
    "np.arange(1,4)"
   ]
  },
  {
   "cell_type": "code",
   "execution_count": 56,
   "metadata": {
    "id": "858f7c56-cefe-4e28-ba07-ba95278c0cb0"
   },
   "outputs": [
    {
     "data": {
      "text/plain": [
       "array([1, 1, 1, 1, 1, 1, 1, 1, 1, 1, 2, 2, 2, 2, 2, 2, 2, 2, 2, 2, 3, 3,\n",
       "       3, 3, 3, 3, 3, 3, 3, 3])"
      ]
     },
     "execution_count": 56,
     "metadata": {},
     "output_type": "execute_result"
    }
   ],
   "source": [
    "np.repeat(np.arange(1,4), 10)"
   ]
  },
  {
   "cell_type": "code",
   "execution_count": 57,
   "metadata": {
    "id": "8e8c435a-e20b-40b3-bcb0-bc3acbb5bd87"
   },
   "outputs": [
    {
     "data": {
      "text/plain": [
       "array([[1, 1, 1],\n",
       "       [1, 1, 1],\n",
       "       [1, 1, 1],\n",
       "       [1, 2, 2],\n",
       "       [2, 2, 2],\n",
       "       [2, 2, 2],\n",
       "       [2, 2, 3],\n",
       "       [3, 3, 3],\n",
       "       [3, 3, 3],\n",
       "       [3, 3, 3]])"
      ]
     },
     "execution_count": 57,
     "metadata": {},
     "output_type": "execute_result"
    }
   ],
   "source": [
    "np.repeat(np.arange(1,4), 10).reshape(10, 3)"
   ]
  },
  {
   "cell_type": "code",
   "execution_count": 58,
   "metadata": {
    "id": "d11b26f2-b024-4768-9f77-7473365a0adc"
   },
   "outputs": [
    {
     "data": {
      "text/plain": [
       "array([1, 2, 3, 1, 2, 3, 1, 2, 3, 1, 2, 3, 1, 2, 3, 1, 2, 3, 1, 2, 3, 1,\n",
       "       2, 3, 1, 2, 3, 1, 2, 3])"
      ]
     },
     "execution_count": 58,
     "metadata": {},
     "output_type": "execute_result"
    }
   ],
   "source": [
    "np.tile(np.arange(1, 4), 10)"
   ]
  },
  {
   "cell_type": "markdown",
   "metadata": {
    "id": "46943a0a-dff3-451a-ba43-ceba4688e757"
   },
   "source": [
    "### Comparing Arrays"
   ]
  },
  {
   "cell_type": "code",
   "execution_count": 59,
   "metadata": {
    "id": "fdb23edd-4856-4aed-8f05-6d4a89bea877"
   },
   "outputs": [
    {
     "name": "stdout",
     "output_type": "stream",
     "text": [
      "[[1.e-12 0.e+00 0.e+00]\n",
      " [0.e+00 0.e+00 0.e+00]\n",
      " [0.e+00 0.e+00 0.e+00]]\n",
      "[[0. 0. 0.]\n",
      " [0. 0. 0.]\n",
      " [0. 0. 0.]]\n"
     ]
    }
   ],
   "source": [
    "epsilon = 0.000000000001\n",
    "a = np.zeros((3,3))\n",
    "a[0,0] += epsilon\n",
    "\n",
    "b = np.zeros((3,3))\n",
    "print(a)\n",
    "print(b)"
   ]
  },
  {
   "cell_type": "code",
   "execution_count": 60,
   "metadata": {
    "id": "a7300921-b619-4108-87d0-5af67c5181e2"
   },
   "outputs": [
    {
     "data": {
      "text/plain": [
       "array([[False,  True,  True],\n",
       "       [ True,  True,  True],\n",
       "       [ True,  True,  True]])"
      ]
     },
     "execution_count": 60,
     "metadata": {},
     "output_type": "execute_result"
    }
   ],
   "source": [
    "a == b"
   ]
  },
  {
   "cell_type": "code",
   "execution_count": 61,
   "metadata": {
    "id": "85516107-6bc0-4e73-a902-c500006a8e3e"
   },
   "outputs": [
    {
     "data": {
      "text/plain": [
       "False"
      ]
     },
     "execution_count": 61,
     "metadata": {},
     "output_type": "execute_result"
    }
   ],
   "source": [
    "(a == b).all()"
   ]
  },
  {
   "cell_type": "code",
   "execution_count": 62,
   "metadata": {
    "id": "7771b249-de1c-44fb-91cf-10e8155b4cd4"
   },
   "outputs": [
    {
     "data": {
      "text/plain": [
       "True"
      ]
     },
     "execution_count": 62,
     "metadata": {},
     "output_type": "execute_result"
    }
   ],
   "source": [
    "c = np.array([])\n",
    "d = np.array([1])\n",
    "(c == d).all()"
   ]
  },
  {
   "cell_type": "markdown",
   "metadata": {
    "id": "2693f27d-a496-407e-bab5-573af320bfcc"
   },
   "source": [
    "flaws with doing this: \n",
    "* if either a or b is empty and the other one contains a single element, this will return True. (the comparison a==b returns an empty array, for which the all-operator returns True)\n",
    "* If a and b don't have the same shape and aren't broadcastable, then this approach will raise an error.\n",
    "\n",
    "Instead, use numpys provided functions!"
   ]
  },
  {
   "cell_type": "code",
   "execution_count": 63,
   "metadata": {
    "id": "290d7cc2-85d8-4a58-9779-0af040d2610d"
   },
   "outputs": [
    {
     "data": {
      "text/plain": [
       "False"
      ]
     },
     "execution_count": 63,
     "metadata": {},
     "output_type": "execute_result"
    }
   ],
   "source": [
    "np.array_equal(c, d)"
   ]
  },
  {
   "cell_type": "code",
   "execution_count": 64,
   "metadata": {
    "id": "e61caeaf-4dc9-475b-a5af-fa10d718be1a"
   },
   "outputs": [
    {
     "data": {
      "text/plain": [
       "True"
      ]
     },
     "execution_count": 64,
     "metadata": {},
     "output_type": "execute_result"
    }
   ],
   "source": [
    "np.allclose(a, b)"
   ]
  },
  {
   "cell_type": "code",
   "execution_count": 65,
   "metadata": {
    "id": "3e39abab-fb0a-4cde-96ab-e544dc93c7c1"
   },
   "outputs": [
    {
     "data": {
      "text/plain": [
       "array([[ True,  True,  True],\n",
       "       [ True,  True,  True],\n",
       "       [ True,  True,  True]])"
      ]
     },
     "execution_count": 65,
     "metadata": {},
     "output_type": "execute_result"
    }
   ],
   "source": [
    "np.isclose(a, b)"
   ]
  },
  {
   "cell_type": "markdown",
   "metadata": {
    "id": "17ba0c90-2a19-4106-90f3-d864e4a046f9"
   },
   "source": [
    "## Mathematical operations\n",
    "Numpy contains a lot of mathematical functions that operate on arrays in a vectorized manner. That means that they are applied to each element, without explicit for-loops. Vectorized functions are called `ufuncs` (universal functions) in Numpy."
   ]
  },
  {
   "cell_type": "markdown",
   "metadata": {
    "id": "85255420-9f18-47dc-b269-c4e46ed3d920"
   },
   "source": [
    "### Standard arithmetic"
   ]
  },
  {
   "cell_type": "code",
   "execution_count": 66,
   "metadata": {
    "id": "c7522fac-483f-4358-ac34-c7e33878a9a3"
   },
   "outputs": [
    {
     "data": {
      "text/plain": [
       "array([0, 1, 2, 3, 4, 5, 6, 7, 8])"
      ]
     },
     "execution_count": 66,
     "metadata": {},
     "output_type": "execute_result"
    }
   ],
   "source": [
    "arr = np.arange(9)\n",
    "arr"
   ]
  },
  {
   "cell_type": "code",
   "execution_count": 67,
   "metadata": {
    "id": "863ce2d2-2ee9-4b29-888a-c6c6bc2d0b92"
   },
   "outputs": [
    {
     "data": {
      "text/plain": [
       "array([ 0,  3,  6,  9, 12, 15, 18, 21, 24])"
      ]
     },
     "execution_count": 67,
     "metadata": {},
     "output_type": "execute_result"
    }
   ],
   "source": [
    "arr * 3"
   ]
  },
  {
   "cell_type": "code",
   "execution_count": 68,
   "metadata": {
    "id": "db5d4bfa-70e1-4f74-bb1b-f1635b56445f"
   },
   "outputs": [
    {
     "data": {
      "text/plain": [
       "array([ 0,  1,  4,  9, 16, 25, 36, 49, 64])"
      ]
     },
     "execution_count": 68,
     "metadata": {},
     "output_type": "execute_result"
    }
   ],
   "source": [
    "arr * arr"
   ]
  },
  {
   "cell_type": "code",
   "execution_count": 69,
   "metadata": {
    "id": "fa7be1bc-fc63-49a4-a986-5ff87b854f71"
   },
   "outputs": [
    {
     "data": {
      "text/plain": [
       "array([ 0,  3,  6,  9, 12, 15, 18, 21, 24])"
      ]
     },
     "execution_count": 69,
     "metadata": {},
     "output_type": "execute_result"
    }
   ],
   "source": [
    "arr + (arr*2)"
   ]
  },
  {
   "cell_type": "code",
   "execution_count": 70,
   "metadata": {
    "id": "443417d3-f311-4b36-a7d0-d68007ec33f4"
   },
   "outputs": [
    {
     "data": {
      "text/plain": [
       "array([0, 0, 0, 0, 0, 0, 0, 0, 0])"
      ]
     },
     "execution_count": 70,
     "metadata": {},
     "output_type": "execute_result"
    }
   ],
   "source": [
    "arr - arr"
   ]
  },
  {
   "cell_type": "code",
   "execution_count": 71,
   "metadata": {
    "id": "9dcd058a-eb58-4b1c-8fb4-b2f8535aeba8"
   },
   "outputs": [
    {
     "name": "stderr",
     "output_type": "stream",
     "text": [
      "C:\\Users\\argha\\AppData\\Local\\Temp/ipykernel_13072/3001117470.py:1: RuntimeWarning: invalid value encountered in true_divide\n",
      "  arr / arr\n"
     ]
    },
    {
     "data": {
      "text/plain": [
       "array([nan,  1.,  1.,  1.,  1.,  1.,  1.,  1.,  1.])"
      ]
     },
     "execution_count": 71,
     "metadata": {},
     "output_type": "execute_result"
    }
   ],
   "source": [
    "arr / arr"
   ]
  },
  {
   "cell_type": "code",
   "execution_count": 72,
   "metadata": {
    "id": "46efd487-9bbe-4611-83bf-a95d23e7ff37"
   },
   "outputs": [
    {
     "data": {
      "text/plain": [
       "array([ 0,  1,  4,  9, 16, 25, 36, 49, 64], dtype=int32)"
      ]
     },
     "execution_count": 72,
     "metadata": {},
     "output_type": "execute_result"
    }
   ],
   "source": [
    "arr ** 2"
   ]
  },
  {
   "cell_type": "markdown",
   "metadata": {
    "id": "1c4c59c0-3f38-40c8-91d1-d4b7722f142e"
   },
   "source": [
    "Using `@` you can even do matrix multiplication. In the case of 1d arrays, this is the inner product between two vectors."
   ]
  },
  {
   "cell_type": "code",
   "execution_count": 73,
   "metadata": {
    "id": "60bc23a0-c76a-4180-bd50-451a8f0d28d2"
   },
   "outputs": [
    {
     "data": {
      "text/plain": [
       "204"
      ]
     },
     "execution_count": 73,
     "metadata": {},
     "output_type": "execute_result"
    }
   ],
   "source": [
    "arr @ arr.T"
   ]
  },
  {
   "cell_type": "code",
   "execution_count": 74,
   "metadata": {
    "id": "90e084b7-f74d-4011-a4ff-1e2b50dd8667"
   },
   "outputs": [
    {
     "data": {
      "text/plain": [
       "204"
      ]
     },
     "execution_count": 74,
     "metadata": {},
     "output_type": "execute_result"
    }
   ],
   "source": [
    "# That's the same as\n",
    "np.sum(arr * arr)"
   ]
  },
  {
   "cell_type": "markdown",
   "metadata": {
    "id": "54ed6635-f00b-4d1a-a641-860bccee08a9"
   },
   "source": [
    "Using these operators/universal function is usually faster than writing the operations otherwise."
   ]
  },
  {
   "cell_type": "code",
   "execution_count": 75,
   "metadata": {
    "id": "2ba1a644-6d0d-4ffb-8b1a-090c10a5e750"
   },
   "outputs": [
    {
     "name": "stdout",
     "output_type": "stream",
     "text": [
      "[1 2 3 1 2 3 1 2 3 1 2 3 1 2 3 1 2 3 1 2 3 1 2 3 1 2 3 1 2 3 1 2 3 1 2 3 1\n",
      " 2 3 1 2 3 1 2 3 1 2 3 1 2 3 1 2 3 1 2 3 1 2 3 1 2 3 1 2 3 1 2 3 1 2 3 1 2\n",
      " 3 1 2 3 1 2 3 1 2 3 1 2 3 1 2 3]\n",
      "[1 2 3 1 2 3 1 2 3 1 2 3 1 2 3 1 2 3 1 2 3 1 2 3 1 2 3 1 2 3 1 2 3 1 2 3 1\n",
      " 2 3 1 2 3 1 2 3 1 2 3 1 2 3 1 2 3 1 2 3 1 2 3 1 2 3 1 2 3 1 2 3 1 2 3 1 2\n",
      " 3 1 2 3 1 2 3 1 2 3 1 2 3 1 2 3]\n",
      "[1 2 3 1 2 3 1 2 3 1 2 3 1 2 3 1 2 3 1 2 3 1 2 3 1 2 3 1 2 3 1 2 3 1 2 3 1\n",
      " 2 3 1 2 3 1 2 3 1 2 3 1 2 3 1 2 3 1 2 3 1 2 3 1 2 3 1 2 3 1 2 3 1 2 3 1 2\n",
      " 3 1 2 3 1 2 3 1 2 3 1 2 3 1 2 3]\n",
      "3.42 µs ± 55.6 ns per loop (mean ± std. dev. of 7 runs, 100000 loops each)\n",
      "2.36 µs ± 38.6 ns per loop (mean ± std. dev. of 7 runs, 100000 loops each)\n",
      "18 µs ± 74.9 ns per loop (mean ± std. dev. of 7 runs, 100000 loops each)\n"
     ]
    }
   ],
   "source": [
    "var1 = lambda: np.repeat(np.arange(1, 4), 30).reshape(3, -1).T.flatten()\n",
    "var2 = lambda: np.arange(3 * 30) % 3 + 1\n",
    "var3 = lambda: np.array([[1, 2, 3] for _ in range(30)]).flatten()\n",
    "\n",
    "print(var1())\n",
    "print(var2())\n",
    "print(var3())\n",
    "\n",
    "%timeit var1()\n",
    "%timeit var2()\n",
    "%timeit var3()"
   ]
  },
  {
   "cell_type": "markdown",
   "metadata": {
    "id": "4a612337-fdcc-4633-8f84-488a11ee57c8",
    "tags": []
   },
   "source": [
    "### Numpy Constants\n",
    "https://numpy.org/doc/stable/reference/constants.html"
   ]
  },
  {
   "cell_type": "code",
   "execution_count": 76,
   "metadata": {
    "id": "195ca268-35a7-4b8a-871b-33601a16197b"
   },
   "outputs": [
    {
     "data": {
      "text/plain": [
       "3.141592653589793"
      ]
     },
     "execution_count": 76,
     "metadata": {},
     "output_type": "execute_result"
    }
   ],
   "source": [
    "np.pi"
   ]
  },
  {
   "cell_type": "code",
   "execution_count": 77,
   "metadata": {
    "id": "819c887a-18ae-4742-9d34-71b0c3ae998f"
   },
   "outputs": [
    {
     "data": {
      "text/plain": [
       "2.718281828459045"
      ]
     },
     "execution_count": 77,
     "metadata": {},
     "output_type": "execute_result"
    }
   ],
   "source": [
    "np.e"
   ]
  },
  {
   "cell_type": "code",
   "execution_count": 78,
   "metadata": {
    "id": "2df273a8-9a7f-4037-8f0f-b1753e141ffc"
   },
   "outputs": [
    {
     "data": {
      "text/plain": [
       "inf"
      ]
     },
     "execution_count": 78,
     "metadata": {},
     "output_type": "execute_result"
    }
   ],
   "source": [
    "np.inf"
   ]
  },
  {
   "cell_type": "code",
   "execution_count": 79,
   "metadata": {
    "id": "2963a662-42f5-411c-9aec-fefd3194c3dd"
   },
   "outputs": [
    {
     "data": {
      "text/plain": [
       "True"
      ]
     },
     "execution_count": 79,
     "metadata": {},
     "output_type": "execute_result"
    }
   ],
   "source": [
    "np.inf > 999999999999999999999999999999999999999999999999999999999999999999999"
   ]
  },
  {
   "cell_type": "code",
   "execution_count": 80,
   "metadata": {
    "id": "0e4064ae-dad1-499a-bbef-b1b3b48bc8c4"
   },
   "outputs": [
    {
     "data": {
      "text/plain": [
       "-inf"
      ]
     },
     "execution_count": 80,
     "metadata": {},
     "output_type": "execute_result"
    }
   ],
   "source": [
    "-np.inf"
   ]
  },
  {
   "cell_type": "code",
   "execution_count": 81,
   "metadata": {
    "id": "0de1ba0d-ad88-4ce2-96a9-3cd2728ab3fe",
    "tags": []
   },
   "outputs": [
    {
     "data": {
      "text/plain": [
       "nan"
      ]
     },
     "execution_count": 81,
     "metadata": {},
     "output_type": "execute_result"
    }
   ],
   "source": [
    "np.inf-np.inf"
   ]
  },
  {
   "cell_type": "code",
   "execution_count": 82,
   "metadata": {
    "id": "4ed7f8cb-7d89-440e-8f69-f531fa76c47f"
   },
   "outputs": [
    {
     "name": "stderr",
     "output_type": "stream",
     "text": [
      "C:\\Users\\argha\\AppData\\Local\\Temp/ipykernel_13072/2769199799.py:1: RuntimeWarning: invalid value encountered in true_divide\n",
      "  np.array([0])/np.array([0])\n"
     ]
    },
    {
     "data": {
      "text/plain": [
       "array([nan])"
      ]
     },
     "execution_count": 82,
     "metadata": {},
     "output_type": "execute_result"
    }
   ],
   "source": [
    "np.array([0])/np.array([0])"
   ]
  },
  {
   "cell_type": "code",
   "execution_count": 83,
   "metadata": {
    "id": "86169dd8-56b3-461c-aec4-8d31d4cb4087"
   },
   "outputs": [
    {
     "data": {
      "text/plain": [
       "False"
      ]
     },
     "execution_count": 83,
     "metadata": {},
     "output_type": "execute_result"
    }
   ],
   "source": [
    "np.nan == np.nan"
   ]
  },
  {
   "cell_type": "code",
   "execution_count": 84,
   "metadata": {
    "id": "951d96cb-7590-4a35-bd59-d169f6bb6a47"
   },
   "outputs": [
    {
     "data": {
      "text/plain": [
       "True"
      ]
     },
     "execution_count": 84,
     "metadata": {},
     "output_type": "execute_result"
    }
   ],
   "source": [
    "np.isnan(np.nan)"
   ]
  },
  {
   "cell_type": "code",
   "execution_count": 85,
   "metadata": {
    "id": "c7714c11-dc4e-4a13-997b-13bae9516bab"
   },
   "outputs": [
    {
     "data": {
      "text/plain": [
       "array([0, 1, 2, 3, 4, 0, 0, 0, 0, 0])"
      ]
     },
     "execution_count": 85,
     "metadata": {},
     "output_type": "execute_result"
    }
   ],
   "source": [
    "a = np.r_[np.arange(5), np.repeat(0, 5)]\n",
    "a"
   ]
  },
  {
   "cell_type": "code",
   "execution_count": 86,
   "metadata": {
    "id": "c0707155-efa0-434c-89f9-c0d38c6359f3"
   },
   "outputs": [
    {
     "name": "stderr",
     "output_type": "stream",
     "text": [
      "C:\\Users\\argha\\AppData\\Local\\Temp/ipykernel_13072/1505135007.py:1: RuntimeWarning: invalid value encountered in true_divide\n",
      "  b = a / a\n"
     ]
    },
    {
     "data": {
      "text/plain": [
       "array([nan,  1.,  1.,  1.,  1., nan, nan, nan, nan, nan])"
      ]
     },
     "execution_count": 86,
     "metadata": {},
     "output_type": "execute_result"
    }
   ],
   "source": [
    "b = a / a\n",
    "b"
   ]
  },
  {
   "cell_type": "code",
   "execution_count": 87,
   "metadata": {
    "id": "673d8513-9c01-4cba-a35f-00dcb2183b87"
   },
   "outputs": [
    {
     "data": {
      "text/plain": [
       "array([False,  True,  True,  True,  True, False, False, False, False,\n",
       "       False])"
      ]
     },
     "execution_count": 87,
     "metadata": {},
     "output_type": "execute_result"
    }
   ],
   "source": [
    "~np.isnan(b)"
   ]
  },
  {
   "cell_type": "code",
   "execution_count": 88,
   "metadata": {
    "id": "23ea5aac-0154-489b-8b10-060635f0ae41"
   },
   "outputs": [
    {
     "data": {
      "text/plain": [
       "array([1., 1., 1., 1.])"
      ]
     },
     "execution_count": 88,
     "metadata": {},
     "output_type": "execute_result"
    }
   ],
   "source": [
    "b[~np.isnan(b)]"
   ]
  },
  {
   "cell_type": "code",
   "execution_count": 89,
   "metadata": {
    "id": "69a9b6a7-0829-4e02-bb40-8d5c2d1b691b"
   },
   "outputs": [
    {
     "data": {
      "text/plain": [
       "array([0., 1., 1., 1., 1., 0., 0., 0., 0., 0.])"
      ]
     },
     "execution_count": 89,
     "metadata": {},
     "output_type": "execute_result"
    }
   ],
   "source": [
    "np.divide(a, a, out=np.zeros(a.shape), where=(a!=0)) \n",
    "# at the positions where a!=0, make the division,\n",
    "# at other indices use what's specified as \"out\""
   ]
  },
  {
   "cell_type": "markdown",
   "metadata": {
    "id": "1b62ad15-339a-4789-9997-a6b933f47f04"
   },
   "source": [
    "### Some standard functions"
   ]
  },
  {
   "cell_type": "code",
   "execution_count": 90,
   "metadata": {
    "id": "a16c036b-5e9f-4a35-ab9c-c53f1b60d65e"
   },
   "outputs": [
    {
     "data": {
      "text/plain": [
       "array([0, 1, 2, 3, 4, 5, 6, 7, 8])"
      ]
     },
     "execution_count": 90,
     "metadata": {},
     "output_type": "execute_result"
    }
   ],
   "source": [
    "arr"
   ]
  },
  {
   "cell_type": "code",
   "execution_count": 91,
   "metadata": {
    "id": "fe0b5ca1-7b4d-4410-bf9e-fc0704d812e1"
   },
   "outputs": [
    {
     "name": "stderr",
     "output_type": "stream",
     "text": [
      "C:\\Users\\argha\\AppData\\Local\\Temp/ipykernel_13072/3120950136.py:1: RuntimeWarning: divide by zero encountered in log\n",
      "  np.log(arr)\n"
     ]
    },
    {
     "data": {
      "text/plain": [
       "array([      -inf, 0.        , 0.69314718, 1.09861229, 1.38629436,\n",
       "       1.60943791, 1.79175947, 1.94591015, 2.07944154])"
      ]
     },
     "execution_count": 91,
     "metadata": {},
     "output_type": "execute_result"
    }
   ],
   "source": [
    "np.log(arr)"
   ]
  },
  {
   "cell_type": "code",
   "execution_count": 92,
   "metadata": {
    "id": "5bb489d8-7664-4cb7-af2f-49335a85a5d0"
   },
   "outputs": [
    {
     "name": "stderr",
     "output_type": "stream",
     "text": [
      "C:\\Users\\argha\\AppData\\Local\\Temp/ipykernel_13072/1405652587.py:1: RuntimeWarning: divide by zero encountered in log2\n",
      "  np.log2(arr)\n"
     ]
    },
    {
     "data": {
      "text/plain": [
       "array([      -inf, 0.        , 1.        , 1.5849625 , 2.        ,\n",
       "       2.32192809, 2.5849625 , 2.80735492, 3.        ])"
      ]
     },
     "execution_count": 92,
     "metadata": {},
     "output_type": "execute_result"
    }
   ],
   "source": [
    "np.log2(arr)"
   ]
  },
  {
   "cell_type": "code",
   "execution_count": 93,
   "metadata": {
    "id": "6f618aa9-e352-4026-950a-44f448ee47d5"
   },
   "outputs": [
    {
     "data": {
      "text/plain": [
       "array([1.00000000e+00, 2.71828183e+00, 7.38905610e+00, 2.00855369e+01,\n",
       "       5.45981500e+01, 1.48413159e+02, 4.03428793e+02, 1.09663316e+03,\n",
       "       2.98095799e+03])"
      ]
     },
     "execution_count": 93,
     "metadata": {},
     "output_type": "execute_result"
    }
   ],
   "source": [
    "np.exp(arr)"
   ]
  },
  {
   "cell_type": "code",
   "execution_count": 94,
   "metadata": {
    "id": "6b94fba5-78b3-468f-ae3b-5bb887c90a86"
   },
   "outputs": [
    {
     "data": {
      "text/plain": [
       "array([ 0.        ,  0.84147098,  0.90929743,  0.14112001, -0.7568025 ,\n",
       "       -0.95892427, -0.2794155 ,  0.6569866 ,  0.98935825])"
      ]
     },
     "execution_count": 94,
     "metadata": {},
     "output_type": "execute_result"
    }
   ],
   "source": [
    "np.sin(arr)"
   ]
  },
  {
   "cell_type": "markdown",
   "metadata": {
    "id": "11a8b1f9-612f-409c-b5e7-bc32310e7b2c"
   },
   "source": [
    "np.sign returns -1 for negative values, +1 for positive ones, and 0 for 0:"
   ]
  },
  {
   "cell_type": "code",
   "execution_count": 95,
   "metadata": {
    "id": "a5ca0dd4-df5e-4dc3-8ba4-2e9abc1bb6d7"
   },
   "outputs": [
    {
     "data": {
      "text/plain": [
       "array([0, 1, 2, 3, 4, 5, 6, 7, 8])"
      ]
     },
     "execution_count": 95,
     "metadata": {},
     "output_type": "execute_result"
    }
   ],
   "source": [
    "arr"
   ]
  },
  {
   "cell_type": "code",
   "execution_count": 96,
   "metadata": {
    "id": "cf12fc4f-39df-4458-91a5-bac46953e822"
   },
   "outputs": [
    {
     "data": {
      "text/plain": [
       "array([-1,  0,  1,  1,  1,  1])"
      ]
     },
     "execution_count": 96,
     "metadata": {},
     "output_type": "execute_result"
    }
   ],
   "source": [
    "np.sign(np.arange(-1,5))"
   ]
  },
  {
   "cell_type": "markdown",
   "metadata": {
    "id": "3e37a716-1470-417e-889a-b185a528ccee"
   },
   "source": [
    "Always try to use vectorized ufuncs instead of explicit loops!"
   ]
  },
  {
   "cell_type": "markdown",
   "metadata": {
    "id": "7e42a34d-bc88-45da-98a4-fbfbc7c5ecb0"
   },
   "source": [
    "### Aggregation functions\n",
    "Aggregation functions are functions that reduce the dimensionality of an array. They provide an `axis` argument, to specify which dimension to reduce."
   ]
  },
  {
   "cell_type": "code",
   "execution_count": 97,
   "metadata": {
    "id": "02719b33-87c1-4c00-86f9-8b04cf267523"
   },
   "outputs": [
    {
     "data": {
      "text/plain": [
       "array([[ 5, 11, 12,  8],\n",
       "       [ 9, 11,  5, 15],\n",
       "       [ 0, 16,  1, 12]])"
      ]
     },
     "execution_count": 97,
     "metadata": {},
     "output_type": "execute_result"
    }
   ],
   "source": [
    "# np.random will be explained in another section\n",
    "np.random.seed(1)\n",
    "two_dim_arr = np.random.randint(0, high=20, size=(3, 4))\n",
    "two_dim_arr"
   ]
  },
  {
   "cell_type": "markdown",
   "metadata": {
    "id": "23b13ee1-a5f6-486b-92db-5fedfb52a17e"
   },
   "source": [
    "If just the array is passed, the aggregation operation is performed over the whole array."
   ]
  },
  {
   "cell_type": "code",
   "execution_count": 98,
   "metadata": {
    "id": "3b8d51c8-3454-42e0-9593-05fe2343b54a"
   },
   "outputs": [
    {
     "data": {
      "text/plain": [
       "0"
      ]
     },
     "execution_count": 98,
     "metadata": {},
     "output_type": "execute_result"
    }
   ],
   "source": [
    "np.min(two_dim_arr)"
   ]
  },
  {
   "cell_type": "markdown",
   "metadata": {
    "id": "fd1bc6fe-a983-4410-acad-9eee008a9474"
   },
   "source": [
    "The optional `axis` argument allows us to specify, which dimension should be aggregated. You can think of it as the operation being applied to all entries that are obtained by keeping the indices in all dimensions fixed except for the `axis` dimension.\n",
    "Let's look at the result of the minimum operation with `axis=0`:"
   ]
  },
  {
   "cell_type": "code",
   "execution_count": 99,
   "metadata": {
    "id": "0953a5b7-5163-4fe5-bdd0-c5a30b365fef"
   },
   "outputs": [
    {
     "data": {
      "text/plain": [
       "array([5, 5, 0])"
      ]
     },
     "execution_count": 99,
     "metadata": {},
     "output_type": "execute_result"
    }
   ],
   "source": [
    "np.min(two_dim_arr, axis=1)"
   ]
  },
  {
   "cell_type": "code",
   "execution_count": 100,
   "metadata": {
    "id": "5a77695a-c09e-4266-a9ce-657f902fafa8"
   },
   "outputs": [
    {
     "name": "stdout",
     "output_type": "stream",
     "text": [
      "(3, 4)\n",
      "(4,)\n",
      "(3,)\n"
     ]
    }
   ],
   "source": [
    "print(two_dim_arr.shape)\n",
    "print(np.min(two_dim_arr, axis=0).shape)\n",
    "print(np.min(two_dim_arr, axis=1).shape)"
   ]
  },
  {
   "cell_type": "markdown",
   "metadata": {
    "id": "097ff2e2-b24a-4509-b59f-42bc67f7f0c7"
   },
   "source": [
    "The axis concept extends to more than one dimension"
   ]
  },
  {
   "cell_type": "code",
   "execution_count": 101,
   "metadata": {
    "id": "50ee482c-8db3-4271-b72d-a0ee01515c46"
   },
   "outputs": [
    {
     "data": {
      "text/plain": [
       "array([[[ 5, 11, 12,  8],\n",
       "        [ 9, 11,  5, 15],\n",
       "        [ 0, 16,  1, 12]],\n",
       "\n",
       "       [[ 7, 13,  6, 18],\n",
       "        [ 5, 18, 11, 10],\n",
       "        [14, 18,  4,  9]]])"
      ]
     },
     "execution_count": 101,
     "metadata": {},
     "output_type": "execute_result"
    }
   ],
   "source": [
    "np.random.seed(1)\n",
    "three_dim_arr = np.random.randint(0, high=20, size=(2, 3, 4))\n",
    "three_dim_arr"
   ]
  },
  {
   "cell_type": "code",
   "execution_count": 102,
   "metadata": {
    "id": "bfd9d628-8e29-4483-b725-9860be522edd"
   },
   "outputs": [
    {
     "data": {
      "text/plain": [
       "array([[ 0, 11,  1,  8],\n",
       "       [ 5, 13,  4,  9]])"
      ]
     },
     "execution_count": 102,
     "metadata": {},
     "output_type": "execute_result"
    }
   ],
   "source": [
    "np.min(three_dim_arr, axis=1)"
   ]
  },
  {
   "cell_type": "markdown",
   "metadata": {
    "id": "d267e8e1-9cde-4ceb-8eb2-ff962107fc4d"
   },
   "source": [
    "In the array above the entry at index `[0, 0]`, is the minimum of the following values. "
   ]
  },
  {
   "cell_type": "code",
   "execution_count": 103,
   "metadata": {
    "id": "4f9db739-1ac8-44a6-8519-fa189ea870df"
   },
   "outputs": [
    {
     "name": "stdout",
     "output_type": "stream",
     "text": [
      "5\n",
      "9\n",
      "0\n"
     ]
    }
   ],
   "source": [
    "for i in range(3):\n",
    "    print(three_dim_arr[0, i, 0])"
   ]
  },
  {
   "cell_type": "markdown",
   "metadata": {
    "id": "1d8479ae-3001-47a2-ba73-92c2eaec0c5d"
   },
   "source": [
    "Let's demonstrate all axes again with another three-dimensional array:"
   ]
  },
  {
   "cell_type": "code",
   "execution_count": 104,
   "metadata": {
    "id": "4c2aebf5-26aa-4b4e-a969-c1261da51741"
   },
   "outputs": [
    {
     "data": {
      "text/plain": [
       "(array([[[2, 4],\n",
       "         [6, 9]],\n",
       " \n",
       "        [[3, 1],\n",
       "         [7, 8]],\n",
       " \n",
       "        [[4, 5],\n",
       "         [9, 0]]]),\n",
       " (3, 2, 2))"
      ]
     },
     "execution_count": 104,
     "metadata": {},
     "output_type": "execute_result"
    }
   ],
   "source": [
    "a = np.array([[[2,4],[6,9]],[[3,1],[7,8]],[[4,5],[9, 0]]])\n",
    "a, a.shape"
   ]
  },
  {
   "cell_type": "code",
   "execution_count": 105,
   "metadata": {
    "id": "d180598b-8752-430b-90a6-587698d434a5"
   },
   "outputs": [
    {
     "data": {
      "text/plain": [
       "0"
      ]
     },
     "execution_count": 105,
     "metadata": {},
     "output_type": "execute_result"
    }
   ],
   "source": [
    "np.min(a)"
   ]
  },
  {
   "cell_type": "code",
   "execution_count": 106,
   "metadata": {
    "id": "45670bff-fbb8-4cc3-9f77-3be85389fbbc"
   },
   "outputs": [
    {
     "data": {
      "text/plain": [
       "array([[2, 1],\n",
       "       [6, 0]])"
      ]
     },
     "execution_count": 106,
     "metadata": {},
     "output_type": "execute_result"
    }
   ],
   "source": [
    "np.min(a, axis=0)"
   ]
  },
  {
   "cell_type": "markdown",
   "metadata": {
    "id": "bf5af890-f0df-4a20-ac62-3e07dbc48e1b"
   },
   "source": [
    "setting the axis-argument is the same as going through all other axes of the respective array in turn, returning the respective aggregate for every combination of these."
   ]
  },
  {
   "cell_type": "code",
   "execution_count": 107,
   "metadata": {
    "id": "138b245e-b3ad-4379-af05-69f1f6f29f31"
   },
   "outputs": [
    {
     "name": "stdout",
     "output_type": "stream",
     "text": [
      "[2 3 4]\n",
      "[4 1 5]\n",
      "[6 7 9]\n",
      "[9 8 0]\n"
     ]
    }
   ],
   "source": [
    "for i in range(a.shape[1]):\n",
    "    for j in range(a.shape[2]):\n",
    "        print(a[:, i, j])"
   ]
  },
  {
   "cell_type": "markdown",
   "metadata": {
    "id": "3a683257-74f2-4278-b4b1-bf4903d18472"
   },
   "source": [
    "For axis=1, we loop through axis 0 and axis 2:"
   ]
  },
  {
   "cell_type": "code",
   "execution_count": 108,
   "metadata": {
    "id": "e1b1083f-1a5d-4e7f-8c60-7192c27d4ba1"
   },
   "outputs": [
    {
     "data": {
      "text/plain": [
       "array([[[2, 4],\n",
       "        [6, 9]],\n",
       "\n",
       "       [[3, 1],\n",
       "        [7, 8]],\n",
       "\n",
       "       [[4, 5],\n",
       "        [9, 0]]])"
      ]
     },
     "execution_count": 108,
     "metadata": {},
     "output_type": "execute_result"
    }
   ],
   "source": [
    "a"
   ]
  },
  {
   "cell_type": "code",
   "execution_count": 109,
   "metadata": {
    "id": "7d58a8df-bba1-4f91-8585-21bae3e30b7a"
   },
   "outputs": [
    {
     "data": {
      "text/plain": [
       "array([[2, 4],\n",
       "       [3, 1],\n",
       "       [4, 0]])"
      ]
     },
     "execution_count": 109,
     "metadata": {},
     "output_type": "execute_result"
    }
   ],
   "source": [
    "np.min(a, axis=1)"
   ]
  },
  {
   "cell_type": "code",
   "execution_count": 110,
   "metadata": {
    "id": "f8f24809-4c6e-4526-99a8-f33a3cb1d61b"
   },
   "outputs": [
    {
     "name": "stdout",
     "output_type": "stream",
     "text": [
      "[2 6]\n",
      "[4 9]\n",
      "[3 7]\n",
      "[1 8]\n",
      "[4 9]\n",
      "[5 0]\n"
     ]
    }
   ],
   "source": [
    "for i in range(a.shape[0]):\n",
    "    for j in range(a.shape[2]):\n",
    "        print(a[i, :, j])"
   ]
  },
  {
   "cell_type": "markdown",
   "metadata": {
    "id": "8f218143-21df-41b3-a770-b1f1fb23d1ed"
   },
   "source": [
    "...and finally, for axis 2 we loop through axis 0 and 1"
   ]
  },
  {
   "cell_type": "code",
   "execution_count": 111,
   "metadata": {
    "id": "c4acb3fc-768d-4f89-9733-ec4ea5f6bc45"
   },
   "outputs": [
    {
     "data": {
      "text/plain": [
       "array([[[2, 4],\n",
       "        [6, 9]],\n",
       "\n",
       "       [[3, 1],\n",
       "        [7, 8]],\n",
       "\n",
       "       [[4, 5],\n",
       "        [9, 0]]])"
      ]
     },
     "execution_count": 111,
     "metadata": {},
     "output_type": "execute_result"
    }
   ],
   "source": [
    "a"
   ]
  },
  {
   "cell_type": "code",
   "execution_count": 112,
   "metadata": {
    "id": "dc318b2b-8d7e-41d8-af5c-402d21bdf0a0"
   },
   "outputs": [
    {
     "data": {
      "text/plain": [
       "array([[2, 6],\n",
       "       [1, 7],\n",
       "       [4, 0]])"
      ]
     },
     "execution_count": 112,
     "metadata": {},
     "output_type": "execute_result"
    }
   ],
   "source": [
    "np.min(a, axis=2)"
   ]
  },
  {
   "cell_type": "code",
   "execution_count": 113,
   "metadata": {
    "id": "57f04d09-7f22-4d94-9549-aceb0681e887"
   },
   "outputs": [
    {
     "name": "stdout",
     "output_type": "stream",
     "text": [
      "[2 4]\n",
      "[6 9]\n",
      "[3 1]\n",
      "[7 8]\n",
      "[4 5]\n",
      "[9 0]\n"
     ]
    }
   ],
   "source": [
    "for i in range(a.shape[0]):\n",
    "    for j in range(a.shape[1]):\n",
    "        print(a[i, j, :])"
   ]
  },
  {
   "cell_type": "markdown",
   "metadata": {
    "id": "b8414d0d-88bf-4cf7-b38d-eab7194ed2a0"
   },
   "source": [
    "The shape of the resulting array is simply the shape of the original array, leaving the specified axis out:"
   ]
  },
  {
   "cell_type": "code",
   "execution_count": 114,
   "metadata": {
    "id": "ff6e0089-8d45-4ce2-a88b-c8522f38d8a7"
   },
   "outputs": [
    {
     "data": {
      "text/plain": [
       "array([[2, 6],\n",
       "       [1, 7],\n",
       "       [4, 0]])"
      ]
     },
     "execution_count": 114,
     "metadata": {},
     "output_type": "execute_result"
    }
   ],
   "source": [
    "mins = []\n",
    "for i in range(a.shape[0]):\n",
    "    for j in range(a.shape[1]):\n",
    "        mins.append(min(a[i,j,:]))\n",
    "np.array(mins).reshape([a.shape[0], a.shape[1]])"
   ]
  },
  {
   "cell_type": "markdown",
   "metadata": {
    "id": "09d93811-919d-4af4-a7bf-f96bca55c5cf"
   },
   "source": [
    "...however, of course, using numpy is much faster than looping over the array:"
   ]
  },
  {
   "cell_type": "code",
   "execution_count": 115,
   "metadata": {
    "id": "1e1969e0-4445-470b-b2f2-d44e20be77bd"
   },
   "outputs": [
    {
     "name": "stdout",
     "output_type": "stream",
     "text": [
      "7.59 µs ± 140 ns per loop (mean ± std. dev. of 7 runs, 100000 loops each)\n",
      "3.99 µs ± 58.9 ns per loop (mean ± std. dev. of 7 runs, 100000 loops each)\n"
     ]
    }
   ],
   "source": [
    "def find_min_manual(arr):\n",
    "    mins = []\n",
    "    for i in range(arr.shape[0]):\n",
    "        for j in range(arr.shape[1]):\n",
    "            mins.append(min(arr[i,j,:]))\n",
    "    np.array(mins).reshape([arr.shape[0], arr.shape[1]])\n",
    "\n",
    "%timeit find_min_manual(a)\n",
    "%timeit np.min(a, axis=2)"
   ]
  },
  {
   "cell_type": "markdown",
   "metadata": {
    "id": "4af063bd-b177-41f5-b913-137f3fac0737"
   },
   "source": [
    "### More than one Dimension\n",
    "\n",
    "Aggregation functions can also aggregate more than one dimension at once."
   ]
  },
  {
   "cell_type": "markdown",
   "metadata": {
    "id": "37c2YE04ZOws"
   },
   "source": []
  },
  {
   "cell_type": "code",
   "execution_count": 116,
   "metadata": {
    "id": "3f738435-e8ee-470e-ac7f-0fcbaf87fbc8"
   },
   "outputs": [
    {
     "data": {
      "text/plain": [
       "array([[[1, 7, 0],\n",
       "        [6, 9, 9]],\n",
       "\n",
       "       [[7, 6, 9],\n",
       "        [1, 0, 1]],\n",
       "\n",
       "       [[8, 8, 3],\n",
       "        [9, 8, 7]],\n",
       "\n",
       "       [[3, 6, 5],\n",
       "        [1, 9, 3]]])"
      ]
     },
     "execution_count": 116,
     "metadata": {},
     "output_type": "execute_result"
    }
   ],
   "source": [
    "three_dim_arr = np.random.randint(0, 10, (4, 2, 3))\n",
    "three_dim_arr"
   ]
  },
  {
   "cell_type": "code",
   "execution_count": 117,
   "metadata": {
    "id": "17db7316-9b07-4f04-b2b7-1665707ef5a8"
   },
   "outputs": [
    {
     "data": {
      "text/plain": [
       "array([0, 0, 3, 1])"
      ]
     },
     "execution_count": 117,
     "metadata": {},
     "output_type": "execute_result"
    }
   ],
   "source": [
    "np.min(three_dim_arr, axis=(1, 2))"
   ]
  },
  {
   "cell_type": "markdown",
   "metadata": {
    "id": "0cefa6da-16c6-46b9-81b1-d36be0bedd86"
   },
   "source": [
    "### Other aggregation functions."
   ]
  },
  {
   "cell_type": "code",
   "execution_count": 118,
   "metadata": {
    "id": "872fa70f-a8db-4242-b095-652eb800a75d"
   },
   "outputs": [
    {
     "data": {
      "text/plain": [
       "array([[ 5, 11, 12,  8],\n",
       "       [ 9, 11,  5, 15],\n",
       "       [ 0, 16,  1, 12]])"
      ]
     },
     "execution_count": 118,
     "metadata": {},
     "output_type": "execute_result"
    }
   ],
   "source": [
    "two_dim_arr"
   ]
  },
  {
   "cell_type": "code",
   "execution_count": 119,
   "metadata": {
    "id": "0509cf7b-6c6a-4c15-ae17-70b5c77db23f"
   },
   "outputs": [
    {
     "data": {
      "text/plain": [
       "16"
      ]
     },
     "execution_count": 119,
     "metadata": {},
     "output_type": "execute_result"
    }
   ],
   "source": [
    "np.max(two_dim_arr)"
   ]
  },
  {
   "cell_type": "code",
   "execution_count": 120,
   "metadata": {
    "id": "a837a960-98da-490d-b316-eed8b1dcd82e"
   },
   "outputs": [
    {
     "data": {
      "text/plain": [
       "array([ 9, 16, 12, 15])"
      ]
     },
     "execution_count": 120,
     "metadata": {},
     "output_type": "execute_result"
    }
   ],
   "source": [
    "np.max(two_dim_arr, axis=0)"
   ]
  },
  {
   "cell_type": "code",
   "execution_count": 121,
   "metadata": {
    "id": "59555953-23d3-4ec0-a080-266879f55ef8"
   },
   "outputs": [
    {
     "data": {
      "text/plain": [
       "array([12, 15, 16])"
      ]
     },
     "execution_count": 121,
     "metadata": {},
     "output_type": "execute_result"
    }
   ],
   "source": [
    "np.max(two_dim_arr, axis=1)"
   ]
  },
  {
   "cell_type": "code",
   "execution_count": 122,
   "metadata": {
    "id": "57a850cc-e964-45d1-8598-b34cadda2f5f"
   },
   "outputs": [
    {
     "data": {
      "text/plain": [
       "105"
      ]
     },
     "execution_count": 122,
     "metadata": {},
     "output_type": "execute_result"
    }
   ],
   "source": [
    "np.sum(two_dim_arr)"
   ]
  },
  {
   "cell_type": "code",
   "execution_count": 123,
   "metadata": {
    "id": "2ea82ab3-4e08-4421-9a65-d3d4f191f5a9"
   },
   "outputs": [
    {
     "data": {
      "text/plain": [
       "array([14, 38, 18, 35])"
      ]
     },
     "execution_count": 123,
     "metadata": {},
     "output_type": "execute_result"
    }
   ],
   "source": [
    "np.sum(two_dim_arr, axis=0)"
   ]
  },
  {
   "cell_type": "code",
   "execution_count": 124,
   "metadata": {
    "id": "3f233f63-b293-406a-9cba-2aa34754b072"
   },
   "outputs": [
    {
     "data": {
      "text/plain": [
       "array([36, 40, 29])"
      ]
     },
     "execution_count": 124,
     "metadata": {},
     "output_type": "execute_result"
    }
   ],
   "source": [
    "np.sum(two_dim_arr, axis=1)"
   ]
  },
  {
   "cell_type": "code",
   "execution_count": 125,
   "metadata": {
    "id": "6bd05908-ac11-4b9e-9a70-7143a67ea061"
   },
   "outputs": [
    {
     "data": {
      "text/plain": [
       "array([ 4.66666667, 12.66666667,  6.        , 11.66666667])"
      ]
     },
     "execution_count": 125,
     "metadata": {},
     "output_type": "execute_result"
    }
   ],
   "source": [
    "np.average(two_dim_arr, axis=0)"
   ]
  },
  {
   "cell_type": "code",
   "execution_count": 126,
   "metadata": {
    "id": "f741dc9d-1f4c-4a5f-a417-3d0fb2989f1a"
   },
   "outputs": [
    {
     "data": {
      "text/plain": [
       "array([   0, 1936,   60, 1440])"
      ]
     },
     "execution_count": 126,
     "metadata": {},
     "output_type": "execute_result"
    }
   ],
   "source": [
    "np.product(two_dim_arr, axis=0)"
   ]
  },
  {
   "cell_type": "code",
   "execution_count": 127,
   "metadata": {
    "id": "1ab24452-5ffe-4999-a465-d61f5e266705"
   },
   "outputs": [],
   "source": [
    "# And so on..."
   ]
  },
  {
   "cell_type": "markdown",
   "metadata": {
    "id": "bbe423d5-de0e-4b21-adc3-8834e1811f86"
   },
   "source": [
    "Many of these function are also available as method on the array object."
   ]
  },
  {
   "cell_type": "code",
   "execution_count": 128,
   "metadata": {
    "id": "26ab9f71-b476-4f25-ab2e-503956b0da55"
   },
   "outputs": [
    {
     "data": {
      "text/plain": [
       "array([14, 38, 18, 35])"
      ]
     },
     "execution_count": 128,
     "metadata": {},
     "output_type": "execute_result"
    }
   ],
   "source": [
    "two_dim_arr.sum(axis=0)"
   ]
  },
  {
   "cell_type": "markdown",
   "metadata": {
    "id": "c9e25b00-e7bc-4510-bcd0-d595fe5fa228"
   },
   "source": [
    "### Flattening\n",
    "We would like to convert any given array into a 1D array."
   ]
  },
  {
   "cell_type": "code",
   "execution_count": 129,
   "metadata": {
    "id": "e61ca75f-65fc-464b-923a-8cdabc2e3b55"
   },
   "outputs": [
    {
     "data": {
      "text/plain": [
       "array([[[[[[ 0,  1],\n",
       "           [ 2,  3]],\n",
       "\n",
       "          [[ 4,  5],\n",
       "           [ 6,  7]]],\n",
       "\n",
       "\n",
       "         [[[ 8,  9],\n",
       "           [10, 11]],\n",
       "\n",
       "          [[12, 13],\n",
       "           [14, 15]]]],\n",
       "\n",
       "\n",
       "\n",
       "        [[[[16, 17],\n",
       "           [18, 19]],\n",
       "\n",
       "          [[20, 21],\n",
       "           [22, 23]]],\n",
       "\n",
       "\n",
       "         [[[24, 25],\n",
       "           [26, 27]],\n",
       "\n",
       "          [[28, 29],\n",
       "           [30, 31]]]]],\n",
       "\n",
       "\n",
       "\n",
       "\n",
       "       [[[[[32, 33],\n",
       "           [34, 35]],\n",
       "\n",
       "          [[36, 37],\n",
       "           [38, 39]]],\n",
       "\n",
       "\n",
       "         [[[40, 41],\n",
       "           [42, 43]],\n",
       "\n",
       "          [[44, 45],\n",
       "           [46, 47]]]],\n",
       "\n",
       "\n",
       "\n",
       "        [[[[48, 49],\n",
       "           [50, 51]],\n",
       "\n",
       "          [[52, 53],\n",
       "           [54, 55]]],\n",
       "\n",
       "\n",
       "         [[[56, 57],\n",
       "           [58, 59]],\n",
       "\n",
       "          [[60, 61],\n",
       "           [62, 63]]]]]])"
      ]
     },
     "execution_count": 129,
     "metadata": {},
     "output_type": "execute_result"
    }
   ],
   "source": [
    "a = np.arange(64).reshape((2,2,2,2,2,2))\n",
    "a"
   ]
  },
  {
   "cell_type": "code",
   "execution_count": 130,
   "metadata": {
    "id": "0ddf6e93-32b3-4858-a633-3a3aaff51471"
   },
   "outputs": [
    {
     "data": {
      "text/plain": [
       "array([ 0,  1,  2,  3,  4,  5,  6,  7,  8,  9, 10, 11, 12, 13, 14, 15, 16,\n",
       "       17, 18, 19, 20, 21, 22, 23, 24, 25, 26, 27, 28, 29, 30, 31, 32, 33,\n",
       "       34, 35, 36, 37, 38, 39, 40, 41, 42, 43, 44, 45, 46, 47, 48, 49, 50,\n",
       "       51, 52, 53, 54, 55, 56, 57, 58, 59, 60, 61, 62, 63])"
      ]
     },
     "execution_count": 130,
     "metadata": {},
     "output_type": "execute_result"
    }
   ],
   "source": [
    "a.flatten()"
   ]
  },
  {
   "cell_type": "markdown",
   "metadata": {
    "id": "47a7fa98-ce34-4e7e-a0d5-47ef0c4e4704"
   },
   "source": [
    "## Extending arrays"
   ]
  },
  {
   "cell_type": "markdown",
   "metadata": {
    "id": "7e0ecfed-8d1c-4525-a890-7c1059f6f63c"
   },
   "source": [
    "### Adding new dimensions with `np.newaxis`"
   ]
  },
  {
   "cell_type": "code",
   "execution_count": 131,
   "metadata": {
    "id": "0bf0515f-73e0-4b99-aa19-1b85d4e2fae7"
   },
   "outputs": [
    {
     "data": {
      "text/plain": [
       "(array([0, 1, 2, 3, 4]), (5,))"
      ]
     },
     "execution_count": 131,
     "metadata": {},
     "output_type": "execute_result"
    }
   ],
   "source": [
    "one_dim_arr = np.arange(5)\n",
    "one_dim_arr, one_dim_arr.shape"
   ]
  },
  {
   "cell_type": "code",
   "execution_count": 132,
   "metadata": {
    "id": "c9e93106-2896-4319-a01c-eeb123e3aeac"
   },
   "outputs": [
    {
     "data": {
      "text/plain": [
       "(array([[0, 1, 2, 3, 4]]), (1, 5))"
      ]
     },
     "execution_count": 132,
     "metadata": {},
     "output_type": "execute_result"
    }
   ],
   "source": [
    "two_dim_arr = one_dim_arr[np.newaxis, :]\n",
    "two_dim_arr, two_dim_arr.shape"
   ]
  },
  {
   "cell_type": "code",
   "execution_count": 133,
   "metadata": {
    "id": "d5f4d051-6316-4cc6-90d1-f5b88d213eb5"
   },
   "outputs": [
    {
     "data": {
      "text/plain": [
       "(array([[[0]],\n",
       " \n",
       "        [[1]],\n",
       " \n",
       "        [[2]],\n",
       " \n",
       "        [[3]],\n",
       " \n",
       "        [[4]]]),\n",
       " (5, 1, 1))"
      ]
     },
     "execution_count": 133,
     "metadata": {},
     "output_type": "execute_result"
    }
   ],
   "source": [
    "two_dim_arr = one_dim_arr[:, np.newaxis, np.newaxis]\n",
    "two_dim_arr, two_dim_arr.shape"
   ]
  },
  {
   "cell_type": "code",
   "execution_count": 134,
   "metadata": {
    "id": "73fe4eb1-184c-4f8a-8b0a-63bf6baf3155"
   },
   "outputs": [
    {
     "name": "stdout",
     "output_type": "stream",
     "text": [
      "True\n"
     ]
    }
   ],
   "source": [
    "import numpy as np\n",
    "print(np.newaxis==None)"
   ]
  },
  {
   "cell_type": "markdown",
   "metadata": {
    "id": "66312562-51c2-4881-b692-17d5c6d71ba9"
   },
   "source": [
    "Instead of `np.newaxis`, `None` can be used. Both is exactly equivalent, except that `np.newaxis` is more explicit."
   ]
  },
  {
   "cell_type": "code",
   "execution_count": 135,
   "metadata": {
    "id": "90d0e0f5-59e2-4ba9-97b3-ceb81b7a7cde"
   },
   "outputs": [
    {
     "name": "stdout",
     "output_type": "stream",
     "text": [
      "True\n"
     ]
    },
    {
     "data": {
      "text/plain": [
       "(array([[0],\n",
       "        [1],\n",
       "        [2],\n",
       "        [3],\n",
       "        [4]]),\n",
       " (5, 1))"
      ]
     },
     "execution_count": 135,
     "metadata": {},
     "output_type": "execute_result"
    }
   ],
   "source": [
    "print(np.newaxis is None)\n",
    "two_dim_arr = one_dim_arr[:, None]\n",
    "two_dim_arr, two_dim_arr.shape"
   ]
  },
  {
   "cell_type": "markdown",
   "metadata": {
    "id": "fbb54b0f-0c16-4829-9e61-905755805f76"
   },
   "source": [
    "Adding new dimensions is useful for example when Tensorflow is used to batch-inputs, but you want to provide a single datapoint for prediction:"
   ]
  },
  {
   "cell_type": "code",
   "execution_count": 136,
   "metadata": {
    "id": "5ea810cd-aff7-4b5c-a333-b9474c7fbd7b"
   },
   "outputs": [
    {
     "name": "stdout",
     "output_type": "stream",
     "text": [
      "tensorflow_model.fit(datum)\n"
     ]
    }
   ],
   "source": [
    "minibatch = one_dim_arr[None, :]\n",
    "\n",
    "# Tensorflow will internally iterate over all data of the batch, without the new axis there would be an error\n",
    "for datum in minibatch:\n",
    "    print(\"tensorflow_model.fit(datum)\")"
   ]
  },
  {
   "cell_type": "markdown",
   "metadata": {
    "id": "47fe4a49-ddb9-431f-8a63-5f66550041df"
   },
   "source": [
    "### Removing dimensions\n",
    "\n",
    "``arr.squeeze()`` removes dimensions of size 1:"
   ]
  },
  {
   "cell_type": "code",
   "execution_count": 137,
   "metadata": {
    "id": "abba5a8c-88cd-4e2c-9421-e8cd2da01bfd"
   },
   "outputs": [
    {
     "data": {
      "text/plain": [
       "(array([[0, 1, 2, 3, 4]]), (1, 5))"
      ]
     },
     "execution_count": 137,
     "metadata": {},
     "output_type": "execute_result"
    }
   ],
   "source": [
    "one_dim_arr = np.arange(5)\n",
    "two_dim_arr = one_dim_arr[np.newaxis, :]\n",
    "two_dim_arr, two_dim_arr.shape"
   ]
  },
  {
   "cell_type": "code",
   "execution_count": 138,
   "metadata": {
    "id": "7999dd90-9d94-45ac-81e1-dda7373b1a01"
   },
   "outputs": [
    {
     "data": {
      "text/plain": [
       "(array([0, 1, 2, 3, 4]), (5,))"
      ]
     },
     "execution_count": 138,
     "metadata": {},
     "output_type": "execute_result"
    }
   ],
   "source": [
    "two_dim_arr.squeeze(), two_dim_arr.squeeze().shape"
   ]
  },
  {
   "cell_type": "code",
   "execution_count": 139,
   "metadata": {
    "id": "6f00e4a7-cc70-46cb-a763-93074cc83a40"
   },
   "outputs": [
    {
     "data": {
      "text/plain": [
       "array([ True,  True,  True,  True,  True])"
      ]
     },
     "execution_count": 139,
     "metadata": {},
     "output_type": "execute_result"
    }
   ],
   "source": [
    "two_dim_arr.flatten() == two_dim_arr.squeeze()"
   ]
  },
  {
   "cell_type": "code",
   "execution_count": 140,
   "metadata": {
    "id": "cfc649fd-0b24-40b3-91e2-aefb4598077f"
   },
   "outputs": [
    {
     "data": {
      "text/plain": [
       "(array([[[[0],\n",
       "          [1],\n",
       "          [2]]],\n",
       " \n",
       " \n",
       "        [[[3],\n",
       "          [4],\n",
       "          [5]]]]),\n",
       " (2, 1, 3, 1))"
      ]
     },
     "execution_count": 140,
     "metadata": {},
     "output_type": "execute_result"
    }
   ],
   "source": [
    "a = np.arange(6).reshape(2, 1, 3, 1)\n",
    "a, a.shape"
   ]
  },
  {
   "cell_type": "markdown",
   "metadata": {
    "id": "4dfd0755-3aea-480d-ab79-aab3ed88f34b"
   },
   "source": [
    "Dimensions of size > 1 are kept intact."
   ]
  },
  {
   "cell_type": "code",
   "execution_count": 141,
   "metadata": {
    "id": "4ba9bf30-4840-4ac5-a045-457ba49220ba"
   },
   "outputs": [
    {
     "name": "stdout",
     "output_type": "stream",
     "text": [
      "[[0 1 2]\n",
      " [3 4 5]] (2, 3) \n",
      "\n",
      "[0 1 2 3 4 5] (6,)\n"
     ]
    }
   ],
   "source": [
    "print(a.squeeze(), a.squeeze().shape,\"\\n\")\n",
    "print(a.flatten(), a.flatten().shape)"
   ]
  },
  {
   "cell_type": "markdown",
   "metadata": {
    "id": "0b3b150b-b07f-4dd5-8693-be3348c0f6d5",
    "tags": []
   },
   "source": [
    "### Combining arrays\n",
    "There are many ways to combine existing arrays, like `np.append`, `np.concatenate` and `np.stack`. However, these operations always require the whole array to be copied. Therefore, it often makes more sense to allocate an array of the size you need later upfront and then just fill the respective parts."
   ]
  },
  {
   "cell_type": "code",
   "execution_count": 142,
   "metadata": {
    "id": "fbedbbdc-bd00-47da-86d6-84c5787a5558"
   },
   "outputs": [
    {
     "data": {
      "text/plain": [
       "array([0, 1, 2, 3, 4, 5, 6, 7, 8, 9, 9, 8, 7, 6, 5, 4, 3, 2, 1, 0])"
      ]
     },
     "execution_count": 142,
     "metadata": {},
     "output_type": "execute_result"
    }
   ],
   "source": [
    "a = np.arange(10)\n",
    "b = np.arange(10)[::-1]\n",
    "# Needs a sequence (in this case a tuple) of array-likes\n",
    "np.concatenate((a,b))"
   ]
  },
  {
   "cell_type": "markdown",
   "metadata": {
    "id": "4f480c97-6f4c-4eaa-8d26-f8dfc5684e0e"
   },
   "source": [
    "``np.append`` uses concatenation internally:"
   ]
  },
  {
   "cell_type": "code",
   "execution_count": 143,
   "metadata": {
    "id": "e003839f-135f-4061-aa9b-f5c155acd3a8",
    "tags": []
   },
   "outputs": [
    {
     "data": {
      "text/plain": [
       "array([0, 1, 2, 3, 4, 5, 6, 7, 8, 9, 9, 8, 7, 6, 5, 4, 3, 2, 1, 0])"
      ]
     },
     "execution_count": 143,
     "metadata": {},
     "output_type": "execute_result"
    }
   ],
   "source": [
    "# Needs exactly two array-likes\n",
    "np.append(a, b)"
   ]
  },
  {
   "cell_type": "markdown",
   "metadata": {
    "id": "773b1b6e-7445-4799-8f10-3f46ae90eeb7"
   },
   "source": [
    "For higher-dimensional arrays, other functions are useful:"
   ]
  },
  {
   "cell_type": "code",
   "execution_count": 144,
   "metadata": {
    "id": "c8978544-96ca-4c59-8461-bb83bb110fcf"
   },
   "outputs": [
    {
     "data": {
      "text/plain": [
       "array([[0, 1, 2, 3, 4, 5, 6, 7, 8, 9],\n",
       "       [0, 1, 2, 3, 4, 5, 6, 7, 8, 9]])"
      ]
     },
     "execution_count": 144,
     "metadata": {},
     "output_type": "execute_result"
    }
   ],
   "source": [
    "np.stack((np.arange(10), np.arange(10)))"
   ]
  },
  {
   "cell_type": "markdown",
   "metadata": {
    "id": "ceede375-75b5-4286-a4ca-d45438f61020"
   },
   "source": [
    "There are also the functions ``np.vstack`` (vertical/row-wise-stacking) and ``np.hstack`` (horizontal/column-wise-stacking):\n",
    "* hstack is equivalent to concatenation along the second axis, except for 1-D arrays where it concatenates along the first axis\n",
    "* vstack is equivalent to concatenation along the first axis after 1-D arrays of shape (N,) have been reshaped to (1,N)."
   ]
  },
  {
   "cell_type": "code",
   "execution_count": 145,
   "metadata": {
    "id": "c4074670-f76a-47ed-8404-54bd2fd527a9"
   },
   "outputs": [
    {
     "data": {
      "text/plain": [
       "(array([[ 0,  1,  2,  3],\n",
       "        [ 4,  5,  6,  7],\n",
       "        [ 8,  9, 10, 11],\n",
       "        [12, 13, 14, 15]]),\n",
       " array([[16, 17, 18, 19],\n",
       "        [20, 21, 22, 23],\n",
       "        [24, 25, 26, 27],\n",
       "        [28, 29, 30, 31]]))"
      ]
     },
     "execution_count": 145,
     "metadata": {},
     "output_type": "execute_result"
    }
   ],
   "source": [
    "two_dim_arr = np.arange(16).reshape(4, -1)\n",
    "two_dim_arr_2 = np.arange(16).reshape(4, -1) + 16\n",
    "two_dim_arr, two_dim_arr_2"
   ]
  },
  {
   "cell_type": "code",
   "execution_count": 146,
   "metadata": {
    "id": "85e242bd-d479-42cb-90df-88268dfda9c5"
   },
   "outputs": [
    {
     "data": {
      "text/plain": [
       "array([[ 0,  1,  2,  3, 16, 17, 18, 19],\n",
       "       [ 4,  5,  6,  7, 20, 21, 22, 23],\n",
       "       [ 8,  9, 10, 11, 24, 25, 26, 27],\n",
       "       [12, 13, 14, 15, 28, 29, 30, 31]])"
      ]
     },
     "execution_count": 146,
     "metadata": {},
     "output_type": "execute_result"
    }
   ],
   "source": [
    "np.hstack((two_dim_arr, two_dim_arr_2))"
   ]
  },
  {
   "cell_type": "code",
   "execution_count": 147,
   "metadata": {
    "id": "e4dda754-f414-4f09-a9c2-bd2897122663"
   },
   "outputs": [
    {
     "data": {
      "text/plain": [
       "array([[ 0,  1,  2,  3, 16, 17, 18, 19],\n",
       "       [ 4,  5,  6,  7, 20, 21, 22, 23],\n",
       "       [ 8,  9, 10, 11, 24, 25, 26, 27],\n",
       "       [12, 13, 14, 15, 28, 29, 30, 31]])"
      ]
     },
     "execution_count": 147,
     "metadata": {},
     "output_type": "execute_result"
    }
   ],
   "source": [
    "np.concatenate((two_dim_arr, two_dim_arr_2), axis=1)"
   ]
  },
  {
   "cell_type": "code",
   "execution_count": 148,
   "metadata": {
    "id": "08bce33d-d1c3-4704-9be8-567124ef416d"
   },
   "outputs": [
    {
     "data": {
      "text/plain": [
       "array([[ 0,  1,  2,  3],\n",
       "       [ 4,  5,  6,  7],\n",
       "       [ 8,  9, 10, 11],\n",
       "       [12, 13, 14, 15],\n",
       "       [16, 17, 18, 19],\n",
       "       [20, 21, 22, 23],\n",
       "       [24, 25, 26, 27],\n",
       "       [28, 29, 30, 31]])"
      ]
     },
     "execution_count": 148,
     "metadata": {},
     "output_type": "execute_result"
    }
   ],
   "source": [
    "np.vstack((two_dim_arr, two_dim_arr_2))"
   ]
  },
  {
   "cell_type": "code",
   "execution_count": 149,
   "metadata": {
    "id": "e44c6086-3323-4bc2-a066-b6cb3bd671b0"
   },
   "outputs": [
    {
     "data": {
      "text/plain": [
       "array([[ 0,  1,  2,  3],\n",
       "       [ 4,  5,  6,  7],\n",
       "       [ 8,  9, 10, 11],\n",
       "       [12, 13, 14, 15],\n",
       "       [16, 17, 18, 19],\n",
       "       [20, 21, 22, 23],\n",
       "       [24, 25, 26, 27],\n",
       "       [28, 29, 30, 31]])"
      ]
     },
     "execution_count": 149,
     "metadata": {},
     "output_type": "execute_result"
    }
   ],
   "source": [
    "np.concatenate((two_dim_arr, two_dim_arr_2), axis=0)"
   ]
  },
  {
   "cell_type": "markdown",
   "metadata": {
    "id": "fe3293a4-b55d-41e6-8377-59b4a0e0fece"
   },
   "source": [
    "A quick and easy way to combine scalars and arrays is using ``np.r_``, with the desired arrays, lists, or numbers in square brackets:"
   ]
  },
  {
   "cell_type": "code",
   "execution_count": 150,
   "metadata": {
    "id": "c0c21fc2-6a25-4d10-b7bb-3b2f7dbdb9b7",
    "tags": []
   },
   "outputs": [
    {
     "data": {
      "text/plain": [
       "array([2, 2, 2, 0, 1, 2, 3, 4, 5, 6, 7, 8, 9, 9, 8, 7, 6, 5, 4, 3, 2, 1,\n",
       "       0, 0, 1, 2])"
      ]
     },
     "execution_count": 150,
     "metadata": {},
     "output_type": "execute_result"
    }
   ],
   "source": [
    "np.r_[2, 2, 2, np.arange(10), np.arange(10)[::-1], [0, 1, 2]]"
   ]
  },
  {
   "cell_type": "markdown",
   "metadata": {
    "id": "6d3d26c2-1210-406f-92ee-3fafdeb642d3"
   },
   "source": [
    "#### tl;dr: What exactly is this np.r_?\n",
    "For finding this out I had to go into the code of numpy itself, it is not really in the documentation (there it only says that this is not a function... so what is it then?). To be honest: best just accept it the way it is. Otherwise, here's the story:\n",
    "\n",
    "``np.r_`` is a variable from the numpy namespace and is created in \"index_tricks.py\". In this variable the instantiation of an `RClass` object is saved. This ``RClass`` is a wrapper for the ``AxisConcatenator`` class with the single purpose of creating a specific kind of Axis concatenator oject. Namely, it is the same as `AxisConcatenator(axis = 0)`. AxisConcatenator implements the `__getitem__` method, that is why we can use the squared brackets behind `np.r_`. This is a bit confusing, usually we use the squared brackets after a variable for indexing. But at the same time this is an extremely efficient way of implementing the functionality of `np.r_`. And since numpy is all about efficiency, we should forgive this questionable syntax and make use of it where ever possible."
   ]
  },
  {
   "cell_type": "markdown",
   "metadata": {
    "id": "b2d57eb3-dc76-4656-a92d-851ffd4e5164",
    "tags": []
   },
   "source": [
    "### Broadcasting\n",
    "What happens if you try to add arrays of different shapes? Numpy will try to expand the arrays according to three rules and try to make their shapes match, so the operation can be applied elementwise. \n",
    "\n",
    "**1. Rule** If the arrays have different numbers of dimensions, the smaller shape is padded with ones on its left side.<br/>\n",
    "            Example: (5 x 3) + (3) &rarr; (5 x 3) + (**1** x 3)<br/>\n",
    "**2. Rule** If the number of the dimensions matches, but the size of a dimension does not, dimensions with the size of 1 are expanded.<br/>\n",
    "            Example: (5 x 3) + (1 x 3) &rarr; (5 x 3) + (**5** x 3)<br/>\n",
    "**3. Rule** If the shapes of the  arrays still defer after applying the Rule 1 and 2, a broadcasting error is raised.\n",
    "\n",
    "The figure below gives an illustration (source https://jakevdp.github.io/PythonDataScienceHandbook/02.05-computation-on-arrays-broadcasting.html)\n",
    "\n",
    "![](broadcasting.png)\n",
    "\n",
    "The Numpy documentation gives further insights https://docs.scipy.org/doc/numpy-1.14.0/user/basics.broadcasting.html."
   ]
  },
  {
   "cell_type": "code",
   "execution_count": 151,
   "metadata": {
    "id": "8158adba-112f-4671-bd15-670b84d5e3ec"
   },
   "outputs": [
    {
     "data": {
      "text/plain": [
       "array([[ 0,  1,  2],\n",
       "       [ 3,  4,  5],\n",
       "       [ 6,  7,  8],\n",
       "       [ 9, 10, 11],\n",
       "       [12, 13, 14]])"
      ]
     },
     "execution_count": 151,
     "metadata": {},
     "output_type": "execute_result"
    }
   ],
   "source": [
    "a = np.arange(15).reshape(5, 3)\n",
    "a"
   ]
  },
  {
   "cell_type": "code",
   "execution_count": 152,
   "metadata": {
    "id": "55f93004-368e-4058-adc8-7af7debc67e4"
   },
   "outputs": [
    {
     "data": {
      "text/plain": [
       "array([0, 1, 2])"
      ]
     },
     "execution_count": 152,
     "metadata": {},
     "output_type": "execute_result"
    }
   ],
   "source": [
    "b = np.arange(3)\n",
    "b"
   ]
  },
  {
   "cell_type": "code",
   "execution_count": 153,
   "metadata": {
    "id": "2859a586-892c-4dbf-b72d-4e249d6d49fb"
   },
   "outputs": [
    {
     "name": "stdout",
     "output_type": "stream",
     "text": [
      "(5, 3)\n",
      "(3,)\n"
     ]
    },
    {
     "data": {
      "text/plain": [
       "array([[ 0,  2,  4],\n",
       "       [ 3,  5,  7],\n",
       "       [ 6,  8, 10],\n",
       "       [ 9, 11, 13],\n",
       "       [12, 14, 16]])"
      ]
     },
     "execution_count": 153,
     "metadata": {},
     "output_type": "execute_result"
    }
   ],
   "source": [
    "print(a.shape)\n",
    "print(b.shape)\n",
    "\n",
    "a + b"
   ]
  },
  {
   "cell_type": "markdown",
   "metadata": {
    "id": "62c45927-3601-4a30-8e90-469a034ece8e"
   },
   "source": [
    "And that is what numpy does with the shapes:"
   ]
  },
  {
   "cell_type": "code",
   "execution_count": 154,
   "metadata": {
    "id": "3a9804a1-4ec7-481d-b537-68bbcb424137"
   },
   "outputs": [
    {
     "name": "stdout",
     "output_type": "stream",
     "text": [
      "(3,)\n",
      "(1, 3)\n",
      "(5, 3)\n"
     ]
    },
    {
     "data": {
      "text/plain": [
       "array([[ 0,  2,  4],\n",
       "       [ 3,  5,  7],\n",
       "       [ 6,  8, 10],\n",
       "       [ 9, 11, 13],\n",
       "       [12, 14, 16]])"
      ]
     },
     "execution_count": 154,
     "metadata": {},
     "output_type": "execute_result"
    }
   ],
   "source": [
    "b = np.arange(3)\n",
    "print(b.shape)\n",
    "b = b[np.newaxis,:] #Rule1\n",
    "print(b.shape)\n",
    "b = np.repeat(b,5,axis=0) #ERule2\n",
    "print(b.shape)\n",
    "a + b"
   ]
  },
  {
   "cell_type": "markdown",
   "metadata": {
    "id": "ef7a69c7-9f58-4148-b8eb-de7376b579af"
   },
   "source": [
    "Here is a case in which broadcasting fails."
   ]
  },
  {
   "cell_type": "code",
   "execution_count": 155,
   "metadata": {
    "id": "9c163314-fde3-4dc2-8e7a-bd49750d9496"
   },
   "outputs": [],
   "source": [
    "# c = np.arange(4)\n",
    "# a + c"
   ]
  },
  {
   "cell_type": "markdown",
   "metadata": {
    "id": "EI3us8kUjEHm"
   },
   "source": [
    "# Masking \n",
    "\n",
    "Logical arrays, i.e. arrays containing boolean values, can be used to index other arrays. These logical arrays are then called masks. This is especially useful to index based on logical conditions."
   ]
  },
  {
   "cell_type": "code",
   "execution_count": 156,
   "metadata": {
    "id": "HfMGp0lOo9Zf"
   },
   "outputs": [
    {
     "data": {
      "text/plain": [
       "array([1, 2, 3, 4, 5])"
      ]
     },
     "execution_count": 156,
     "metadata": {},
     "output_type": "execute_result"
    }
   ],
   "source": [
    "# A simple integer array.\n",
    "arr = np.arange(1, 6)\n",
    "arr"
   ]
  },
  {
   "cell_type": "code",
   "execution_count": 157,
   "metadata": {
    "id": "XkHs31-6o9bh"
   },
   "outputs": [
    {
     "data": {
      "text/plain": [
       "array([ True, False,  True, False,  True])"
      ]
     },
     "execution_count": 157,
     "metadata": {},
     "output_type": "execute_result"
    }
   ],
   "source": [
    "# A boolean array of the same shape as arr.\n",
    "mask = np.array([True, False, True, False, True])\n",
    "mask"
   ]
  },
  {
   "cell_type": "markdown",
   "metadata": {
    "id": "0jf_wGQCrHIz"
   },
   "source": [
    "\n",
    "Uising the masked array, its possibel to return only the elemenst where the mask is true. "
   ]
  },
  {
   "cell_type": "code",
   "execution_count": 158,
   "metadata": {
    "id": "pdfDjNeWo_oF"
   },
   "outputs": [
    {
     "data": {
      "text/plain": [
       "array([1, 3, 5])"
      ]
     },
     "execution_count": 158,
     "metadata": {},
     "output_type": "execute_result"
    }
   ],
   "source": [
    "arr[mask]"
   ]
  },
  {
   "cell_type": "markdown",
   "metadata": {
    "id": "3fitwYUKrJpm"
   },
   "source": [
    "Luckily for us, Operators in numpy work element-wise and return a boolean array:"
   ]
  },
  {
   "cell_type": "code",
   "execution_count": 159,
   "metadata": {
    "id": "cJFGCZVco_qY"
   },
   "outputs": [
    {
     "data": {
      "text/plain": [
       "array([ True,  True,  True,  True, False])"
      ]
     },
     "execution_count": 159,
     "metadata": {},
     "output_type": "execute_result"
    }
   ],
   "source": [
    "arr < 5"
   ]
  },
  {
   "cell_type": "markdown",
   "metadata": {
    "id": "kmcXsu5irMhL"
   },
   "source": [
    "Because of this, we can use direct comparison as a mask:"
   ]
  },
  {
   "cell_type": "code",
   "execution_count": 160,
   "metadata": {
    "id": "FHq428_8o_s2"
   },
   "outputs": [
    {
     "data": {
      "text/plain": [
       "array([1, 2])"
      ]
     },
     "execution_count": 160,
     "metadata": {},
     "output_type": "execute_result"
    }
   ],
   "source": [
    "arr[arr < 3]"
   ]
  },
  {
   "cell_type": "markdown",
   "metadata": {
    "id": "7Vg6qEiRpKXa"
   },
   "source": [
    "# Exercise\n",
    "\n",
    "Replace all odd numbers in the given array with -1"
   ]
  },
  {
   "cell_type": "code",
   "execution_count": 161,
   "metadata": {
    "id": "nnWJaUSTo_v1"
   },
   "outputs": [
    {
     "data": {
      "text/plain": [
       "array([0, 1, 2, 3, 4, 5, 6, 7, 8, 9])"
      ]
     },
     "execution_count": 161,
     "metadata": {},
     "output_type": "execute_result"
    }
   ],
   "source": [
    "arr = np.array([0, 1, 2, 3, 4, 5, 6, 7, 8, 9])\n",
    "arr"
   ]
  },
  {
   "cell_type": "code",
   "execution_count": 162,
   "metadata": {
    "id": "Fv-PaoSBpYQp"
   },
   "outputs": [
    {
     "data": {
      "text/plain": [
       "array([ 0, -1,  2, -1,  4, -1,  6, -1,  8, -1])"
      ]
     },
     "execution_count": 162,
     "metadata": {},
     "output_type": "execute_result"
    }
   ],
   "source": [
    "arr[arr%2==1] = -1\n",
    "arr"
   ]
  },
  {
   "cell_type": "markdown",
   "metadata": {
    "id": "i1TFixSu7gIY"
   },
   "source": [
    "## Advanced Masking\n"
   ]
  },
  {
   "cell_type": "code",
   "execution_count": 163,
   "metadata": {
    "id": "4Gwqnjrx7lb2"
   },
   "outputs": [
    {
     "data": {
      "text/plain": [
       "array([1, 2, 3, 4, 5, 6])"
      ]
     },
     "execution_count": 163,
     "metadata": {},
     "output_type": "execute_result"
    }
   ],
   "source": [
    "arr = np.arange(1, 7)\n",
    "arr"
   ]
  },
  {
   "cell_type": "markdown",
   "metadata": {
    "id": "TontG9ux7oIk"
   },
   "source": [
    "Different masks can be combined using bitwise logical operators. These are the vectorized version of logical operators and should not be confused with and, or and not when evaluating the truth value of a whole object."
   ]
  },
  {
   "cell_type": "code",
   "execution_count": 164,
   "metadata": {
    "id": "5W2nVzum7ld9"
   },
   "outputs": [
    {
     "data": {
      "text/plain": [
       "array([ True,  True,  True,  True, False, False])"
      ]
     },
     "execution_count": 164,
     "metadata": {},
     "output_type": "execute_result"
    }
   ],
   "source": [
    "smaller_or_equal_four = (arr <= 4)\n",
    "smaller_or_equal_four   "
   ]
  },
  {
   "cell_type": "code",
   "execution_count": 165,
   "metadata": {
    "id": "79eddy-y7lgX"
   },
   "outputs": [
    {
     "data": {
      "text/plain": [
       "array([False, False,  True,  True,  True,  True])"
      ]
     },
     "execution_count": 165,
     "metadata": {},
     "output_type": "execute_result"
    }
   ],
   "source": [
    "greater_two = (arr > 2)\n",
    "greater_two"
   ]
  },
  {
   "cell_type": "code",
   "execution_count": 166,
   "metadata": {
    "id": "K_G911KP7lid"
   },
   "outputs": [
    {
     "data": {
      "text/plain": [
       "array([False, False,  True,  True, False, False])"
      ]
     },
     "execution_count": 166,
     "metadata": {},
     "output_type": "execute_result"
    }
   ],
   "source": [
    "greater_two & smaller_or_equal_four"
   ]
  },
  {
   "cell_type": "code",
   "execution_count": 167,
   "metadata": {
    "id": "59z6ctxD7u5S"
   },
   "outputs": [
    {
     "data": {
      "text/plain": [
       "array([1, 2, 3, 4, 5, 6])"
      ]
     },
     "execution_count": 167,
     "metadata": {},
     "output_type": "execute_result"
    }
   ],
   "source": [
    "arr"
   ]
  },
  {
   "cell_type": "markdown",
   "metadata": {
    "id": "3fTUE4i473uk"
   },
   "source": [
    "- Bitwise or using `|` \n",
    "- Bitwise xor using `^`\n",
    "- Bitwise negation using `~`"
   ]
  },
  {
   "cell_type": "code",
   "execution_count": 168,
   "metadata": {
    "id": "HIZ-q5SW7u7M"
   },
   "outputs": [
    {
     "data": {
      "text/plain": [
       "array([2])"
      ]
     },
     "execution_count": 168,
     "metadata": {},
     "output_type": "execute_result"
    }
   ],
   "source": [
    "arr[~((arr < 2) ^ (arr > 2))]"
   ]
  },
  {
   "cell_type": "code",
   "execution_count": 169,
   "metadata": {
    "id": "a7OheM8R8ul_"
   },
   "outputs": [
    {
     "data": {
      "text/plain": [
       "array([1, 2])"
      ]
     },
     "execution_count": 169,
     "metadata": {},
     "output_type": "execute_result"
    }
   ],
   "source": [
    "arr[~greater_two]"
   ]
  },
  {
   "cell_type": "markdown",
   "metadata": {
    "id": "1iY3d6DA9Zpe"
   },
   "source": [
    "using `numpy.where() ` \n",
    "\n",
    "`numpy.where(condition, [x, y,])` here X and Y are the values to chose from. \n",
    "\n",
    "doc - `https://numpy.org/doc/stable/reference/generated/numpy.where.html`\n"
   ]
  },
  {
   "cell_type": "code",
   "execution_count": 170,
   "metadata": {
    "id": "SBxiohiw9jg3"
   },
   "outputs": [
    {
     "data": {
      "text/plain": [
       "array([0, 1, 2, 3, 4, 5, 6, 7, 8, 9])"
      ]
     },
     "execution_count": 170,
     "metadata": {},
     "output_type": "execute_result"
    }
   ],
   "source": [
    "a = np.arange(10)\n",
    "a"
   ]
  },
  {
   "cell_type": "code",
   "execution_count": 171,
   "metadata": {
    "id": "5tgkEKjn9jii"
   },
   "outputs": [
    {
     "data": {
      "text/plain": [
       "array([ 0,  1,  2,  3,  4, 50, 60, 70, 80, 90])"
      ]
     },
     "execution_count": 171,
     "metadata": {},
     "output_type": "execute_result"
    }
   ],
   "source": [
    "np.where(a < 5, a, a*10)"
   ]
  },
  {
   "cell_type": "markdown",
   "metadata": {
    "id": "D7VHOb7ZpKVo"
   },
   "source": [
    "Maks can be used for assignment, which keeps the shape of the original array."
   ]
  },
  {
   "cell_type": "markdown",
   "metadata": {
    "id": "-UzNAE-gv-G8"
   },
   "source": [
    "# Advance Indexing\n",
    "\n",
    "Numpy provides indexing methods that go beyond the indexing techniques known from standard Python sequences.\n",
    "\n"
   ]
  },
  {
   "cell_type": "markdown",
   "metadata": {
    "id": "KielNDN9xLRw"
   },
   "source": [
    "\n",
    "### Multidimensional indexing\n",
    "You can use a colon to get all values from that dimensions."
   ]
  },
  {
   "cell_type": "code",
   "execution_count": 172,
   "metadata": {
    "id": "NNq3fueJv1qi"
   },
   "outputs": [
    {
     "data": {
      "text/plain": [
       "array([[ 0,  1,  2,  3,  4,  5,  6,  7,  8],\n",
       "       [ 9, 10, 11, 12, 13, 14, 15, 16, 17],\n",
       "       [18, 19, 20, 21, 22, 23, 24, 25, 26],\n",
       "       [27, 28, 29, 30, 31, 32, 33, 34, 35],\n",
       "       [36, 37, 38, 39, 40, 41, 42, 43, 44],\n",
       "       [45, 46, 47, 48, 49, 50, 51, 52, 53],\n",
       "       [54, 55, 56, 57, 58, 59, 60, 61, 62],\n",
       "       [63, 64, 65, 66, 67, 68, 69, 70, 71],\n",
       "       [72, 73, 74, 75, 76, 77, 78, 79, 80]])"
      ]
     },
     "execution_count": 172,
     "metadata": {},
     "output_type": "execute_result"
    }
   ],
   "source": [
    "large_two_dim_arr = np.arange(81).reshape((9, 9))\n",
    "large_two_dim_arr"
   ]
  },
  {
   "cell_type": "markdown",
   "metadata": {
    "id": "KrzakUzfxZV8"
   },
   "source": [
    "the syntex works as `[row, column]`, to break it down more,   `[row_start : row_end, col_start : col_end]`"
   ]
  },
  {
   "cell_type": "code",
   "execution_count": 173,
   "metadata": {
    "id": "vi59V6FlxX5N"
   },
   "outputs": [
    {
     "data": {
      "text/plain": [
       "array([ 2, 11, 20, 29, 38, 47, 56, 65, 74])"
      ]
     },
     "execution_count": 173,
     "metadata": {},
     "output_type": "execute_result"
    }
   ],
   "source": [
    "large_two_dim_arr[:, 2]"
   ]
  },
  {
   "cell_type": "code",
   "execution_count": 174,
   "metadata": {
    "id": "lvbIN9_oydJ_"
   },
   "outputs": [
    {
     "data": {
      "text/plain": [
       "array([11, 12, 13, 14, 15])"
      ]
     },
     "execution_count": 174,
     "metadata": {},
     "output_type": "execute_result"
    }
   ],
   "source": [
    "large_two_dim_arr[1, 2:7]"
   ]
  },
  {
   "cell_type": "markdown",
   "metadata": {
    "id": "i80gl7j5yuu4"
   },
   "source": [
    "with Standard slicing `(start, stop, step)` works as expected."
   ]
  },
  {
   "cell_type": "code",
   "execution_count": 175,
   "metadata": {
    "id": "kARDOdvTyuON"
   },
   "outputs": [
    {
     "data": {
      "text/plain": [
       "array([[ 2,  4,  6],\n",
       "       [11, 13, 15],\n",
       "       [20, 22, 24],\n",
       "       [29, 31, 33],\n",
       "       [38, 40, 42],\n",
       "       [47, 49, 51],\n",
       "       [56, 58, 60],\n",
       "       [65, 67, 69],\n",
       "       [74, 76, 78]])"
      ]
     },
     "execution_count": 175,
     "metadata": {},
     "output_type": "execute_result"
    }
   ],
   "source": [
    "large_two_dim_arr[:, 2:7:2]"
   ]
  },
  {
   "cell_type": "markdown",
   "metadata": {
    "id": "1A7wfsfjzoX5"
   },
   "source": [
    "# Exercise\n",
    " for the array below find the labeled numbers. \n",
    " to generate the array, the code has been provided in the code cell below![advance_indexing_exercise_1.png](data:image/png;base64,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)\n"
   ]
  },
  {
   "cell_type": "code",
   "execution_count": 176,
   "metadata": {
    "id": "REdXjHTPyuQa"
   },
   "outputs": [
    {
     "name": "stdout",
     "output_type": "stream",
     "text": [
      "[[  0   1   2   3   4   5   6   7   8   9  10]\n",
      " [ 11  12  13  14  15  16  17  18  19  20  21]\n",
      " [ 22  23  24  25  26  27  28  29  30  31  32]\n",
      " [ 33  34  35  36  37  38  39  40  41  42  43]\n",
      " [ 44  45  46  47  48  49  50  51  52  53  54]\n",
      " [ 55  56  57  58  59  60  61  62  63  64  65]\n",
      " [ 66  67  68  69  70  71  72  73  74  75  76]\n",
      " [ 77  78  79  80  81  82  83  84  85  86  87]\n",
      " [ 88  89  90  91  92  93  94  95  96  97  98]\n",
      " [ 99 100 101 102 103 104 105 106 107 108 109]\n",
      " [110 111 112 113 114 115 116 117 118 119 120]]\n"
     ]
    }
   ],
   "source": [
    "advance_indexing_1 = np.arange(121).reshape(11,11)\n",
    "print(advance_indexing_1)\n",
    "\n",
    "# write your code below.\n"
   ]
  },
  {
   "cell_type": "markdown",
   "metadata": {
    "id": "kFwxcQN5vH00"
   },
   "source": [
    "Answer!"
   ]
  },
  {
   "cell_type": "code",
   "execution_count": 177,
   "metadata": {
    "id": "3L9djt950GPa"
   },
   "outputs": [],
   "source": [
    "#advance_indexing_1[1:10,1:6:2]"
   ]
  },
  {
   "cell_type": "markdown",
   "metadata": {
    "id": "VWqe0mTP5Mtj"
   },
   "source": [
    "with numpy it is possible to stack arrays, even stack them up vertically or horizontally. "
   ]
  },
  {
   "cell_type": "markdown",
   "metadata": {
    "id": "fjMIGrXq5zNQ"
   },
   "source": [
    "it is possible to stack  arrays on top of each other vertically with `numpy.vstack`"
   ]
  },
  {
   "cell_type": "code",
   "execution_count": 178,
   "metadata": {
    "id": "RW6LXfHw5mYb"
   },
   "outputs": [
    {
     "data": {
      "text/plain": [
       "array([[4, 5, 6],\n",
       "       [1, 2, 3]])"
      ]
     },
     "execution_count": 178,
     "metadata": {},
     "output_type": "execute_result"
    }
   ],
   "source": [
    "a = np.array([1, 2, 3])\n",
    "b = np.array([4, 5, 6])\n",
    "\n",
    "np.vstack((b,a))"
   ]
  },
  {
   "cell_type": "markdown",
   "metadata": {
    "id": "mP8FuUq36EgD"
   },
   "source": [
    "for stacking them up horizontally, there is a function called `numpy.hstack`"
   ]
  },
  {
   "cell_type": "code",
   "execution_count": 179,
   "metadata": {
    "id": "4BnGbLRg5C2U"
   },
   "outputs": [
    {
     "data": {
      "text/plain": [
       "array([1, 2, 3, 4, 5, 6])"
      ]
     },
     "execution_count": 179,
     "metadata": {},
     "output_type": "execute_result"
    }
   ],
   "source": [
    "a = np.array((1,2,3))\n",
    "b = np.array((4,5,6))\n",
    "np.hstack((a,b))"
   ]
  },
  {
   "cell_type": "markdown",
   "metadata": {
    "id": "VcO_VbGX_hUL"
   },
   "source": [
    "You can index each dimension separately."
   ]
  },
  {
   "cell_type": "code",
   "execution_count": 180,
   "metadata": {
    "id": "x6VxIFP8_hxt"
   },
   "outputs": [
    {
     "data": {
      "text/plain": [
       "array([[ 0,  1,  2,  3,  4],\n",
       "       [ 5,  6,  7,  8,  9],\n",
       "       [10, 11, 12, 13, 14],\n",
       "       [15, 16, 17, 18, 19],\n",
       "       [20, 21, 22, 23, 24]])"
      ]
     },
     "execution_count": 180,
     "metadata": {},
     "output_type": "execute_result"
    }
   ],
   "source": [
    "two_dim_arr = np.arange(25).reshape(5, 5)\n",
    "two_dim_arr"
   ]
  },
  {
   "cell_type": "code",
   "execution_count": 181,
   "metadata": {
    "id": "5FXa6X3E_m4X"
   },
   "outputs": [
    {
     "data": {
      "text/plain": [
       "array([16, 22])"
      ]
     },
     "execution_count": 181,
     "metadata": {},
     "output_type": "execute_result"
    }
   ],
   "source": [
    "x_indices = np.array([3, 4])\n",
    "y_indices = np.array([1, 2])\n",
    "two_dim_arr[x_indices, y_indices] # Corresponds to indexing at [3, 1] and [4, 2]."
   ]
  },
  {
   "cell_type": "markdown",
   "metadata": {
    "id": "FwVaFynIYwGV"
   },
   "source": [
    "# Random Number\n",
    "\n",
    "NumPy has module `numpy.random` which provides is with the options for generating pseudo-random numbers. For instance, there are various distributions to sample from. It has options for creating distributions as well. \n",
    "\n",
    "below, we show some of them with examples. \n",
    "\n",
    "for more information, please refer to the documentations. `https://numpy.org/doc/1.16/reference/routines.random.html`"
   ]
  },
  {
   "cell_type": "markdown",
   "metadata": {
    "id": "ZKVH81rVznfF"
   },
   "source": [
    "\n",
    "Generates a **random sample** from a given** 1-D **array\n",
    "- random.choice(`a`, `size=None`, `replace=True`, `p=None`)"
   ]
  },
  {
   "cell_type": "code",
   "execution_count": 182,
   "metadata": {
    "id": "9OCNPjt8YvsZ"
   },
   "outputs": [
    {
     "data": {
      "text/plain": [
       "array(['salad', 'pizza', 'burger'], dtype='<U6')"
      ]
     },
     "execution_count": 182,
     "metadata": {},
     "output_type": "execute_result"
    }
   ],
   "source": [
    "\n",
    "import numpy as np\n",
    "\n",
    "select = [\"pizza\", \"burger\", \"shakes\", \"fries\", \"salad\"]\n",
    "np.random.choice(select, 3)\n"
   ]
  },
  {
   "cell_type": "markdown",
   "metadata": {
    "id": "v8Ve7gtPyCTS"
   },
   "source": [
    "Return **random integers** from low (inclusive) to high (exclusive).\n",
    "- np.random.randint(`low`, `high=None`, `size=None`, `dtype=int`)"
   ]
  },
  {
   "cell_type": "code",
   "execution_count": 183,
   "metadata": {
    "id": "ErVRrj76s7aK"
   },
   "outputs": [
    {
     "data": {
      "text/plain": [
       "array([4, 0, 3])"
      ]
     },
     "execution_count": 183,
     "metadata": {},
     "output_type": "execute_result"
    }
   ],
   "source": [
    "np.random.randint(0,10,3)"
   ]
  },
  {
   "cell_type": "markdown",
   "metadata": {
    "id": "__Cei1QvyaEc"
   },
   "source": [
    "\n",
    "Draw samples from a **uniform distribution**.\n",
    "- random.uniform(`low=0.0`, `high=1.0`, `size=None`)"
   ]
  },
  {
   "cell_type": "code",
   "execution_count": 184,
   "metadata": {
    "id": "oc9v9jEHs7bx"
   },
   "outputs": [
    {
     "name": "stdout",
     "output_type": "stream",
     "text": [
      "[3.75072157 4.94430544 3.74082827 1.40221996 3.94639664 0.51613003\n",
      " 2.23946763 4.54297752 1.46807074 1.43887669]\n"
     ]
    }
   ],
   "source": [
    "uniform = np.random.uniform(0, 5, size=10)  \n",
    "print(uniform)"
   ]
  },
  {
   "cell_type": "markdown",
   "metadata": {
    "id": "-fLxOJZgyvEK"
   },
   "source": [
    "\n",
    "Draw **random samples** from a normal (Gaussian) distribution.\n",
    "- random.normal(`loc=0.0`, `scale=1.0`, `size=None`)"
   ]
  },
  {
   "cell_type": "code",
   "execution_count": 185,
   "metadata": {
    "id": "ZfW9H4-0fhIb"
   },
   "outputs": [
    {
     "name": "stdout",
     "output_type": "stream",
     "text": [
      "[-1.05825656  0.65628408 -0.06249159 -1.73865429  0.103163   -0.62166685\n",
      "  0.27571804 -1.09067489 -0.60998525  0.30641238]\n"
     ]
    }
   ],
   "source": [
    "normal = np.random.normal(0, 1, size=10)\n",
    "print(normal)"
   ]
  },
  {
   "cell_type": "markdown",
   "metadata": {
    "id": "nUkh2n-pgDFQ"
   },
   "source": [
    "In some cases, you may want the generated random numbers to be the same every time you run your program. In that case, you can set a seed like this before generating."
   ]
  },
  {
   "cell_type": "code",
   "execution_count": 186,
   "metadata": {
    "id": "4OF5iMmugWCw"
   },
   "outputs": [
    {
     "data": {
      "text/plain": [
       "array([0.65358959, 0.11500694, 0.95028286, 0.4821914 , 0.87247454,\n",
       "       0.21233268, 0.04070962, 0.39719446, 0.2331322 , 0.84174072])"
      ]
     },
     "execution_count": 186,
     "metadata": {},
     "output_type": "execute_result"
    }
   ],
   "source": [
    "# for using seed(any number) before producing random numbers, \n",
    "# it will prodeuce the same number all the time. \n",
    "np.random.seed(1000)\n",
    "np.random.uniform(0, 1, size=10)"
   ]
  },
  {
   "cell_type": "markdown",
   "metadata": {
    "id": "fzQ-TW_Lg1ZQ"
   },
   "source": [
    "it is also possible to shuffel and array in place with `numpy.random.shuffle`. \n",
    "\n",
    "if we want to return a copy of the array shuffled, `numpy.random.permutation` gets the job done! "
   ]
  },
  {
   "cell_type": "code",
   "execution_count": 187,
   "metadata": {
    "id": "L9nhNliihVMO"
   },
   "outputs": [
    {
     "name": "stdout",
     "output_type": "stream",
     "text": [
      "the original array\n",
      "[10  9  4 18  9 18 13 18 10 14]\n",
      "the original array after shuffeling\n",
      "[18 13 14  9  4 10 10 18  9 18]\n"
     ]
    }
   ],
   "source": [
    "array1 = np.random.randint(0,20,10)\n",
    "print(\"the original array\")\n",
    "print(array1)\n",
    "\n",
    "np.random.shuffle(array1)\n",
    "print(\"the original array after shuffeling\")\n",
    "print(array1)\n",
    "\n"
   ]
  },
  {
   "cell_type": "code",
   "execution_count": 188,
   "metadata": {
    "id": "zP3BHlwNhvI_"
   },
   "outputs": [
    {
     "name": "stdout",
     "output_type": "stream",
     "text": [
      "the original array\n",
      "[ 7 16 11 17  0 13 18  1 11 14]\n",
      "the original array after permutation\n",
      "[ 7 16 11 17  0 13 18  1 11 14]\n",
      "the shuffled array\n",
      "[ 0 11 11  7 17 14 18 13 16  1]\n"
     ]
    }
   ],
   "source": [
    "array1 = np.random.randint(0,20,10)\n",
    "print(\"the original array\")\n",
    "print(array1)\n",
    "\n",
    "array_2 = np.random.permutation(array1)\n",
    "print(\"the original array after permutation\")\n",
    "print(array1)\n",
    "\n",
    "print(\"the shuffled array\")\n",
    "print(array_2)\n"
   ]
  },
  {
   "cell_type": "markdown",
   "metadata": {
    "id": "WGHSPVqghuzC"
   },
   "source": [
    "# More Numpy\n",
    "\n",
    "Numpy has a lot more to offer. some of them are left off here. Next week we will dive more deep. It is always recomended to check the documentation for more knolwdge and checking out how different metods works. `https://numpy.org/doc/`"
   ]
  }
 ],
 "metadata": {
  "colab": {
   "collapsed_sections": [],
   "name": "Robin_leonard_argha.ipynb",
   "provenance": []
  },
  "kernelspec": {
   "display_name": "Python 3 (ipykernel)",
   "language": "python",
   "name": "python3"
  },
  "language_info": {
   "codemirror_mode": {
    "name": "ipython",
    "version": 3
   },
   "file_extension": ".py",
   "mimetype": "text/x-python",
   "name": "python",
   "nbconvert_exporter": "python",
   "pygments_lexer": "ipython3",
   "version": "3.9.7"
  }
 },
 "nbformat": 4,
 "nbformat_minor": 4
}
