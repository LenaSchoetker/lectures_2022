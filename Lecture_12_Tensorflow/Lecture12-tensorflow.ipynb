{
 "cells": [
  {
   "cell_type": "markdown",
   "id": "2a6e9961-c5f4-4814-81cf-b8e476b88905",
   "metadata": {},
   "source": [
    "# Neural Networks with TensorFlow\n",
    "`pip install tensorflow`<br>\n",
    "TensorFlow is a machine learning library that we can use to implement **Neural Networks** and that does all the complicated math stuff for us in an efficient way."
   ]
  },
  {
   "cell_type": "code",
   "execution_count": 1,
   "id": "994131ae-3573-4801-8f77-714b2be133ed",
   "metadata": {},
   "outputs": [],
   "source": [
    "import tensorflow as tf\n",
    "import numpy as np"
   ]
  },
  {
   "cell_type": "markdown",
   "id": "6febcee8-f7f0-41ba-9011-b0c764965934",
   "metadata": {},
   "source": [
    "## Data\n",
    "Our goal will be to classify the handdrawn digits from the MNIST dataset"
   ]
  },
  {
   "cell_type": "code",
   "execution_count": 2,
   "id": "4a3798ff-c264-49ff-acf9-6a1751f7d736",
   "metadata": {},
   "outputs": [],
   "source": [
    "(x_train, y_train), (x_test, y_test) = tf.keras.datasets.mnist.load_data()"
   ]
  },
  {
   "cell_type": "markdown",
   "id": "6b53fe13-c896-4a3b-b824-b870a70bd1d8",
   "metadata": {},
   "source": [
    "The features that our model gets as an input are the handdrawn images that have *shape 28, 28*<br>\n",
    "The targets are the labels of these images<br>"
   ]
  },
  {
   "cell_type": "code",
   "execution_count": 3,
   "id": "c0c0559e-0359-4b5c-b431-c80f78011c7c",
   "metadata": {},
   "outputs": [
    {
     "data": {
      "text/plain": [
       "((60000, 28, 28), (60000,))"
      ]
     },
     "execution_count": 3,
     "metadata": {},
     "output_type": "execute_result"
    }
   ],
   "source": [
    "x_train.shape, y_train.shape"
   ]
  },
  {
   "cell_type": "code",
   "execution_count": 4,
   "id": "05cf5bcf-7c1c-40b9-a296-46dc896593ad",
   "metadata": {},
   "outputs": [],
   "source": [
    "import matplotlib.pyplot as plt"
   ]
  },
  {
   "cell_type": "code",
   "execution_count": 5,
   "id": "eaee4cde-b1e9-429a-b5e0-b395085cb7e7",
   "metadata": {},
   "outputs": [
    {
     "data": {
      "image/png": "[encoded data removed]",
      "text/plain": [
       "<Figure size 432x432 with 9 Axes>"
      ]
     },
     "metadata": {
      "needs_background": "light"
     },
     "output_type": "display_data"
    }
   ],
   "source": [
    "fig, axes = plt.subplots(3,3, figsize=(6,6))\n",
    "fig.tight_layout()\n",
    "\n",
    "for i, ax in enumerate(axes.flatten()):\n",
    "    ax.imshow(x_train[i])\n",
    "    ax.set_title(y_train[i])\n",
    "    ax.axis(\"off\")"
   ]
  },
  {
   "cell_type": "markdown",
   "id": "5d5badee-504e-455b-bccb-9893e0dcc0fb",
   "metadata": {},
   "source": [
    "## Preprocessing\n",
    "#### Images\n",
    "Each image is a 2 dimensional array."
   ]
  },
  {
   "cell_type": "code",
   "execution_count": 6,
   "id": "6bb117f3-4039-48fb-bbd1-301b9e240f07",
   "metadata": {},
   "outputs": [
    {
     "data": {
      "text/plain": [
       "2"
      ]
     },
     "execution_count": 6,
     "metadata": {},
     "output_type": "execute_result"
    }
   ],
   "source": [
    "x_train[0].ndim"
   ]
  },
  {
   "cell_type": "markdown",
   "id": "22ca18d3-d55b-40d2-9313-de27e378f7ad",
   "metadata": {},
   "source": [
    "The input layer of our neural network can only take one dimension at a time.<br>\n",
    "So we reshape the data from `(60000, 28, 28)` to `(60000, 784)`."
   ]
  },
  {
   "cell_type": "code",
   "execution_count": 7,
   "id": "83c9f47e-b53f-4808-87e3-e545c1a0f0ba",
   "metadata": {},
   "outputs": [],
   "source": [
    "x_train = x_train.reshape((-1, 28*28))\n",
    "x_test = x_test.reshape((-1, 28*28))"
   ]
  },
  {
   "cell_type": "code",
   "execution_count": 8,
   "id": "dbf78871-7b3e-43d2-917c-fb8be59945f2",
   "metadata": {},
   "outputs": [
    {
     "data": {
      "text/plain": [
       "(60000, 784)"
      ]
     },
     "execution_count": 8,
     "metadata": {},
     "output_type": "execute_result"
    }
   ],
   "source": [
    "x_train.shape"
   ]
  },
  {
   "cell_type": "markdown",
   "id": "35d80e9c-a13b-43ee-958c-bdad669d715d",
   "metadata": {},
   "source": [
    "#### Labels\n",
    "The labels describing the handwritten digits are numbers from `0-9`.<br>"
   ]
  },
  {
   "cell_type": "code",
   "execution_count": 9,
   "id": "5f9a5182-fcdb-4c9b-bb47-c4fc152899e5",
   "metadata": {},
   "outputs": [
    {
     "data": {
      "text/plain": [
       "(0, 9)"
      ]
     },
     "execution_count": 9,
     "metadata": {},
     "output_type": "execute_result"
    }
   ],
   "source": [
    "np.min(y_train), np.max(y_train)"
   ]
  },
  {
   "cell_type": "markdown",
   "id": "42ba9da3-5f5f-4a26-8243-76bf1816de90",
   "metadata": {},
   "source": [
    "While our neural network could predict, with one neuron, a single number from `0-9`<br> \n",
    "it is much more stable to give our network 10 neurons and count the neuron with the highest activation as the models prediction.\n",
    "\n",
    "So if our model has 10 output neurons, then our target also have to be of length 10<br>\n",
    "and so we one-hot encode the image labels"
   ]
  },
  {
   "cell_type": "code",
   "execution_count": 10,
   "id": "8e02841d-7f85-4f0b-8058-c69bab87a303",
   "metadata": {},
   "outputs": [
    {
     "name": "stdout",
     "output_type": "stream",
     "text": [
      "Metal device set to: Apple M1 Pro\n"
     ]
    },
    {
     "name": "stderr",
     "output_type": "stream",
     "text": [
      "2022-06-20 18:34:06.011282: I tensorflow/core/common_runtime/pluggable_device/pluggable_device_factory.cc:305] Could not identify NUMA node of platform GPU ID 0, defaulting to 0. Your kernel may not have been built with NUMA support.\n",
      "2022-06-20 18:34:06.011534: I tensorflow/core/common_runtime/pluggable_device/pluggable_device_factory.cc:271] Created TensorFlow device (/job:localhost/replica:0/task:0/device:GPU:0 with 0 MB memory) -> physical PluggableDevice (device: 0, name: METAL, pci bus id: <undefined>)\n"
     ]
    }
   ],
   "source": [
    "y_train = tf.one_hot(y_train, 10)\n",
    "y_test = tf.one_hot(y_test, 10)"
   ]
  },
  {
   "cell_type": "markdown",
   "id": "a3acec10-7c46-4b31-acaa-e7511fd686cc",
   "metadata": {},
   "source": [
    "the position in the array matching the value of the label is now `1`"
   ]
  },
  {
   "cell_type": "code",
   "execution_count": 11,
   "id": "cb4cec7f-11cd-4def-b53a-8ca30434be19",
   "metadata": {},
   "outputs": [
    {
     "data": {
      "text/plain": [
       "array([0., 0., 0., 0., 0., 1., 0., 0., 0., 0.], dtype=float32)"
      ]
     },
     "execution_count": 11,
     "metadata": {},
     "output_type": "execute_result"
    }
   ],
   "source": [
    "y_train[0].numpy()"
   ]
  },
  {
   "cell_type": "markdown",
   "id": "d40661ec-1593-4ac1-828a-e40467a01b3c",
   "metadata": {},
   "source": [
    "<br>\n",
    "\n",
    "## Building the **Neural Network Model**\n",
    "#### using the functional API\n",
    "Here we are building a very simple model that only consists of dense layers."
   ]
  },
  {
   "cell_type": "code",
   "execution_count": 12,
   "id": "89f066fd-c452-4772-8e4d-4175cd5791c9",
   "metadata": {},
   "outputs": [],
   "source": [
    "from tensorflow.keras import Input\n",
    "from tensorflow.keras.layers import Dense\n",
    "from tensorflow.keras import Model"
   ]
  },
  {
   "cell_type": "code",
   "execution_count": 13,
   "id": "a7320884-1ebb-4a92-816c-e8cc63c842d8",
   "metadata": {},
   "outputs": [],
   "source": [
    "# we create an input layer with the shape of our data, 784\n",
    "img_inputs = Input(shape=28*28)\n",
    "\n",
    "# after the input layer we put a dense layer with 64 neurons\n",
    "# the input to this dense leayer is the previous layer (img_inputs)\n",
    "# as an activation function we choose relu as it is very often a good first choice\n",
    "dense_1 = Dense(64, activation=\"relu\")(img_inputs)\n",
    "\n",
    "# after that we put a 2nd dense layer, also with 64 neurons, which takes again the previous layer (dense_1) as an input\n",
    "dense_2 = Dense(64, activation=\"relu\")(dense_1)\n",
    "\n",
    "# finally define the output layer which takes again the previous layer (dense_2) as an input\n",
    "# here we use softmax as an activation function to get probabilites for all classes (digits)\n",
    "outputs = Dense(10, activation=\"softmax\")(dense_2)\n",
    "\n",
    "# from the input and output layer we build our model\n",
    "model = Model(inputs=img_inputs, outputs=outputs)"
   ]
  },
  {
   "cell_type": "markdown",
   "id": "89291697-99c5-45c5-9e98-b4de2e321246",
   "metadata": {},
   "source": [
    "We can use `.summary()` to inspect what kind of layers our model, how many parameters they have<br>\n",
    "and what shape our data has after it passes through one of the layers"
   ]
  },
  {
   "cell_type": "code",
   "execution_count": 14,
   "id": "aa0a82df-6722-4c60-b60b-e0935f6c7a2e",
   "metadata": {},
   "outputs": [
    {
     "data": {
      "text/plain": [
       "50240"
      ]
     },
     "execution_count": 14,
     "metadata": {},
     "output_type": "execute_result"
    }
   ],
   "source": [
    "784 * 64 + 64"
   ]
  },
  {
   "cell_type": "markdown",
   "id": "531d1ca6-5653-4b34-b727-a86cef2b4567",
   "metadata": {},
   "source": [
    "## Training the Model"
   ]
  },
  {
   "cell_type": "markdown",
   "id": "7c246199-f2f0-4205-b645-f9c33274a01e",
   "metadata": {},
   "source": [
    "Before we can train our model we have to compile it.<br>\n",
    "In this step we define a **loss function** and an **optimizer** for our model.<br>\n",
    "We will start with the **mean squared error** and **stochastic gradient descent**, which are not the best choices but the most basic ones."
   ]
  },
  {
   "cell_type": "code",
   "execution_count": 27,
   "id": "c97298eb-b9eb-4e75-8705-9369d4112607",
   "metadata": {},
   "outputs": [],
   "source": [
    "model.compile(\n",
    "    loss=tf.keras.losses.CategoricalCrossentropy(),\n",
    "    optimizer=tf.keras.optimizers.SGD(learning_rate=0.0001),\n",
    "    metrics=[\"accuracy\"],\n",
    ")"
   ]
  },
  {
   "cell_type": "markdown",
   "id": "e269afdb-0d6e-4727-80d7-3dbf3bd1fe3a",
   "metadata": {},
   "source": [
    "To train the model we pass to it the features `x_train` and the labels `y_train`.<br>\n",
    "Additionaly we specify the number of epochs, so how often we pass our data through the model.<br>\n",
    "We also pass a validation_split ration, this determines how much of our should be used to validate the models performance every epoch.<br> Validation part of our data is not used for training the model and can thus tell us if what the model has learned generalizes to unseen data."
   ]
  },
  {
   "cell_type": "code",
   "execution_count": 28,
   "id": "222cb621-421e-4f45-aae2-60e106c5f7ef",
   "metadata": {},
   "outputs": [
    {
     "name": "stdout",
     "output_type": "stream",
     "text": [
      "Epoch 1/8\n",
      "  18/1500 [..............................] - ETA: 9s - loss: 74.8124 - accuracy: 0.1892 "
     ]
    },
    {
     "name": "stderr",
     "output_type": "stream",
     "text": [
      "2022-06-20 14:35:55.821377: I tensorflow/core/grappler/optimizers/custom_graph_optimizer_registry.cc:112] Plugin optimizer for device_type GPU is enabled.\n"
     ]
    },
    {
     "name": "stdout",
     "output_type": "stream",
     "text": [
      "1498/1500 [============================>.] - ETA: 0s - loss: 4.9717 - accuracy: 0.7217"
     ]
    },
    {
     "name": "stderr",
     "output_type": "stream",
     "text": [
      "2022-06-20 14:36:04.645368: I tensorflow/core/grappler/optimizers/custom_graph_optimizer_registry.cc:112] Plugin optimizer for device_type GPU is enabled.\n"
     ]
    },
    {
     "name": "stdout",
     "output_type": "stream",
     "text": [
      "1500/1500 [==============================] - 11s 7ms/step - loss: 4.9669 - accuracy: 0.7218 - val_loss: 1.6844 - val_accuracy: 0.8099\n",
      "Epoch 2/8\n",
      "1500/1500 [==============================] - 11s 7ms/step - loss: 1.3772 - accuracy: 0.8262 - val_loss: 1.1267 - val_accuracy: 0.8414\n",
      "Epoch 3/8\n",
      "1500/1500 [==============================] - 10s 7ms/step - loss: 0.9558 - accuracy: 0.8514 - val_loss: 0.8460 - val_accuracy: 0.8590\n",
      "Epoch 4/8\n",
      "1500/1500 [==============================] - 11s 7ms/step - loss: 0.7581 - accuracy: 0.8641 - val_loss: 0.7580 - val_accuracy: 0.8578\n",
      "Epoch 5/8\n",
      "1500/1500 [==============================] - 11s 7ms/step - loss: 0.6440 - accuracy: 0.8742 - val_loss: 0.6709 - val_accuracy: 0.8733\n",
      "Epoch 6/8\n",
      "1500/1500 [==============================] - 10s 7ms/step - loss: 0.5652 - accuracy: 0.8826 - val_loss: 0.5988 - val_accuracy: 0.8800\n",
      "Epoch 7/8\n",
      "1500/1500 [==============================] - 10s 7ms/step - loss: 0.5135 - accuracy: 0.8898 - val_loss: 0.5635 - val_accuracy: 0.8839\n",
      "Epoch 8/8\n",
      "1500/1500 [==============================] - 10s 7ms/step - loss: 0.4672 - accuracy: 0.8956 - val_loss: 0.5284 - val_accuracy: 0.8892\n"
     ]
    }
   ],
   "source": [
    "num_epochs = 8\n",
    "history = model.fit(x_train, y_train, epochs=num_epochs, validation_split=0.2, verbose=1)"
   ]
  },
  {
   "cell_type": "markdown",
   "id": "2550cc54-cbe8-45f2-ac3f-7eb6b735fe01",
   "metadata": {},
   "source": [
    "<br>\n",
    "\n",
    "## Evaluating the Model\n"
   ]
  },
  {
   "cell_type": "markdown",
   "id": "dee0041b-5f98-43b3-875d-2a4b44129b75",
   "metadata": {},
   "source": [
    "### \"by hand\"\n",
    "We handpick some images and check how the models prediction compares to the actual target"
   ]
  },
  {
   "cell_type": "code",
   "execution_count": 25,
   "id": "93622227-b899-4811-834e-a2e24409b29f",
   "metadata": {},
   "outputs": [],
   "source": [
    "def get_prediction(image):\n",
    "    return np.argmax(model.predict(np.expand_dims(image, 0)))"
   ]
  },
  {
   "cell_type": "code",
   "execution_count": 26,
   "id": "9acf9bbb-0ed6-472a-be61-f397e1df9654",
   "metadata": {},
   "outputs": [
    {
     "name": "stderr",
     "output_type": "stream",
     "text": [
      "2022-06-19 19:58:10.243116: I tensorflow/core/grappler/optimizers/custom_graph_optimizer_registry.cc:112] Plugin optimizer for device_type GPU is enabled.\n"
     ]
    },
    {
     "data": {
      "image/png": "[encoded data removed]",
      "text/plain": [
       "<Figure size 432x432 with 9 Axes>"
      ]
     },
     "metadata": {
      "needs_background": "light"
     },
     "output_type": "display_data"
    }
   ],
   "source": [
    "fig, axes = plt.subplots(3,3, figsize=(6,6))\n",
    "fig.tight_layout()\n",
    "\n",
    "for i, ax in enumerate(axes.flatten()):\n",
    "    ax.imshow(x_train[i].reshape(28,28))\n",
    "    ax.set_title(f\"target: {np.argmax(y_train[i])}, pred.: { get_prediction(x_train[i])}\")\n",
    "    ax.axis(\"off\")"
   ]
  },
  {
   "cell_type": "markdown",
   "id": "778ab54a-6e24-4896-a663-9336b376b44b",
   "metadata": {},
   "source": [
    "### proper evaluation"
   ]
  },
  {
   "cell_type": "markdown",
   "id": "603ab0b5-1431-4e9d-aedd-d21ca49806ac",
   "metadata": {},
   "source": [
    "After and also sometimes during training we should check how the model perfomance on the data used for training<br>\n",
    "compares to the perfomance on the unseen data."
   ]
  },
  {
   "cell_type": "code",
   "execution_count": 27,
   "id": "e705eef4-698a-417b-b777-a40f0dfc7498",
   "metadata": {},
   "outputs": [
    {
     "data": {
      "image/png": "[encoded data removed]",
      "text/plain": [
       "<Figure size 504x360 with 1 Axes>"
      ]
     },
     "metadata": {
      "needs_background": "light"
     },
     "output_type": "display_data"
    }
   ],
   "source": [
    "plt.figure(figsize=[7,5])\n",
    "plt.plot(np.arange(num_epochs), history.history[\"accuracy\"], label=\"train_acc\")\n",
    "plt.plot(np.arange(num_epochs), history.history[\"val_accuracy\"], label=\"valid_acc\")\n",
    "plt.legend();"
   ]
  },
  {
   "cell_type": "markdown",
   "id": "aa69f6ef-f7c7-4f37-9717-1255b0415fc6",
   "metadata": {},
   "source": [
    "Looking at the plot we see that both training and validation accuracy are very similar and also steadily increasing.<br>\n",
    "This is what we want when we train our model because it tells us that the model is neither **underfitting** nor **overfitting**.\n",
    "    "
   ]
  },
  {
   "cell_type": "markdown",
   "id": "a93a0be9-18d3-4916-be92-c4324c17e87b",
   "metadata": {},
   "source": [
    "### train, validation and test data\n",
    "So far we used the train part of the data to train our data, we used the validation part to validate our model each epoch.<br>\n",
    "So what are we doing with the test data?<br>\n",
    "Usually we train our model more than once with either with a different structure (more layers, more neurons) or with different hyperparamters. After every training we check the performance of the model on the train and validation data and so it can happen that we \"accidentaly\" optimize the model and its hyperparameters for the validation dataset.<br>\n",
    "So even though the model has not seen that data, we have and thus its not appropriate for checking the performance on actual unseen data. And thats why we need test data."
   ]
  },
  {
   "cell_type": "code",
   "execution_count": 28,
   "id": "22f56a14-2983-41ce-934d-aad694896804",
   "metadata": {},
   "outputs": [
    {
     "name": "stdout",
     "output_type": "stream",
     "text": [
      " 24/313 [=>............................] - ETA: 1s - loss: 0.0485 - accuracy: 0.7552"
     ]
    },
    {
     "name": "stderr",
     "output_type": "stream",
     "text": [
      "2022-06-19 20:02:11.803860: I tensorflow/core/grappler/optimizers/custom_graph_optimizer_registry.cc:112] Plugin optimizer for device_type GPU is enabled.\n"
     ]
    },
    {
     "name": "stdout",
     "output_type": "stream",
     "text": [
      "313/313 [==============================] - 1s 4ms/step - loss: 0.0479 - accuracy: 0.7587\n"
     ]
    },
    {
     "data": {
      "text/plain": [
       "[0.04791482910513878, 0.7587000131607056]"
      ]
     },
     "execution_count": 28,
     "metadata": {},
     "output_type": "execute_result"
    }
   ],
   "source": [
    "model.evaluate(x=x_test, y=y_test)"
   ]
  }
 ],
 "metadata": {
  "kernelspec": {
   "display_name": "Python 3 (ipykernel)",
   "language": "python",
   "name": "python3"
  },
  "language_info": {
   "codemirror_mode": {
    "name": "ipython",
    "version": 3
   },
   "file_extension": ".py",
   "mimetype": "text/x-python",
   "name": "python",
   "nbconvert_exporter": "python",
   "pygments_lexer": "ipython3",
   "version": "3.8.12"
  }
 },
 "nbformat": 4,
 "nbformat_minor": 5
}
