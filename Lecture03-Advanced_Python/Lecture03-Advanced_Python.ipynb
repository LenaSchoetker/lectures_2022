{
 "cells": [
  {
   "cell_type": "markdown",
   "id": "b8eeaa70-28b4-4fef-9489-bca6ddeaf095",
   "metadata": {},
   "source": [
    "# Lecture 03: Advanced Python"
   ]
  },
  {
   "cell_type": "markdown",
   "id": "3f58e996-ee54-49a3-9417-d4a20154a2d5",
   "metadata": {},
   "source": [
    "# Creating our own Classes\n",
    "and how to make them behave like built-in types\n",
    "<br>\n",
    "<br>\n",
    "\n",
    "\n",
    "The class that we will implement we name **Triple** and it will represent three numeric values.<br>\n",
    "Our goal will be to make it compatible with Python's built-in operators and functions such as\n",
    "```python\n",
    "+, -, len(), str()\n",
    "```\n",
    "<br>"
   ]
  },
  {
   "cell_type": "code",
   "execution_count": null,
   "id": "a3000ac3-4bf0-478a-9f36-c593e18aa244",
   "metadata": {},
   "outputs": [],
   "source": [
    "class Triple:\n",
    "    def __init__(self, num1, num2, num3):\n",
    "        self.nums = num1, num2, num3\n",
    "    "
   ]
  },
  {
   "cell_type": "code",
   "execution_count": null,
   "id": "6ea26153-54f5-4eb3-a00c-5729637191f3",
   "metadata": {},
   "outputs": [],
   "source": [
    "Triple(1,2,3)"
   ]
  },
  {
   "cell_type": "markdown",
   "id": "9325a114-300e-4d8e-854d-52989a4c0185",
   "metadata": {},
   "source": [
    "<br>\n",
    "\n",
    "You might remember from last week how we can use `__dunder__` methods (**d**ouble **under**score)<br> \n",
    "to *define* or *overwrite* a classe's behaviour for built-in operators or functions.\n",
    "\n",
    "Here we overwrite `str()`"
   ]
  },
  {
   "cell_type": "code",
   "execution_count": null,
   "id": "f7d8d39b-bae7-4b5e-93df-96589131cb68",
   "metadata": {},
   "outputs": [],
   "source": [
    "class Cat:\n",
    "    def __init__(self, color):\n",
    "        self.color = color\n",
    "    \n",
    "    def __str__(self):\n",
    "        return self.color + \" cat\""
   ]
  },
  {
   "cell_type": "code",
   "execution_count": null,
   "id": "4a45011e-cc1d-415e-820a-3c9a1d9b85b2",
   "metadata": {},
   "outputs": [],
   "source": [
    "repr(Cat(\"blue\"))"
   ]
  },
  {
   "cell_type": "markdown",
   "id": "65c8aa08-e6d7-4abb-92dd-42883c6c3328",
   "metadata": {},
   "source": [
    "<br>\n",
    "\n",
    "### `__repr__` and `__str__`\n",
    "If we print our triple we want to get an informative representation. For that we can overwrite `__repr__` and/or `__str__`. <br>\n",
    "Although very similar both have different use cases:\n",
    "\n",
    "`__repr__` should be uambiguous, telling us everything we need to know about an instance\n",
    "\n",
    "`__str__` should be readable, looking nice when printed\n",
    "<br>\n",
    "<br>\n",
    "When `__str__` is not defined, Python will refer to `__repr__`. So here we will only overwrite `__repr__`\n"
   ]
  },
  {
   "cell_type": "code",
   "execution_count": null,
   "id": "2b5f947c-9e7c-467f-a9d6-647d4023d5f0",
   "metadata": {},
   "outputs": [],
   "source": [
    "repr(Triple(1,2,3))"
   ]
  },
  {
   "cell_type": "code",
   "execution_count": null,
   "id": "02c256fb-81c7-4697-93ab-a3c9e7dbfc2f",
   "metadata": {},
   "outputs": [],
   "source": [
    "class Triple:\n",
    "    def __init__(self, num1, num2, num3):\n",
    "        self.nums = num1, num2, num3\n",
    "    \n",
    "    def __repr__(self):\n",
    "        return f\"Triple({self.nums[0]}, {self.nums[1]}, {self.nums[2]})\""
   ]
  },
  {
   "cell_type": "code",
   "execution_count": null,
   "id": "2cbaf3b8-6937-41a9-8697-67c5bfe53647",
   "metadata": {},
   "outputs": [],
   "source": [
    "repr(Triple(1,2,3))"
   ]
  },
  {
   "cell_type": "code",
   "execution_count": null,
   "id": "856ce52c-cc86-4a8a-bacf-6e4262795327",
   "metadata": {},
   "outputs": [],
   "source": [
    "print(Triple(1,2,3))"
   ]
  },
  {
   "cell_type": "markdown",
   "id": "7bc3aed5-06a0-4e80-885b-42d67ff1b8b6",
   "metadata": {},
   "source": [
    "<br>\n",
    "\n",
    "### `__add__`\n",
    "To make addition between `Triple`s possible, we have to implement `__add__`. We define the addition of `Triple`s as the elementwise addition of their three numbers.<br>\n",
    "Note that we add `other` to the parameters since we have to also account for the second `Triple`"
   ]
  },
  {
   "cell_type": "code",
   "execution_count": null,
   "id": "35830645-6120-4783-a86d-689bcd66283f",
   "metadata": {},
   "outputs": [],
   "source": [
    "class Triple:\n",
    "    def __init__(self, num1, num2, num3):\n",
    "        self.nums = num1, num2, num3\n",
    "    \n",
    "    def __repr__(self):\n",
    "        return f\"Triple({self.nums[0]}, {self.nums[1]}, {self.nums[2]})\"\n",
    "    \n",
    "    def __add__(self, other):\n",
    "        num1 = self.nums[0] + other.nums[0]\n",
    "        num2 = self.nums[1] + other.nums[1]\n",
    "        num3 = self.nums[2] + other.nums[2]\n",
    "        return Triple(num1, num2, num3)"
   ]
  },
  {
   "cell_type": "code",
   "execution_count": null,
   "id": "6aed3637-47fe-4e3f-bfdf-3999cfb296e3",
   "metadata": {},
   "outputs": [],
   "source": [
    "a = Triple(1,2,3)\n",
    "b = Triple(4,5,6)"
   ]
  },
  {
   "cell_type": "markdown",
   "id": "b668d201-3579-422f-8324-28f0d971b67c",
   "metadata": {},
   "source": [
    "Because we implemented `__add__` we can add triples with the plus operator.\n",
    "The following three expressions are all the same! The first one is the fast way to write it, which \n",
    "internally maps to the second, which internally maps to the third!"
   ]
  },
  {
   "cell_type": "code",
   "execution_count": null,
   "id": "c6281cba-93e9-4d7e-8e6a-9cda4a606741",
   "metadata": {},
   "outputs": [],
   "source": [
    "print(a + b)\n",
    "print(a.__add__(b))\n",
    "print(Triple.__add__(a, b))"
   ]
  },
  {
   "cell_type": "markdown",
   "id": "2e665782-f611-46e3-affb-660df3cfe5f1",
   "metadata": {},
   "source": [
    "As of now we can only add `Triple`s together but what if we also want to add `integers`?<br>\n",
    "Then we have to handle that in the `__add__`method."
   ]
  },
  {
   "cell_type": "code",
   "execution_count": null,
   "id": "de3959b7-2c6a-4868-9996-1bda646cf253",
   "metadata": {},
   "outputs": [],
   "source": [
    "class Triple:\n",
    "    def __init__(self, num1, num2, num3):\n",
    "        self.nums = num1, num2, num3\n",
    "    \n",
    "    def __repr__(self):\n",
    "        return f\"Triple({self.nums[0]}, {self.nums[1]}, {self.nums[2]})\"\n",
    "    \n",
    "    def __add__(self, other):\n",
    "        if isinstance(other, Triple):\n",
    "            num1 = self.nums[0] + other.nums[0]\n",
    "            num2 = self.nums[1] + other.nums[1]\n",
    "            num3 = self.nums[2] + other.nums[2]\n",
    "            return Triple(num1, num2, num3)\n",
    "        elif isinstance(other, int):\n",
    "            return Triple(self.nums[0]+other, self.nums[1]+other, self.nums[2]+other)\n",
    "        else:\n",
    "            return NotImplemented"
   ]
  },
  {
   "cell_type": "code",
   "execution_count": null,
   "id": "72ab9a6a-1a78-45b7-9bd5-41467e9d107d",
   "metadata": {},
   "outputs": [],
   "source": [
    "a = Triple(1,2,3)\n",
    "print(a)\n",
    "print(a+1)"
   ]
  },
  {
   "cell_type": "markdown",
   "id": "87b16542-d5e1-4c59-9f01-07132d7413a3",
   "metadata": {},
   "source": [
    "<br>\n",
    "\n",
    "Nice, addition now also work for integers but what if we switch up the order\n"
   ]
  },
  {
   "cell_type": "code",
   "execution_count": null,
   "id": "6494b6e7-f2c2-4082-b197-a52d02bc3ad3",
   "metadata": {},
   "outputs": [],
   "source": [
    "1 + Triple(1,2,3)"
   ]
  },
  {
   "cell_type": "markdown",
   "id": "ad05752b-30ae-45fe-9d48-ad970b9fe179",
   "metadata": {},
   "source": [
    "This will throw us an error which makes sense since\n",
    "```python\n",
    "1 + Triple(1,2,3)\n",
    "```\n",
    "will call\n",
    "```python\n",
    "(1).__add__(Triple(1,2,3))\n",
    "```\n",
    "which calls\n",
    "```python\n",
    "int.__add__(1, Triple(1,2,3))\n",
    "```\n",
    "and we didn't change anything in the integer class so it doesn't know what to do with a `Triple` and it tells us:"
   ]
  },
  {
   "cell_type": "code",
   "execution_count": null,
   "id": "edede417-5e47-4489-b539-7403f19efd61",
   "metadata": {},
   "outputs": [],
   "source": [
    "int.__add__(1, Triple(1, 2, 3))"
   ]
  },
  {
   "cell_type": "markdown",
   "id": "9885f048-e867-4b27-81d2-90314fd8ae2d",
   "metadata": {},
   "source": [
    "If a binary operaton does not work when called on the first operand does not work, Python tries to invert the order of operands, calling `__radd__` on the other. If this does not work either a `TypeError` is raised. By implementing `__radd__` we can make scalar addition work without changing the behaivor of the `int`s."
   ]
  },
  {
   "cell_type": "code",
   "execution_count": null,
   "id": "ef763107-9628-43d7-8464-4cf034d7b7d8",
   "metadata": {},
   "outputs": [],
   "source": [
    "class Triple:\n",
    "    def __init__(self, num1, num2, num3):\n",
    "        self.nums = num1, num2, num3\n",
    "    \n",
    "    def __repr__(self):\n",
    "        return f\"Triple({self.nums[0]}, {self.nums[1]}, {self.nums[2]})\"\n",
    "    \n",
    "    def __add__(self, other):\n",
    "        if isinstance(other, Triple):\n",
    "            num1 = self.nums[0] + other.nums[0]\n",
    "            num2 = self.nums[1] + other.nums[1]\n",
    "            num3 = self.nums[2] + other.nums[2]\n",
    "            return Triple(num1, num2, num3)\n",
    "        elif isinstance(other, int):\n",
    "            return Triple(self.nums[0]+other, self.nums[1]+other, self.nums[2]+other)\n",
    "        else:\n",
    "            return NotImplemented\n",
    "        \n",
    "    def __radd__(self, other):\n",
    "        return self + other"
   ]
  },
  {
   "cell_type": "code",
   "execution_count": null,
   "id": "c231b44f-3668-4e6b-9e60-d83efdf76a2c",
   "metadata": {},
   "outputs": [],
   "source": [
    "1 + Triple(1,2,3)"
   ]
  },
  {
   "cell_type": "markdown",
   "id": "f63b6a8d-4fe4-46cc-9d3e-c5d1547fd271",
   "metadata": {},
   "source": [
    "<br>\n",
    "\n",
    "### `__bool__`\n",
    "To enable truth value testing for our `Triple`s  we implement the `__bool__`method"
   ]
  },
  {
   "cell_type": "code",
   "execution_count": null,
   "id": "0f7ec7db-5a7e-4252-921c-61e9e4d23850",
   "metadata": {},
   "outputs": [],
   "source": [
    "class Triple:\n",
    "    def __init__(self, num1, num2, num3):\n",
    "        self.nums = num1, num2, num3\n",
    "    \n",
    "    def __bool__(self):\n",
    "        return any(self.nums) "
   ]
  },
  {
   "cell_type": "code",
   "execution_count": null,
   "id": "ea2f08a3-f3d5-4831-83ec-f31683407975",
   "metadata": {},
   "outputs": [],
   "source": [
    "bool(Triple(0,0,0))"
   ]
  },
  {
   "cell_type": "code",
   "execution_count": null,
   "id": "e127dc57-ee43-4738-a803-13fef18747eb",
   "metadata": {},
   "outputs": [],
   "source": [
    "bool(Triple(1,0,0))"
   ]
  },
  {
   "cell_type": "markdown",
   "id": "5d18d1f2-2e47-4073-ad1e-f8afc5741d70",
   "metadata": {},
   "source": [
    "### Truth value testing\n",
    "Any object can be tested for truth value, for use in an if or while condition or as operand of the Boolean operations. The following objects are considered false:\n",
    "* `None`\n",
    "* `False`\n",
    "* Zero of numeric types (`0`, `0.0`)\n",
    "* Empty sequences and collections: `''`, `()`, `[]`, `{}`, `set()`\n",
    "* Objects of user-defined classes that return 0 for `len(obj)`"
   ]
  },
  {
   "cell_type": "markdown",
   "id": "27450343-c96c-49b3-a150-4c40f7a89306",
   "metadata": {},
   "source": [
    "<br>\n",
    "\n",
    "## Exercise\n",
    "Make the `in` operator work on our triples. For that we need to implement `__contains__`. The statement \n",
    "```python \n",
    "3 in Triple(1, 2, 3)\n",
    "```\n",
    "\n",
    "should become `True` after defining `__contains__`."
   ]
  },
  {
   "cell_type": "code",
   "execution_count": null,
   "id": "4e0c7400-4640-47aa-87e4-4a4c738c9c36",
   "metadata": {},
   "outputs": [],
   "source": [
    "class Triple:\n",
    "    def __init__(self, num1, num2, num3):\n",
    "        self.nums = num1, num2, num3\n",
    "        \n",
    "    def __repr__(self):\n",
    "        \"\"\"A string representation for inspecting objects at runtime.\"\"\"\n",
    "        return \"Triple(\" + str(self.nums[0]) + \", \" + str(self.nums[1]) + \", \" + str(self.nums[2]) + \")\"\n",
    "    \n",
    "    def __contains__(self, item):\n",
    "        pass"
   ]
  },
  {
   "cell_type": "code",
   "execution_count": null,
   "id": "a6c7178a-2fda-4bfa-a2a2-146e97600de2",
   "metadata": {},
   "outputs": [],
   "source": [
    "3 in Triple(1, 2, 3)"
   ]
  },
  {
   "cell_type": "code",
   "execution_count": null,
   "id": "bfa1e1b4-fdc1-4b40-9ed0-e98132890abf",
   "metadata": {},
   "outputs": [],
   "source": []
  },
  {
   "cell_type": "markdown",
   "id": "591f261d-bd34-4d15-ba9c-5c07ba876bec",
   "metadata": {
    "id": "591f261d-bd34-4d15-ba9c-5c07ba876bec"
   },
   "source": [
    "# Iterables and Iterators\n",
    "Objects that can be used in `for ... in ...` statements are called *iterable*."
   ]
  },
  {
   "cell_type": "code",
   "execution_count": null,
   "id": "0cb34b8b-3241-4734-9a3f-34b18fea25dc",
   "metadata": {
    "id": "0cb34b8b-3241-4734-9a3f-34b18fea25dc"
   },
   "outputs": [],
   "source": [
    "class Triple:\n",
    "    def __init__(self, num1, num2, num3):\n",
    "        self.nums = num1, num2, num3\n",
    "    \n",
    "    def __repr__(self):\n",
    "        \"\"\"A string representation for inspecting objects at runtime.\"\"\"\n",
    "        return \"Triple(\" + str(self.nums[0]) + \", \" + str(self.nums[1]) + \", \" + str(self.nums[2]) + \")\"\n",
    "    \n",
    "    def __iter__(self):\n",
    "        return iter(self.nums)\n",
    "    \n",
    "my_triple = Triple(1, 2, 3)\n",
    "\n",
    "\n",
    "for value in my_triple:\n",
    "    print(value)"
   ]
  },
  {
   "cell_type": "code",
   "execution_count": null,
   "id": "7f717fd9-b34f-4afa-8a0e-733902698806",
   "metadata": {
    "id": "7f717fd9-b34f-4afa-8a0e-733902698806"
   },
   "outputs": [],
   "source": [
    "iter?"
   ]
  },
  {
   "cell_type": "markdown",
   "id": "36270d85-70e3-4df4-bb66-9e45d53e0fb1",
   "metadata": {
    "id": "36270d85-70e3-4df4-bb66-9e45d53e0fb1"
   },
   "source": [
    "The `__iter__` - magic-method is what makes an object iterable. Behind the scenes, the `iter`-function calls this method to get the iterator."
   ]
  },
  {
   "cell_type": "markdown",
   "id": "99e22c5c-2d65-4b10-a6be-fc69e93fcdd3",
   "metadata": {
    "id": "99e22c5c-2d65-4b10-a6be-fc69e93fcdd3"
   },
   "source": [
    "An *iterator* is an object that implements `__next__`. "
   ]
  },
  {
   "cell_type": "code",
   "execution_count": null,
   "id": "1fe54b55-50f8-4a9c-9e57-272312ef67da",
   "metadata": {
    "id": "1fe54b55-50f8-4a9c-9e57-272312ef67da"
   },
   "outputs": [],
   "source": [
    "class myrange:\n",
    "    def __init__(self, n):\n",
    "        self.i = 0\n",
    "        self.n = n\n",
    "\n",
    "    def __next__(self):\n",
    "        if self.i < self.n:\n",
    "            self.i += 1\n",
    "            return self.i\n",
    "        else:\n",
    "            raise StopIteration()"
   ]
  },
  {
   "cell_type": "code",
   "execution_count": null,
   "id": "cc66561a-48e3-439e-9554-4fcc16d4245c",
   "metadata": {
    "id": "cc66561a-48e3-439e-9554-4fcc16d4245c"
   },
   "outputs": [],
   "source": [
    "a = myrange(2)"
   ]
  },
  {
   "cell_type": "markdown",
   "id": "d75a7e49-1d31-4c09-8095-26d887a656b0",
   "metadata": {
    "id": "d75a7e49-1d31-4c09-8095-26d887a656b0"
   },
   "source": [
    "Usually, you want to make an iterator also iterable by returning itself from `__iter__`. Here an example of how to create your own `range`-function:"
   ]
  },
  {
   "cell_type": "code",
   "execution_count": null,
   "id": "bac5d35f-aa99-469b-980c-41d52979ab89",
   "metadata": {
    "id": "bac5d35f-aa99-469b-980c-41d52979ab89"
   },
   "outputs": [],
   "source": [
    "class myrange:\n",
    "    def __init__(self, n):\n",
    "        self.i = 0\n",
    "        self.n = n\n",
    "\n",
    "    def __iter__(self):\n",
    "        return self\n",
    "\n",
    "    def __next__(self):\n",
    "        if self.i < self.n:\n",
    "            self.i += 1\n",
    "            return self.i\n",
    "        else:\n",
    "            raise StopIteration()"
   ]
  },
  {
   "cell_type": "code",
   "execution_count": null,
   "id": "d8950c4f-a29a-4f26-93bb-db7b4c2b5f3e",
   "metadata": {
    "id": "d8950c4f-a29a-4f26-93bb-db7b4c2b5f3e"
   },
   "outputs": [],
   "source": [
    "for i in myrange(5):\n",
    "    print(i)"
   ]
  },
  {
   "cell_type": "markdown",
   "id": "73bc726d-10d9-495a-a838-e4aec42990dc",
   "metadata": {
    "id": "73bc726d-10d9-495a-a838-e4aec42990dc"
   },
   "source": [
    "Python relies heavily on iterators, and you should use them everytime Python offers them! the following code would be considered *unpythonic*."
   ]
  },
  {
   "cell_type": "code",
   "execution_count": null,
   "id": "bdbdf39f-71e7-42d3-8ebe-b1638266d5fc",
   "metadata": {
    "id": "bdbdf39f-71e7-42d3-8ebe-b1638266d5fc"
   },
   "outputs": [],
   "source": [
    "a_list = [10, 20, 30]\n",
    "for i in range(len(a_list)):\n",
    "    print(a_list[i])"
   ]
  },
  {
   "cell_type": "markdown",
   "id": "104af76e-eb5b-48bc-b7b5-6e50934b6690",
   "metadata": {
    "id": "104af76e-eb5b-48bc-b7b5-6e50934b6690"
   },
   "source": [
    "Instead we prefer using the iterator directly."
   ]
  },
  {
   "cell_type": "code",
   "execution_count": null,
   "id": "e0cedddf-d7e8-4db9-93c3-5dc4e832525f",
   "metadata": {
    "id": "e0cedddf-d7e8-4db9-93c3-5dc4e832525f"
   },
   "outputs": [],
   "source": [
    "a_list = [10, 20, 30]\n",
    "for number in a_list:\n",
    "    print(number)"
   ]
  },
  {
   "cell_type": "markdown",
   "id": "02d79266-bc01-491c-a29f-1d06a4f5cebe",
   "metadata": {
    "id": "02d79266-bc01-491c-a29f-1d06a4f5cebe"
   },
   "source": [
    "The iterator keeps its internal state. If we want to start at the beginning again, a fresh iterator will be neeed. You can try to make the `__iter__` method return a new instance whenever it is called, to get a behaviour like that of built in iterables like lists or ranges."
   ]
  },
  {
   "cell_type": "code",
   "execution_count": null,
   "id": "4a6281a9-c631-47ac-aec6-c3e55e33814d",
   "metadata": {
    "id": "4a6281a9-c631-47ac-aec6-c3e55e33814d"
   },
   "outputs": [],
   "source": [
    "a = myrange(5)\n",
    "next(a)"
   ]
  },
  {
   "cell_type": "code",
   "execution_count": null,
   "id": "ce763eda-95a4-44f2-964b-25c580a6da4e",
   "metadata": {
    "id": "ce763eda-95a4-44f2-964b-25c580a6da4e"
   },
   "outputs": [],
   "source": [
    "for i in a:\n",
    "    print(i)"
   ]
  },
  {
   "cell_type": "code",
   "execution_count": null,
   "id": "fabb3532-3190-49cc-9733-9adc0f17219f",
   "metadata": {
    "id": "fabb3532-3190-49cc-9733-9adc0f17219f"
   },
   "outputs": [],
   "source": [
    "a = myrange(5)\n",
    "b = range(1,6)\n",
    "# Both iterables are a representation of the same numbers\n",
    "print(list(a) == list(b))\n",
    "# But they still behave differently\n",
    "for i in b:\n",
    "    print(\"range:\",i)\n",
    "for i in a:\n",
    "    print(\"myrange\",i)"
   ]
  },
  {
   "cell_type": "markdown",
   "id": "9f7e0b33-9738-46ff-93cc-386c6fe306f4",
   "metadata": {
    "id": "9f7e0b33-9738-46ff-93cc-386c6fe306f4"
   },
   "source": [
    "# Generators\n"
   ]
  },
  {
   "cell_type": "markdown",
   "id": "0f08c89c-dc0a-45ac-b77c-c6d285f0852c",
   "metadata": {
    "id": "0f08c89c-dc0a-45ac-b77c-c6d285f0852c"
   },
   "source": [
    "\n",
    "A Python generator function is a function which returns a generator. Generator functions are implicitly defined by the use of `yield` in the function body. `yield` may be used with a value, in which case that value is treated as the \"generated\" value. The next time `next()` is called on the generator (i.e. in the next step in a for loop, for example), the generator resumes execution from where it called `yield`, not from the beginning of the function. All of the state, like the values of local variables, is recovered and the generator contiues to execute until the next call to `yield`. \n",
    "\n",
    "https://jeffknupp.com/blog/2013/04/07/improve-your-python-yield-and-generators-explained/"
   ]
  },
  {
   "cell_type": "code",
   "execution_count": null,
   "id": "ca591876-c78c-487c-81b8-55559dd3f81b",
   "metadata": {
    "id": "ca591876-c78c-487c-81b8-55559dd3f81b"
   },
   "outputs": [],
   "source": [
    "def generate_numbers():\n",
    "    yield 1\n",
    "    yield 10\n",
    "    yield 3\n",
    "    yield 5\n",
    "    \n",
    "for i in generate_numbers():\n",
    "    print(i)"
   ]
  },
  {
   "cell_type": "code",
   "execution_count": null,
   "id": "d047f6d4-73a7-4229-af49-f0224f71d07f",
   "metadata": {
    "id": "d047f6d4-73a7-4229-af49-f0224f71d07f"
   },
   "outputs": [],
   "source": [
    "a = generate_numbers()\n",
    "print(a)\n",
    "\n",
    "print(next(a))\n",
    "print()\n"
   ]
  },
  {
   "cell_type": "code",
   "execution_count": null,
   "id": "b199c74b-83b9-4b19-a99e-6adab11883b1",
   "metadata": {
    "id": "b199c74b-83b9-4b19-a99e-6adab11883b1"
   },
   "outputs": [],
   "source": [
    "for i in a:\n",
    "    print(i)\n",
    "    \n",
    "print(next(a)) #will throw a StopIteration"
   ]
  },
  {
   "cell_type": "markdown",
   "id": "c71aa432-2247-4bdf-8cf8-8e9775cfa3b3",
   "metadata": {
    "id": "c71aa432-2247-4bdf-8cf8-8e9775cfa3b3"
   },
   "source": [
    "When we call a normal Python function, execution starts at function's first line and continues until a return statement, exception, or the end of the function is encountered. \n",
    "Once a function returns control to its caller, any work done by the function and stored in local variables is lost. A new call to the function creates everything from scratch. \n",
    "\n",
    "A **generator** is a certain kind of function (recognized by the keyword *yield* in place of *return*), that doesn't lose its data. If a generator is called, it will run until the next occurence of the `yield` keyword. When called again, it starts right after that, and runs until the next occurence of `yield`.\n",
    "\n",
    "A generator is an iterator, which means you can loop over it, call next(), and use it the way you'd use any other iterator"
   ]
  },
  {
   "cell_type": "code",
   "execution_count": null,
   "id": "a81d4ca8-8621-46c4-a255-16c65b6c925f",
   "metadata": {
    "id": "a81d4ca8-8621-46c4-a255-16c65b6c925f"
   },
   "outputs": [],
   "source": [
    "hasattr(a, '__iter__'), hasattr(a, '__next__')"
   ]
  },
  {
   "cell_type": "markdown",
   "id": "c7dee8ae-fee8-4a43-924c-6815cd40cbce",
   "metadata": {
    "id": "c7dee8ae-fee8-4a43-924c-6815cd40cbce"
   },
   "source": [
    "Generators are a perfect way to get rid of too convolutedly nested for-loops:"
   ]
  },
  {
   "cell_type": "code",
   "execution_count": null,
   "id": "6f004db4-59a6-4cf7-8966-9ec80e120275",
   "metadata": {
    "id": "6f004db4-59a6-4cf7-8966-9ec80e120275"
   },
   "outputs": [],
   "source": [
    "nested_list = [[[1, 2, 3], [4, 5, 6]],[[7, 8, 9], [10, 11, 12]]]"
   ]
  },
  {
   "cell_type": "code",
   "execution_count": null,
   "id": "a66c584d-e66e-4c01-80c6-68b3388014f9",
   "metadata": {
    "id": "a66c584d-e66e-4c01-80c6-68b3388014f9"
   },
   "outputs": [],
   "source": [
    "for i in nested_list:\n",
    "    for j in i:\n",
    "        for k in j:\n",
    "            print(k)"
   ]
  },
  {
   "cell_type": "code",
   "execution_count": null,
   "id": "5b8b72d5-4011-43bb-aeb6-be472333d2d3",
   "metadata": {
    "id": "5b8b72d5-4011-43bb-aeb6-be472333d2d3"
   },
   "outputs": [],
   "source": [
    "def nested_list_iterator(thelist):\n",
    "    for i in thelist:\n",
    "        for j in i:\n",
    "            for k in j:\n",
    "                yield k\n",
    "                \n",
    "for i in nested_list_iterator(nested_list):\n",
    "    print(i)"
   ]
  },
  {
   "cell_type": "markdown",
   "id": "41a4d30c-c2f6-453c-9c6f-ac3e7688a0d4",
   "metadata": {
    "id": "41a4d30c-c2f6-453c-9c6f-ac3e7688a0d4"
   },
   "source": [
    "Also, generators are perfect if you have complex stuff to loop over and/or want to be able to simply replace that thing you're looping over:"
   ]
  },
  {
   "cell_type": "raw",
   "id": "7fe06325-699d-4783-82c9-7603c528a2c2",
   "metadata": {
    "id": "7fe06325-699d-4783-82c9-7603c528a2c2"
   },
   "source": [
    "# mode when running the gameplayer live:\n",
    "\n",
    "while True:\n",
    "    board = Gameboard.get_gameboard_image()\n",
    "    do_first_thing(board)\n",
    "    do_second_thing(board)\n",
    "    do_third_thing(board)\n",
    "\n",
    "# mode when running the gameplayer non-live:\n",
    "\n",
    "for fname in os.listdir('error_imgs'):\n",
    "    board = Gameboard(plt.imread('error_imgs/'+fname), is_live=False)\n",
    "    do_first_thing(board)\n",
    "    #Your Code Here\n",
    "    #Your Code Here\n",
    "    do_second_thing(board)\n",
    "    do_third_thing(board)\n",
    "\n",
    "\n",
    "# -> I could encapsulate do_first_thing, do_second_thing and do_third_thing in a do_things-method, but I can also encapsulate the part where I loop"
   ]
  },
  {
   "cell_type": "raw",
   "id": "ad30ba0b-900e-44b5-8a07-82030b3b0037",
   "metadata": {
    "id": "ad30ba0b-900e-44b5-8a07-82030b3b0037"
   },
   "source": [
    "def boardimage_iterator(live=False):\n",
    "    if not live:\n",
    "        for fname in os.listdir('error_imgs'):\n",
    "            gameboard = Gameboard(plt.imread('error_imgs/'+fname), is_live=False)\n",
    "            imshow(gameboard.rgb_image, fname)\n",
    "            print(fname)\n",
    "            yield gameboard\n",
    "    else:\n",
    "        while True:\n",
    "            if ONLY_IF_CAPS and not caps_active():\n",
    "                time.sleep(1)\n",
    "                continue\n",
    "            yield Gameboard.get_gameboard_image()\n",
    "            \n",
    "            \n",
    "for board in boardgame_iterator(True):\n",
    "    do_first_thing(board)\n",
    "    do_second_thing(board)\n",
    "    do_third_thing(board)"
   ]
  },
  {
   "cell_type": "markdown",
   "id": "cd6268cf-0fb9-409f-9ec6-dfe25812330d",
   "metadata": {
    "id": "cd6268cf-0fb9-409f-9ec6-dfe25812330d"
   },
   "source": [
    "## Exercise\n",
    "Use a generator to produce even numbers infinitely. Then print the first ten even numbers."
   ]
  },
  {
   "cell_type": "markdown",
   "id": "8329b1ce-bd0b-481d-83bc-2630beffa602",
   "metadata": {
    "cell_type": "hint",
    "id": "8329b1ce-bd0b-481d-83bc-2630beffa602"
   },
   "source": [
    "Use a `while True` loop to produce numbers infinitely. Then wrap the generator function in `enumerate` and `break` after the first ten values. "
   ]
  },
  {
   "cell_type": "code",
   "execution_count": null,
   "id": "0fe8c409-4356-4f8d-9c6a-dd9fc0752cc4",
   "metadata": {
    "cell_type": "solution",
    "id": "0fe8c409-4356-4f8d-9c6a-dd9fc0752cc4"
   },
   "outputs": [],
   "source": [
    "def even_numbers():\n",
    "    #Your Code Here\n",
    "\n",
    "for i, num in enumerate(even_numbers()):   \n",
    "    #Your Code Here\n",
    "    "
   ]
  },
  {
   "cell_type": "markdown",
   "id": "f30f5b52-a3a4-41c3-ba0b-83cc2558ff0f",
   "metadata": {
    "id": "f30f5b52-a3a4-41c3-ba0b-83cc2558ff0f"
   },
   "source": [
    "So a generator is a function that remembers its state in between calls. It's basically the same as this:"
   ]
  },
  {
   "cell_type": "code",
   "execution_count": null,
   "id": "74c2b84f-5f24-44d3-a9c0-c349e1145bf8",
   "metadata": {
    "id": "74c2b84f-5f24-44d3-a9c0-c349e1145bf8"
   },
   "outputs": [],
   "source": [
    "class EvenNumberGenerator():\n",
    "    def __init__(self):\n",
    "        self.index = 0\n",
    "    \n",
    "    def __call__(self):\n",
    "        self.index += 2\n",
    "        return self.index\n",
    "    \n",
    "    def __iter__(self):\n",
    "        return self\n",
    "    \n",
    "    def __next__(self):\n",
    "        return self.__call__()\n",
    "        \n",
    "numgen = EvenNumberGenerator()"
   ]
  },
  {
   "cell_type": "code",
   "execution_count": null,
   "id": "3a273834-d6f0-4d5b-bd8a-83b885e63a5f",
   "metadata": {
    "id": "3a273834-d6f0-4d5b-bd8a-83b885e63a5f"
   },
   "outputs": [],
   "source": [
    "numgen()"
   ]
  },
  {
   "cell_type": "code",
   "execution_count": null,
   "id": "a3acb24d-1590-40b0-9d64-a91cd5a82c10",
   "metadata": {
    "id": "a3acb24d-1590-40b0-9d64-a91cd5a82c10"
   },
   "outputs": [],
   "source": [
    "for i, num in enumerate(numgen):\n",
    "    print(num)\n",
    "    if i >= 10:\n",
    "        break"
   ]
  },
  {
   "cell_type": "markdown",
   "id": "5f22c1dd-86fb-4270-becc-209ef09c30f2",
   "metadata": {
    "id": "5f22c1dd-86fb-4270-becc-209ef09c30f2",
    "tags": []
   },
   "source": [
    "# Comprehensions\n",
    "Comprehensions are a special syntax that simplifies the creation of collections."
   ]
  },
  {
   "cell_type": "markdown",
   "id": "b3c4d086-c56b-4698-a0c5-05f6a2bfca30",
   "metadata": {
    "id": "b3c4d086-c56b-4698-a0c5-05f6a2bfca30"
   },
   "source": [
    "## List comprehension"
   ]
  },
  {
   "cell_type": "markdown",
   "id": "ccde24f4-fa02-4790-b612-b62332b10283",
   "metadata": {
    "id": "ccde24f4-fa02-4790-b612-b62332b10283"
   },
   "source": [
    "To get a list of of squares from a list of numbers we would usually have to write code like this."
   ]
  },
  {
   "cell_type": "code",
   "execution_count": null,
   "id": "e1cca1f5-3b8b-413e-966e-3772daf3e04e",
   "metadata": {
    "id": "e1cca1f5-3b8b-413e-966e-3772daf3e04e"
   },
   "outputs": [],
   "source": [
    "original_numbers = [1, 2, 3, 4, 5]\n",
    "squared_numbers = []\n",
    "for n in original_numbers:\n",
    "    squared_numbers.append(n**2)\n",
    "    \n",
    "squared_numbers"
   ]
  },
  {
   "cell_type": "markdown",
   "id": "002c3cc2-7a9e-4ab6-bb29-ea214f679ad2",
   "metadata": {
    "id": "002c3cc2-7a9e-4ab6-bb29-ea214f679ad2"
   },
   "source": [
    "However, with a comprehension, we can greatly simplify this."
   ]
  },
  {
   "cell_type": "code",
   "execution_count": null,
   "id": "ac5050f2-937a-4a14-9c67-9bc640c1358e",
   "metadata": {
    "id": "ac5050f2-937a-4a14-9c67-9bc640c1358e"
   },
   "outputs": [],
   "source": [
    "squared_numbers = [n**2 for n in original_numbers]\n",
    "squared_numbers"
   ]
  },
  {
   "cell_type": "markdown",
   "id": "55447343-ee0c-4217-b568-3c75714fd6f4",
   "metadata": {
    "id": "55447343-ee0c-4217-b568-3c75714fd6f4"
   },
   "source": [
    "The general syntax for a comprehension is `[`expression `for` element `in` iterable \\[`if` filter_condition\\] `]`. Let's see this in action."
   ]
  },
  {
   "cell_type": "code",
   "execution_count": null,
   "id": "3971abff-c79a-44b8-9af6-8ddf0fad4e65",
   "metadata": {
    "id": "3971abff-c79a-44b8-9af6-8ddf0fad4e65"
   },
   "outputs": [],
   "source": [
    "original_values = [(1, True), (2, False), (3, False), (4, True), (5, False), (7, True)]\n",
    "only_trues = []\n",
    "for i in original_values:\n",
    "    if i[1]:\n",
    "        only_trues.append(i[0])\n",
    "\n",
    "only_trues"
   ]
  },
  {
   "cell_type": "code",
   "execution_count": null,
   "id": "be0ff25f-0433-407d-9e0a-3d28ed383152",
   "metadata": {
    "id": "be0ff25f-0433-407d-9e0a-3d28ed383152"
   },
   "outputs": [],
   "source": [
    "only_trues = [\n",
    "    i[0]                      # what to do with the values from the old list\n",
    "    for i in original_values  # for-loop like syntax\n",
    "    if i[1]                   # filtering. \n",
    "]\n",
    "only_trues"
   ]
  },
  {
   "cell_type": "markdown",
   "id": "3359fcef-7c00-4c6a-8660-edb799d92ded",
   "metadata": {
    "id": "3359fcef-7c00-4c6a-8660-edb799d92ded"
   },
   "source": [
    "If we do not just want to filter, but instead do something else with the values that do not satisfy our filter condition, we can use a \n",
    "ternary expression."
   ]
  },
  {
   "cell_type": "code",
   "execution_count": null,
   "id": "8a1245b1-d72b-48ba-aaff-6e12f8a1e8f7",
   "metadata": {
    "id": "8a1245b1-d72b-48ba-aaff-6e12f8a1e8f7"
   },
   "outputs": [],
   "source": [
    "only_trues_or_zero = [\n",
    "    i[0] if i[1] else 0       # what to do with the values from the old list\n",
    "    for i in original_values  # for-loop like syntax\n",
    "]\n",
    "only_trues_or_zero"
   ]
  },
  {
   "cell_type": "code",
   "execution_count": null,
   "id": "1abfda93-2e8f-4f29-af2f-e3e2ab79cb9f",
   "metadata": {
    "id": "1abfda93-2e8f-4f29-af2f-e3e2ab79cb9f"
   },
   "outputs": [],
   "source": [
    "i = (50, False)    \n",
    "i[0] if i[1] else 0"
   ]
  },
  {
   "cell_type": "code",
   "execution_count": null,
   "id": "4811e347-1282-4f78-a9e3-4efb8524b965",
   "metadata": {
    "id": "4811e347-1282-4f78-a9e3-4efb8524b965"
   },
   "outputs": [],
   "source": [
    "i = (50, False)\n",
    "# This is not a valid python expression\n",
    "i[0] if i[1]"
   ]
  },
  {
   "cell_type": "code",
   "execution_count": null,
   "id": "d3f378db-438c-4bac-b4fd-89aeda4645e4",
   "metadata": {
    "id": "d3f378db-438c-4bac-b4fd-89aeda4645e4"
   },
   "outputs": [],
   "source": [
    "# The Syntax is fine, but its a pain to read...\n",
    "[(index, x) if not int(x/2)%2 else (index, print(\"no\")) for index, x in enumerate([n for n in range(10,30,2) if n%3])]"
   ]
  },
  {
   "cell_type": "markdown",
   "id": "6d6a50ef-d540-427b-af86-2b7d48ce60ad",
   "metadata": {
    "id": "6d6a50ef-d540-427b-af86-2b7d48ce60ad"
   },
   "source": [
    "## Dictionary Comprehension"
   ]
  },
  {
   "cell_type": "code",
   "execution_count": null,
   "id": "c6a23333-538b-458f-ac62-d48119ede11f",
   "metadata": {
    "id": "c6a23333-538b-458f-ac62-d48119ede11f"
   },
   "outputs": [],
   "source": [
    "numbers_and_their_squares = {num: num *num for num in [1,2,3,4,5]}\n",
    "numbers_and_their_squares"
   ]
  },
  {
   "cell_type": "markdown",
   "id": "adb2413b-d1dd-4594-82f5-374a2e503a73",
   "metadata": {
    "id": "adb2413b-d1dd-4594-82f5-374a2e503a73"
   },
   "source": [
    "## Generator Comprehension\n",
    "Generator comprehension is a compact way to write down generators"
   ]
  },
  {
   "cell_type": "code",
   "execution_count": null,
   "id": "468f236f-93c8-46cb-9e5e-dcf6aa2decb9",
   "metadata": {
    "id": "468f236f-93c8-46cb-9e5e-dcf6aa2decb9"
   },
   "outputs": [],
   "source": [
    "a = (i for i in [1, 2, \"Banana\", 42, None])\n",
    "print(a) # it's a generator!\n",
    "next(a)\n",
    "print(next(a))\n",
    "print(list(a))"
   ]
  },
  {
   "cell_type": "code",
   "execution_count": null,
   "id": "3ac4574a-ca92-4c07-ae33-2ec75a7f126d",
   "metadata": {
    "id": "3ac4574a-ca92-4c07-ae33-2ec75a7f126d",
    "tags": []
   },
   "outputs": [],
   "source": [
    "# So What if we want to use comprehension for tuples?\n",
    "a = tuple(i for i in [1, 2, \"Banana\", 42, None])\n",
    "type(a)"
   ]
  },
  {
   "cell_type": "markdown",
   "id": "fcb3b565-1ba2-42b6-ac68-2ef808358fd4",
   "metadata": {
    "id": "fcb3b565-1ba2-42b6-ac68-2ef808358fd4"
   },
   "source": [
    "# Exceptions"
   ]
  },
  {
   "cell_type": "code",
   "execution_count": null,
   "id": "20b3c81e-38a5-490a-b7eb-50e354bc99c3",
   "metadata": {
    "id": "20b3c81e-38a5-490a-b7eb-50e354bc99c3"
   },
   "outputs": [],
   "source": [
    "import random"
   ]
  },
  {
   "cell_type": "code",
   "execution_count": null,
   "id": "0f352ec6-2c4d-48ca-989f-9fea7604ff7f",
   "metadata": {
    "id": "0f352ec6-2c4d-48ca-989f-9fea7604ff7f"
   },
   "outputs": [],
   "source": [
    "a = [1, 2, 3] if random.randint(0,1) else 1\n",
    "\n",
    "first_val = a[0] #throws an Exception in 50% of cases"
   ]
  },
  {
   "cell_type": "code",
   "execution_count": null,
   "id": "b524005f-c619-450d-a94b-356b2efcf05f",
   "metadata": {
    "id": "b524005f-c619-450d-a94b-356b2efcf05f"
   },
   "outputs": [],
   "source": [
    "a = [1, 2, 3] if random.randint(0,1) else 1\n",
    "\n",
    "# we can catch that exception! In Java, this is try-catch, in python it's called try-except\n",
    "try:\n",
    "    print(\"trying to get first element\")\n",
    "    first_val = a[0]\n",
    "    print(\"everything worked!\")\n",
    "except Exception as e:\n",
    "    print(type(e), e)"
   ]
  },
  {
   "cell_type": "code",
   "execution_count": null,
   "id": "384c2e67-104a-4729-9526-5b615ea156b2",
   "metadata": {
    "id": "384c2e67-104a-4729-9526-5b615ea156b2"
   },
   "outputs": [],
   "source": [
    "try:\n",
    "    file_handle = open('test.txt')\n",
    "except FileNotFoundError as err:\n",
    "    print('this will be executed if a FileNotFoundError occurs')\n",
    "    print(err)\n",
    "finally:\n",
    "    print('this will be executed whether the try block throws an error or not')\n",
    "    try:\n",
    "        file_handle.close()\n",
    "    except:\n",
    "        pass\n"
   ]
  },
  {
   "cell_type": "code",
   "execution_count": null,
   "id": "5a0608ad-678f-4008-bd30-8dd91315b3e2",
   "metadata": {
    "id": "5a0608ad-678f-4008-bd30-8dd91315b3e2"
   },
   "outputs": [],
   "source": [
    "try:\n",
    "    file_handle = open('test.txt')\n",
    "except FileNotFoundError as err:\n",
    "    print('this will be executed if a FileNotFoundError occurs')\n",
    "    print(err)\n",
    "else:\n",
    "    print('this will be executed only if the try block throws no error')\n",
    "    try:\n",
    "        file_handle.close()\n",
    "    except:\n",
    "        pass"
   ]
  },
  {
   "cell_type": "code",
   "execution_count": null,
   "id": "58ed6045-6043-458f-9269-907354339598",
   "metadata": {
    "id": "58ed6045-6043-458f-9269-907354339598"
   },
   "outputs": [],
   "source": [
    "# Exceptions will go up through functions if unhandled\n",
    "def foo():\n",
    "    try:\n",
    "        [1, 2][3] #this will cause an IndexError, however as it isn't handled here, the error is thrown upward to the caller\n",
    "        open('asdf')\n",
    "    except FileNotFoundError as err:\n",
    "        print('file not found error')\n",
    "\n",
    "try:\n",
    "    foo()\n",
    "    print(\"won't be reached\")\n",
    "except IndexError as err:\n",
    "    print('index error')"
   ]
  },
  {
   "cell_type": "code",
   "execution_count": null,
   "id": "26d5aeca-efe4-4098-b411-3f9a280b7894",
   "metadata": {
    "id": "26d5aeca-efe4-4098-b411-3f9a280b7894"
   },
   "outputs": [],
   "source": [
    "# you can catch multiple exceptions in one try-except statement\n",
    "\n",
    "try:\n",
    "    [1,2][3]\n",
    "except IndexError:        #and if it does, it won't execute the others\n",
    "    print(\"this won't..\")\n",
    "except Exception:         #it will start chronologically at the first one, looking if this fits....\n",
    "    print(\"this will run\") \n",
    "\n"
   ]
  },
  {
   "cell_type": "code",
   "execution_count": null,
   "id": "6b0a9f0c-0cf7-4d6d-a026-3a3972a17aa6",
   "metadata": {
    "id": "6b0a9f0c-0cf7-4d6d-a026-3a3972a17aa6"
   },
   "outputs": [],
   "source": [
    "# you can catch multiple exceptions in one try-except statement\n",
    "\n",
    "try:\n",
    "    [1,2]%2\n",
    "except (AttributeError, LookupError):         #it will start chronologically at the first one, looking if this fits....\n",
    "    print(\"either attr or lookup\") "
   ]
  },
  {
   "cell_type": "markdown",
   "id": "e09ec028-4da2-40d0-aa4a-2cacdae18c26",
   "metadata": {
    "id": "e09ec028-4da2-40d0-aa4a-2cacdae18c26"
   },
   "source": [
    "![exceptions](figures/errors.png)"
   ]
  },
  {
   "cell_type": "code",
   "execution_count": null,
   "id": "efe665c4-449e-473e-b1d7-665e9e18392a",
   "metadata": {
    "id": "efe665c4-449e-473e-b1d7-665e9e18392a"
   },
   "outputs": [],
   "source": [
    "try:\n",
    "    while True:\n",
    "        pass\n",
    "except KeyboardInterrupt:\n",
    "    print(\"I gracefully stopped!\")"
   ]
  },
  {
   "cell_type": "code",
   "execution_count": null,
   "id": "9f575aa5-83e8-486b-9db1-76d13e8e59d6",
   "metadata": {
    "id": "9f575aa5-83e8-486b-9db1-76d13e8e59d6"
   },
   "outputs": [],
   "source": [
    "# You can even extend Exception yourself, to throw your own Exceptions!\n",
    "\n",
    "class NotTheValueIWantedException(Exception):\n",
    "    def __init__(self):\n",
    "        self.message = \"This value is not acceptable!\"\n",
    "        super().__init__(self.message)\n",
    "\n",
    "print(isinstance(NotTheValueIWantedException(), Exception))"
   ]
  },
  {
   "cell_type": "code",
   "execution_count": null,
   "id": "a406abf3-11b2-4f46-bfca-fb0b56f5509b",
   "metadata": {
    "id": "a406abf3-11b2-4f46-bfca-fb0b56f5509b"
   },
   "outputs": [],
   "source": [
    "def my_function(value):\n",
    "    if value != 42 and value != 1337:\n",
    "        raise NotTheValueIWantedException\n",
    "        \n",
    "for i in [1, 2, 42, \"hello\", 1337]:\n",
    "    try:\n",
    "        my_function(i)\n",
    "        print(\"A value it accepted was:\", i)\n",
    "    except KeyError:\n",
    "        print(\"{} was not the value it wanted\".format(i))"
   ]
  },
  {
   "cell_type": "markdown",
   "id": "926782a5-5302-4d58-93a5-7de0b9a7c919",
   "metadata": {
    "id": "926782a5-5302-4d58-93a5-7de0b9a7c919"
   },
   "source": [
    "Remember our Principle? This is because Python is so good and fast at throwing exceptions!\n",
    "![Glossary: EAFP](../week02-Basic_Programming_with_Python/eafp.png \"Glossary: EAFP\")\n",
    "\n",
    "from https://docs.python.org/3/glossary.html"
   ]
  },
  {
   "cell_type": "code",
   "execution_count": null,
   "id": "c85cb94e-9c70-4057-81bc-def371b6da6c",
   "metadata": {
    "id": "c85cb94e-9c70-4057-81bc-def371b6da6c"
   },
   "outputs": [],
   "source": [
    "# The pythonic way: EAFP\n",
    "lst = [1, 2, 3, 4, 5]\n",
    "\n",
    "def even_odd(num):\n",
    "    return \"even\" if num % 2 == 0 else \"odd\"\n",
    "\n",
    "dct = {}\n",
    "for elem in lst:\n",
    "    try:\n",
    "        dct[even_odd(elem)].append(elem)\n",
    "    # This Except block will be executed at most two times\n",
    "    except KeyError:\n",
    "        dct[even_odd(elem)] = [elem]\n",
    "        \n",
    "print(dct)"
   ]
  },
  {
   "cell_type": "code",
   "execution_count": null,
   "id": "57383b39-1387-4d0f-a5f6-d83379f5f06c",
   "metadata": {
    "id": "57383b39-1387-4d0f-a5f6-d83379f5f06c"
   },
   "outputs": [],
   "source": [
    "# The non-pythonic way: LBYL\n",
    "lst = [1, 2, 3, 4, 5]\n",
    "\n",
    "def even_odd(num):\n",
    "    return \"even\" if num % 2 == 0 else \"odd\"\n",
    "\n",
    "dct = {}\n",
    "for elem in lst:\n",
    "    '''This check has to be done every time, even if our dictionary has had\n",
    "    the keys for ages already'''\n",
    "    if even_odd(elem) in dct:\n",
    "        dct[even_odd(elem)].append(elem) \n",
    "    else:\n",
    "        dct[even_odd(elem)] = [elem]\n",
    "        \n",
    "print(dct)"
   ]
  },
  {
   "cell_type": "markdown",
   "id": "1c5d81ac-d74f-42b6-b3ff-6a3368a5bcb8",
   "metadata": {
    "id": "1c5d81ac-d74f-42b6-b3ff-6a3368a5bcb8"
   },
   "source": [
    "# Duck Typing\n",
    "\n",
    "> *\"If it looks like a duck and quacks like a duck, it probably is a duck\"*.\n",
    "\n",
    "We stated in lecture 2, that the type of a variable is only checked at the last possible minute. In fact, the philosophy of **duck typing** is that it doesn't even matter what type a variable is -- the only thing that matters is if you can do what you need to with it."
   ]
  },
  {
   "cell_type": "code",
   "execution_count": null,
   "id": "30775a74-70ca-40ee-affc-594732bfca45",
   "metadata": {
    "id": "30775a74-70ca-40ee-affc-594732bfca45"
   },
   "outputs": [],
   "source": [
    "class Animal:\n",
    "    def is_living():\n",
    "        return True\n",
    "    \n",
    "class LandAnimal(Animal):\n",
    "    \n",
    "    def __init__(self):\n",
    "        self.has_legs = True\n",
    "        \n",
    "    def walk(self):\n",
    "        return \"tap tap\"\n",
    "    \n",
    "class WaterAnimal(Animal):\n",
    "    def __init__(self):\n",
    "        self.has_legs = False\n",
    "    \n",
    "    def swim(self):\n",
    "        return \"splash\""
   ]
  },
  {
   "cell_type": "code",
   "execution_count": null,
   "id": "5c8278ad-3767-4ab6-9fac-883a9265b3be",
   "metadata": {
    "id": "5c8278ad-3767-4ab6-9fac-883a9265b3be"
   },
   "outputs": [],
   "source": [
    "def move_forward(animal):\n",
    "    if isinstance(animal, LandAnimal):\n",
    "        print(animal.walk())\n",
    "    if isinstance(animal, WaterAnimal):\n",
    "        print(animal.swim())"
   ]
  },
  {
   "cell_type": "code",
   "execution_count": null,
   "id": "3b237e17-22d5-4966-ace3-f64d849ac362",
   "metadata": {
    "id": "3b237e17-22d5-4966-ace3-f64d849ac362"
   },
   "outputs": [],
   "source": [
    "animal = LandAnimal() if random.randint(0,1) else WaterAnimal()\n",
    "\n",
    "move_forward(animal)"
   ]
  },
  {
   "cell_type": "code",
   "execution_count": null,
   "id": "f0d7808e-6ffa-46cd-b58a-b73656e548e7",
   "metadata": {
    "id": "f0d7808e-6ffa-46cd-b58a-b73656e548e7"
   },
   "outputs": [],
   "source": [
    "class DuckLikeAnimal(LandAnimal, WaterAnimal):\n",
    "    pass\n",
    "\n",
    "move_forward(DuckLikeAnimal())"
   ]
  },
  {
   "cell_type": "markdown",
   "id": "f3ea7dd1-6a37-47bb-b607-07ae4e16ad39",
   "metadata": {
    "id": "f3ea7dd1-6a37-47bb-b607-07ae4e16ad39"
   },
   "source": [
    "![Glossary: Duck Typing](figures/ducktyping.png \"Glossary: Duck Typing\")"
   ]
  },
  {
   "cell_type": "code",
   "execution_count": null,
   "id": "40ce619b-995b-4a2c-a5e9-f8bdc61cdc17",
   "metadata": {
    "id": "40ce619b-995b-4a2c-a5e9-f8bdc61cdc17"
   },
   "outputs": [],
   "source": [
    "class DuckLikeAnimal(LandAnimal, WaterAnimal):\n",
    "    def __init__(self, *args, **kwargs):\n",
    "        self.looks_like = \"duck\"\n",
    "        self.quacks_like = \"duck\"\n",
    "        super().__init__(*args, **kwargs)    "
   ]
  },
  {
   "cell_type": "code",
   "execution_count": null,
   "id": "f50b5657-3c18-49f8-ae20-1fe30e63b85d",
   "metadata": {
    "id": "f50b5657-3c18-49f8-ae20-1fe30e63b85d"
   },
   "outputs": [],
   "source": [
    "duck_like = DuckLikeAnimal()\n",
    "\n",
    "if duck_like.looks_like == \"duck\" and duck_like.quacks_like == \"duck\":\n",
    "    print(\"For all that matters, it is a duck!\")"
   ]
  },
  {
   "cell_type": "markdown",
   "id": "95d7e4e7-8ad3-43ee-85af-b8dbd0970a20",
   "metadata": {
    "id": "95d7e4e7-8ad3-43ee-85af-b8dbd0970a20"
   },
   "source": [
    "So making our animal move *the pythonic way* would include our principle of duck typing togehter with our EAFP principle:"
   ]
  },
  {
   "cell_type": "code",
   "execution_count": null,
   "id": "dc70bce4-dbac-4f88-b26a-c33faf438392",
   "metadata": {
    "id": "dc70bce4-dbac-4f88-b26a-c33faf438392"
   },
   "outputs": [],
   "source": [
    "animal = DuckLikeAnimal()\n",
    "\n",
    "try:\n",
    "    print(animal.walk())\n",
    "except AttributeError:\n",
    "    print(animal.swim())"
   ]
  },
  {
   "cell_type": "markdown",
   "id": "0af49242-3c3c-4afa-b68d-94ba3370d785",
   "metadata": {
    "id": "0af49242-3c3c-4afa-b68d-94ba3370d785"
   },
   "source": [
    "# Lambda Expressions\n",
    "\n",
    "Lambda expressions can be used to create \"small\", \"throw-away\", anonymous functions."
   ]
  },
  {
   "cell_type": "code",
   "execution_count": null,
   "id": "cd6a18c9-61d0-46e4-b5e6-72a8becfe1af",
   "metadata": {
    "id": "cd6a18c9-61d0-46e4-b5e6-72a8becfe1af"
   },
   "outputs": [],
   "source": [
    "def square_number(x):\n",
    "    return x**2\n",
    "\n",
    "square_number(8), type(square_number)"
   ]
  },
  {
   "cell_type": "code",
   "execution_count": null,
   "id": "e9794626-2880-4c2f-a13b-67ec462030c5",
   "metadata": {
    "id": "e9794626-2880-4c2f-a13b-67ec462030c5"
   },
   "outputs": [],
   "source": [
    "lambda x: x**2"
   ]
  },
  {
   "cell_type": "code",
   "execution_count": null,
   "id": "3ae08bbf-caad-4e2b-9588-92f8f6e685e0",
   "metadata": {
    "id": "3ae08bbf-caad-4e2b-9588-92f8f6e685e0"
   },
   "outputs": [],
   "source": [
    "square_number = lambda x: x**2\n",
    "\n",
    "square_number(8), type(square_number)"
   ]
  },
  {
   "cell_type": "code",
   "execution_count": null,
   "id": "1e9b7889-9d2f-453c-8cb1-a2675ddd35a4",
   "metadata": {
    "id": "1e9b7889-9d2f-453c-8cb1-a2675ddd35a4"
   },
   "outputs": [],
   "source": [
    "calc_sum = lambda x, y: x + y\n",
    "calc_sum(2, 3)"
   ]
  },
  {
   "cell_type": "markdown",
   "id": "b96c3a6c-36a4-4bc7-b2c4-3485ae984967",
   "metadata": {
    "id": "b96c3a6c-36a4-4bc7-b2c4-3485ae984967"
   },
   "source": [
    "You can use lambda-expressions for small pieces of code:"
   ]
  },
  {
   "cell_type": "code",
   "execution_count": null,
   "id": "e184fad9-6a7c-4f07-a7cc-360eae695d27",
   "metadata": {
    "id": "e184fad9-6a7c-4f07-a7cc-360eae695d27"
   },
   "outputs": [],
   "source": [
    "now = lambda: pd.to_datetime(datetime.datetime.now()).tz_localize('UTC').tz_convert('Europe/Berlin')\n",
    "maketime = lambda x: datetime.datetime.utcfromtimestamp(int(x)).strftime('%Y-%m-%d %H:%M')\n",
    "imsave = lambda fname, img: plt.imsave(fname, img, vmin=0, vmax=1)"
   ]
  },
  {
   "cell_type": "markdown",
   "id": "cefa645d-6112-444d-bce2-cad7bc641c2f",
   "metadata": {
    "id": "cefa645d-6112-444d-bce2-cad7bc641c2f"
   },
   "source": [
    "## Controlling list operations with lambdas"
   ]
  },
  {
   "cell_type": "code",
   "execution_count": null,
   "id": "f4958da2-a405-4d56-8e18-def8aa3154ad",
   "metadata": {
    "id": "f4958da2-a405-4d56-8e18-def8aa3154ad"
   },
   "outputs": [],
   "source": [
    "unsorted_list = [6, 1, 45, 67, 3, 7]\n",
    "\n",
    "# two ways to sort:\n",
    "new_list = sorted(unsorted_list) # creates a new sorted one, old one stays the same\n",
    "unsorted_list.sort()             # sorts in-place, the old one will change\n",
    "\n",
    "print(new_list)\n",
    "print(unsorted_list)"
   ]
  },
  {
   "cell_type": "code",
   "execution_count": null,
   "id": "d57c493b-1476-452d-aa94-06a073f2b65c",
   "metadata": {
    "id": "d57c493b-1476-452d-aa94-06a073f2b65c"
   },
   "outputs": [],
   "source": [
    "unsorted_list.sort?"
   ]
  },
  {
   "cell_type": "markdown",
   "id": "c05710da-b9e8-4b9e-9640-7a1159764f0c",
   "metadata": {
    "id": "c05710da-b9e8-4b9e-9640-7a1159764f0c"
   },
   "source": [
    "Sorting in  descending order."
   ]
  },
  {
   "cell_type": "code",
   "execution_count": null,
   "id": "d4ebe867-cd1c-4ba2-b0c1-4d1449a6ad16",
   "metadata": {
    "id": "d4ebe867-cd1c-4ba2-b0c1-4d1449a6ad16"
   },
   "outputs": [],
   "source": [
    "unsorted_list.sort(reverse=True) \n",
    "unsorted_list"
   ]
  },
  {
   "cell_type": "code",
   "execution_count": null,
   "id": "5faaf34b-0083-4267-a1b4-fdb4e85ae44d",
   "metadata": {
    "id": "5faaf34b-0083-4267-a1b4-fdb4e85ae44d"
   },
   "outputs": [],
   "source": [
    "unsorted_list.sort(key = lambda n: -n)\n",
    "unsorted_list"
   ]
  },
  {
   "cell_type": "markdown",
   "id": "bdd593c1-7997-48c3-a284-bfabd6b10696",
   "metadata": {
    "id": "bdd593c1-7997-48c3-a284-bfabd6b10696"
   },
   "source": [
    "Sorting according to specific rules can be done with lambda functions. For example you can sort people by their age."
   ]
  },
  {
   "cell_type": "code",
   "execution_count": null,
   "id": "2c67ba5d-7970-435f-a521-00b7995c9dc0",
   "metadata": {
    "id": "2c67ba5d-7970-435f-a521-00b7995c9dc0"
   },
   "outputs": [],
   "source": [
    "people = [\n",
    "    {'name': 'Aaron', 'age': 40},\n",
    "    {'name': 'Berta', 'age': 20},\n",
    "    {'name': 'Chris', 'age': 29},\n",
    "]"
   ]
  },
  {
   "cell_type": "code",
   "execution_count": null,
   "id": "202dbbdd-73d3-44e5-be84-5187d380937d",
   "metadata": {
    "id": "202dbbdd-73d3-44e5-be84-5187d380937d"
   },
   "outputs": [],
   "source": [
    "people.sort()"
   ]
  },
  {
   "cell_type": "code",
   "execution_count": null,
   "id": "11a8a86c-ce8d-4da7-8e14-4e15a61fee17",
   "metadata": {
    "id": "11a8a86c-ce8d-4da7-8e14-4e15a61fee17"
   },
   "outputs": [],
   "source": [
    "people.sort(key=lambda item: item['age'])\n",
    "people"
   ]
  },
  {
   "cell_type": "markdown",
   "id": "297312dd-8f9b-4789-8872-f1736bc7827d",
   "metadata": {
    "id": "297312dd-8f9b-4789-8872-f1736bc7827d"
   },
   "source": [
    "or by their name."
   ]
  },
  {
   "cell_type": "code",
   "execution_count": null,
   "id": "8541300f-e62c-49d2-ad6e-69150afec072",
   "metadata": {
    "id": "8541300f-e62c-49d2-ad6e-69150afec072"
   },
   "outputs": [],
   "source": [
    "people.sort(key=lambda item: item['name'])\n",
    "people"
   ]
  },
  {
   "cell_type": "markdown",
   "id": "701736ad-8f05-408f-bf46-3a37dc0651c3",
   "metadata": {
    "id": "701736ad-8f05-408f-bf46-3a37dc0651c3"
   },
   "source": [
    "Other functions work similarly, For example you can use the `key` argument in `max`"
   ]
  },
  {
   "cell_type": "code",
   "execution_count": null,
   "id": "f554edd6-0a4c-4a11-95ca-68dbf668cdd5",
   "metadata": {
    "id": "f554edd6-0a4c-4a11-95ca-68dbf668cdd5"
   },
   "outputs": [],
   "source": [
    "max(people, key=lambda x: x['age'])"
   ]
  },
  {
   "cell_type": "markdown",
   "id": "d8804492-416e-4310-9fd9-b0ee59882f12",
   "metadata": {
    "id": "d8804492-416e-4310-9fd9-b0ee59882f12"
   },
   "source": [
    "## Exercise\n",
    "Use the `min` function with a `key` argument to find the person that comes first in the alphabet."
   ]
  },
  {
   "cell_type": "code",
   "execution_count": null,
   "id": "89fb4372-118c-42b2-bb33-dd11636fb85b",
   "metadata": {
    "cell_type": "solution",
    "id": "89fb4372-118c-42b2-bb33-dd11636fb85b"
   },
   "outputs": [],
   "source": [
    "min(people, key=lambda x: x['name'])"
   ]
  },
  {
   "cell_type": "markdown",
   "id": "9df840d6-5823-4274-aca4-98b28ba1d408",
   "metadata": {
    "id": "9df840d6-5823-4274-aca4-98b28ba1d408"
   },
   "source": [
    "## Map, Filter & Reduce\n",
    "\n",
    "Python has many features that originally stem from different programming paradigmns. One of these is that of functional programming, where the concept of *map*, *filter*, and *reduce* come from. These functions are there to apply a function to a collection of data."
   ]
  },
  {
   "cell_type": "markdown",
   "id": "3e3a219b-d1ff-4aea-bffd-a94f65623d32",
   "metadata": {
    "id": "3e3a219b-d1ff-4aea-bffd-a94f65623d32"
   },
   "source": [
    "### Map\n",
    "\n",
    "Map takes a function and a collection, and simply applys the function to every element of the collection:"
   ]
  },
  {
   "cell_type": "code",
   "execution_count": null,
   "id": "824dd280-3122-4ebc-aeec-691635d1371e",
   "metadata": {
    "id": "824dd280-3122-4ebc-aeec-691635d1371e"
   },
   "outputs": [],
   "source": [
    "map?"
   ]
  },
  {
   "cell_type": "code",
   "execution_count": null,
   "id": "95963012-32d7-4da7-9096-723f9f698262",
   "metadata": {
    "id": "95963012-32d7-4da7-9096-723f9f698262"
   },
   "outputs": [],
   "source": [
    "items = [1, 2, 3, 4, 5]\n",
    "squared = list(map(lambda x: x**2, items))\n",
    "squared"
   ]
  },
  {
   "cell_type": "markdown",
   "id": "a40b6c6a-6710-4c4b-9418-debbadfea161",
   "metadata": {
    "id": "a40b6c6a-6710-4c4b-9418-debbadfea161"
   },
   "source": [
    "..which is the same as"
   ]
  },
  {
   "cell_type": "code",
   "execution_count": null,
   "id": "c1c709d2-10d6-474b-86f7-b641fd63b139",
   "metadata": {
    "id": "c1c709d2-10d6-474b-86f7-b641fd63b139"
   },
   "outputs": [],
   "source": [
    "items = [1, 2, 3, 4, 5]\n",
    "squared = []\n",
    "for i in items:\n",
    "    squared.append(i**2)"
   ]
  },
  {
   "cell_type": "code",
   "execution_count": null,
   "id": "d5093d21-7e97-45b4-b469-4aba1a5a29ad",
   "metadata": {
    "id": "d5093d21-7e97-45b4-b469-4aba1a5a29ad"
   },
   "outputs": [],
   "source": [
    "a, b = [1,2,3,4], [4,5,6]\n",
    "# Map can also have several collections as arguments. Look again what zip does:\n",
    "print(list(zip(a, b)))\n",
    "# And try to implement the same behaviour with map instead of zip\n"
   ]
  },
  {
   "cell_type": "markdown",
   "id": "f4cbe0d4-fd1a-49d8-b19b-c96e52a60e6c",
   "metadata": {
    "id": "f4cbe0d4-fd1a-49d8-b19b-c96e52a60e6c"
   },
   "source": [
    "### Filter\n",
    "\n",
    "`filter` takes a collection and a function that returns a boolean value. As the name suggests, it thus filters the list: it creates a list of elements for which the function returns true."
   ]
  },
  {
   "cell_type": "code",
   "execution_count": null,
   "id": "dc2a8365-0f76-4431-865b-f70a2c4df254",
   "metadata": {
    "id": "dc2a8365-0f76-4431-865b-f70a2c4df254"
   },
   "outputs": [],
   "source": [
    "number_list = range(-5, 5)\n",
    "print(\"unfiltered:\", list(number_list))\n",
    "less_than_zero = list(filter(lambda x: x < 0, number_list))\n",
    "print(\"filtered:\", less_than_zero)"
   ]
  },
  {
   "cell_type": "raw",
   "id": "f4e4e3a3-991c-41ff-8981-938237cdf5d4",
   "metadata": {
    "id": "f4e4e3a3-991c-41ff-8981-938237cdf5d4"
   },
   "source": [
    "# an actual example (not here exectuable) from a project of mine:\n",
    "for (dirpath, dirnames, filenames) in os.walk(args.basepath):\n",
    "    filenames = list(filter(lambda x: os.path.splitext(x)[1] not in IGNORE_EXTS, filenames))\n",
    "    if not args.include_hidden:\n",
    "        filenames = list(filter(lambda x: x[0] != '.', filenames))"
   ]
  },
  {
   "cell_type": "markdown",
   "id": "aef19632-ab18-4ab0-b61b-4a223e750695",
   "metadata": {
    "id": "aef19632-ab18-4ab0-b61b-4a223e750695",
    "tags": []
   },
   "source": [
    "### Reduce \n",
    "\n",
    "is a really useful function for performing some computation on a list and returning the result. It applies a rolling computation to sequential pairs of values in a list. For example, if you wanted to compute the product of a list of integers."
   ]
  },
  {
   "cell_type": "code",
   "execution_count": null,
   "id": "3d8c30ca-ed9c-4151-8330-2c44abe04239",
   "metadata": {
    "id": "3d8c30ca-ed9c-4151-8330-2c44abe04239"
   },
   "outputs": [],
   "source": [
    "reduce?"
   ]
  },
  {
   "cell_type": "code",
   "execution_count": null,
   "id": "49f5ce9e-bc5b-4fc4-aca9-8af0235c48ce",
   "metadata": {
    "id": "49f5ce9e-bc5b-4fc4-aca9-8af0235c48ce"
   },
   "outputs": [],
   "source": [
    "from functools import reduce #reduce is not in pythons standardlib and must be imported!\n",
    "mysum = reduce(lambda x,y: x+y, [47,11,42,13])\n",
    "mysum"
   ]
  },
  {
   "cell_type": "markdown",
   "id": "246e183d-0d17-424e-8bb0-64e62df02291",
   "metadata": {
    "id": "246e183d-0d17-424e-8bb0-64e62df02291"
   },
   "source": [
    "![tool](figures/reduce_diagram.png)"
   ]
  },
  {
   "cell_type": "markdown",
   "id": "d9233c7f-3049-494b-898f-334f935087cb",
   "metadata": {
    "id": "d9233c7f-3049-494b-898f-334f935087cb"
   },
   "source": [
    "...which is the same as:"
   ]
  },
  {
   "cell_type": "code",
   "execution_count": null,
   "id": "1cd6a0fb-3786-4650-b9a8-c6a8060c50af",
   "metadata": {
    "id": "1cd6a0fb-3786-4650-b9a8-c6a8060c50af"
   },
   "outputs": [],
   "source": [
    "product = 1\n",
    "thelist = [1, 2, 3, 4]\n",
    "for num in thelist:\n",
    "    product = product * num"
   ]
  },
  {
   "cell_type": "raw",
   "id": "f30eafe1-483f-48f6-9651-8409460413f0",
   "metadata": {
    "id": "f30eafe1-483f-48f6-9651-8409460413f0"
   },
   "source": [
    "# real-life example:\n",
    "def get_newest_commit(commitlist):\n",
    "    date = lambda x: parser.parse(x).strftime(\"%s\")\n",
    "    newer = lambda x,y: x if date(x) > date(y) else y\n",
    "    return reduce(newer, commitlist)"
   ]
  },
  {
   "cell_type": "code",
   "execution_count": null,
   "id": "4yGAJu6C5tVR",
   "metadata": {
    "id": "4yGAJu6C5tVR"
   },
   "outputs": [],
   "source": []
  },
  {
   "cell_type": "markdown",
   "id": "358d1e11-9b64-4421-b6f5-6c9abe4e6cd7",
   "metadata": {},
   "source": [
    "# Decorators\n",
    "Decorators are functions that extend the functionality of other functions or classes.<br>"
   ]
  },
  {
   "cell_type": "code",
   "execution_count": 1,
   "id": "bba3eb7f-9316-49d5-8705-7b5b163f530b",
   "metadata": {},
   "outputs": [],
   "source": [
    "def add(x, y):\n",
    "    return x + y\n",
    "\n",
    "def decorated_add(x, y):\n",
    "    result = add(x, y)\n",
    "    print(f\"Result of {add.__name__}: {result}\")"
   ]
  },
  {
   "cell_type": "code",
   "execution_count": 2,
   "id": "c51bfbb4-113b-4d20-97a1-2e46db80f57c",
   "metadata": {},
   "outputs": [
    {
     "name": "stdout",
     "output_type": "stream",
     "text": [
      "Result of add: 3\n"
     ]
    }
   ],
   "source": [
    "decorated_add(1,2)"
   ]
  },
  {
   "cell_type": "markdown",
   "id": "95409c63-cdda-4503-a913-42689558153e",
   "metadata": {},
   "source": [
    "<br>\n",
    "\n",
    "### for arbitrary functions\n",
    "if we pass the function that we want to decorate as an argument then we can decorate any function"
   ]
  },
  {
   "cell_type": "code",
   "execution_count": 3,
   "id": "132cd22a-4ca7-401a-8f33-36ff923bcb61",
   "metadata": {},
   "outputs": [],
   "source": [
    "def decorated_function(func, x, y):\n",
    "    result = func(x, y)\n",
    "    print(f\"Result of {func.__name__}: {result}\")"
   ]
  },
  {
   "cell_type": "code",
   "execution_count": 4,
   "id": "9ce449da-3d07-490a-86a9-a0e7f7bc70be",
   "metadata": {},
   "outputs": [],
   "source": [
    "def add(x, y):\n",
    "    return x + y\n",
    "\n",
    "def substract(x, y):\n",
    "    return x - y\n",
    "\n",
    "def multiply(x,y):\n",
    "    return x * y"
   ]
  },
  {
   "cell_type": "code",
   "execution_count": 5,
   "id": "2769d4aa-6f86-46c6-be27-9f1857cc1212",
   "metadata": {},
   "outputs": [
    {
     "name": "stdout",
     "output_type": "stream",
     "text": [
      "Result of add: 3\n",
      "Result of substract: -1\n",
      "Result of multiply: 2\n"
     ]
    }
   ],
   "source": [
    "decorated_function(add, 1, 2)\n",
    "decorated_function(substract, 1, 2)\n",
    "decorated_function(multiply, 1, 2)"
   ]
  },
  {
   "cell_type": "markdown",
   "id": "2cdf4cb1-35b7-4fa0-a030-2c8572f327ea",
   "metadata": {},
   "source": [
    "<br>\n",
    "\n",
    "### overwritting the original function\n",
    "Calling `decorated_function` everytime is a bit tideous, <br>\n",
    "so instead we define the `decorated_function` as an inner function inside the out function `decorator` and then return it from there"
   ]
  },
  {
   "cell_type": "code",
   "execution_count": 6,
   "id": "07e999ac-0d73-492c-aabe-97f15fc44b93",
   "metadata": {},
   "outputs": [],
   "source": [
    "def decorator(func):\n",
    "    \n",
    "    def decorated_function(x, y): \n",
    "        result = func(x,y)\n",
    "        print(f\"Result of {func.__name__}: {result}\")\n",
    "        \n",
    "    return decorated_function"
   ]
  },
  {
   "cell_type": "markdown",
   "id": "367a160b-d522-46da-9455-b33c9376540b",
   "metadata": {},
   "source": [
    "With the returned decorated function we can then overwrite the original function"
   ]
  },
  {
   "cell_type": "code",
   "execution_count": 7,
   "id": "f0bf52e6-48a2-4d9c-8168-6885f6544365",
   "metadata": {},
   "outputs": [],
   "source": [
    "def add(x,y):\n",
    "    return x + y\n",
    "\n",
    "add = decorator(add)"
   ]
  },
  {
   "cell_type": "code",
   "execution_count": 8,
   "id": "b6dcc95f-d88f-4b5b-8871-2548cf322f57",
   "metadata": {},
   "outputs": [
    {
     "name": "stdout",
     "output_type": "stream",
     "text": [
      "Result of add: 3\n"
     ]
    }
   ],
   "source": [
    "add(1,2)"
   ]
  },
  {
   "cell_type": "markdown",
   "id": "8058dba9-a377-46cf-9827-ddd9bfa23f7d",
   "metadata": {},
   "source": [
    "<br>\n",
    "\n",
    "### @ - snytactic sugar for decorating\n",
    "Python provides a syntax for the assignment `function = decorator(function)`.<br>"
   ]
  },
  {
   "cell_type": "code",
   "execution_count": 9,
   "id": "8d5e4f10-42a0-4929-9d48-4584b495d5c7",
   "metadata": {},
   "outputs": [],
   "source": [
    "@decorator #add = decorator(add)\n",
    "def add(x,y):\n",
    "    return x + y"
   ]
  },
  {
   "cell_type": "code",
   "execution_count": 10,
   "id": "037fc0e3-3e1b-4014-94d1-1ae60d487d7b",
   "metadata": {},
   "outputs": [
    {
     "name": "stdout",
     "output_type": "stream",
     "text": [
      "Result of add: 3\n"
     ]
    }
   ],
   "source": [
    "add(1,2)"
   ]
  },
  {
   "cell_type": "markdown",
   "id": "bd3b2871-1523-4ba0-ad1a-12b6af28dbdf",
   "metadata": {},
   "source": [
    "<br>\n",
    "\n",
    "## Another Example\n",
    "Here we have a decorator that wraps the functions return into bold symbols"
   ]
  },
  {
   "cell_type": "code",
   "execution_count": 11,
   "id": "ebd3738a-2ca5-4008-9e4b-abe88a2b4938",
   "metadata": {},
   "outputs": [
    {
     "data": {
      "text/plain": [
       "'<b>hello world</b>'"
      ]
     },
     "execution_count": 11,
     "metadata": {},
     "output_type": "execute_result"
    }
   ],
   "source": [
    "def bold(fn):\n",
    "    \"\"\"wraps the result of a function such that it's bold\"\"\"\n",
    "    def wrapped():\n",
    "        return \"<b>\" + fn() + \"</b>\"\n",
    "    return wrapped\n",
    "\n",
    "\n",
    "@bold #hello = bold(hello)\n",
    "def hello():\n",
    "    \"\"\"returns 'hello world'\"\"\"\n",
    "    return \"hello world\"\n",
    "\n",
    "hello()"
   ]
  },
  {
   "cell_type": "markdown",
   "id": "7822b4a2-16dc-4ac3-9a70-2ebb311d8cf3",
   "metadata": {},
   "source": [
    " We can render this string with the `HTML` function"
   ]
  },
  {
   "cell_type": "code",
   "execution_count": 12,
   "id": "923d1a3b-2898-49a5-9524-1a8c2e9e39b7",
   "metadata": {},
   "outputs": [],
   "source": [
    "from IPython.display import HTML"
   ]
  },
  {
   "cell_type": "code",
   "execution_count": 13,
   "id": "085b992b-eab9-4359-b87f-c415f52679cd",
   "metadata": {},
   "outputs": [
    {
     "data": {
      "text/html": [
       "<b>hello world</b>"
      ],
      "text/plain": [
       "<IPython.core.display.HTML object>"
      ]
     },
     "execution_count": 13,
     "metadata": {},
     "output_type": "execute_result"
    }
   ],
   "source": [
    "HTML(hello())"
   ]
  },
  {
   "cell_type": "markdown",
   "id": "50da4dc1-21a7-4597-a744-07660573bb20",
   "metadata": {},
   "source": [
    "<br>\n",
    "\n",
    "### chaining decorators"
   ]
  },
  {
   "cell_type": "code",
   "execution_count": 14,
   "id": "972f522d-bf77-4943-8072-393f4a22f654",
   "metadata": {},
   "outputs": [
    {
     "data": {
      "text/html": [
       "<b><i>hello world</i></b>"
      ],
      "text/plain": [
       "<IPython.core.display.HTML object>"
      ]
     },
     "execution_count": 14,
     "metadata": {},
     "output_type": "execute_result"
    }
   ],
   "source": [
    "def bold(fn):\n",
    "    \"\"\"wraps the result of a function such that it's bold\"\"\"\n",
    "    def wrapped():\n",
    "        return \"<b>\" + fn() + \"</b>\"\n",
    "    return wrapped\n",
    "\n",
    "def italic(fn):\n",
    "    \"\"\"wraps the result of a function such that it's italics\"\"\"\n",
    "    def wrapped():\n",
    "        return \"<i>\" + fn() + \"</i>\"\n",
    "    return wrapped\n",
    "\n",
    "def html(fn):\n",
    "    \"\"\"renders html\"\"\"\n",
    "    def wrapped():\n",
    "        return HTML(fn())\n",
    "    return wrapped\n",
    "\n",
    "\n",
    "@html   #hello = html(hello)\n",
    "@bold   #hello = bold(hello)\n",
    "@italic #hello = italic(hello)\n",
    "def hello():\n",
    "    \"\"\"returns 'hello world'\"\"\"\n",
    "    return \"hello world\"\n",
    "\n",
    "hello()"
   ]
  },
  {
   "cell_type": "markdown",
   "id": "91bc7b8c-4f9d-44b6-9556-de5c1d3e3688",
   "metadata": {},
   "source": [
    "<br>\n",
    "\n",
    "### Recovering the docstring "
   ]
  },
  {
   "cell_type": "code",
   "execution_count": 15,
   "id": "47526d89-5410-4f93-ba1f-6f66a533cc7e",
   "metadata": {},
   "outputs": [
    {
     "data": {
      "text/plain": [
       "\u001b[0;31mSignature:\u001b[0m \u001b[0mhello\u001b[0m\u001b[0;34m(\u001b[0m\u001b[0;34m)\u001b[0m\u001b[0;34m\u001b[0m\u001b[0;34m\u001b[0m\u001b[0m\n",
       "\u001b[0;31mDocstring:\u001b[0m <no docstring>\n",
       "\u001b[0;31mFile:\u001b[0m      /var/folders/65/kg2bqjyn62n9nyh0_0s86vmc0000gn/T/ipykernel_83245/4038784031.py\n",
       "\u001b[0;31mType:\u001b[0m      function\n"
      ]
     },
     "metadata": {},
     "output_type": "display_data"
    }
   ],
   "source": [
    "hello?"
   ]
  },
  {
   "cell_type": "markdown",
   "id": "0dcd6d12-5f9d-45d1-bede-d97e0c675b95",
   "metadata": {},
   "source": [
    "We can use *another decorator*, namely `functools.wraps`. This simply copies the docstring of the original function to the new one."
   ]
  },
  {
   "cell_type": "code",
   "execution_count": 16,
   "id": "44350e1a-a793-4664-964c-54c834bd35a8",
   "metadata": {},
   "outputs": [],
   "source": [
    "from functools import wraps\n",
    "\n",
    "def bold(fn):\n",
    "    \"\"\"wraps the result of a function such that it's bold\"\"\"\n",
    "    @wraps(fn)\n",
    "    def wrapped():\n",
    "        return \"<b>\" + fn() + \"</b>\"\n",
    "    return wrapped\n",
    "\n",
    "def italic(fn):\n",
    "    \"\"\"wraps the result of a function such that it's italics\"\"\"\n",
    "    @wraps(fn)\n",
    "    def wrapped():\n",
    "        return \"<i>\" + fn() + \"</i>\"\n",
    "    return wrapped\n",
    "\n",
    "def html(fn):\n",
    "    \"\"\"renders html\"\"\"\n",
    "    @wraps(fn)\n",
    "    def wrapped():\n",
    "        return HTML(fn())\n",
    "    return wrapped\n",
    "\n",
    "\n",
    "@html   #hello = html(hello)\n",
    "@bold   #hello = bold(hello)\n",
    "@italic #hello = italic(hello)\n",
    "def hello():\n",
    "    \"\"\"returns 'hello world'\"\"\"\n",
    "    return \"hello world\""
   ]
  },
  {
   "cell_type": "code",
   "execution_count": 17,
   "id": "bae30143-7b7f-42df-ad33-af348e8cf735",
   "metadata": {},
   "outputs": [
    {
     "data": {
      "text/plain": [
       "\u001b[0;31mSignature:\u001b[0m \u001b[0mhello\u001b[0m\u001b[0;34m(\u001b[0m\u001b[0;34m)\u001b[0m\u001b[0;34m\u001b[0m\u001b[0;34m\u001b[0m\u001b[0m\n",
       "\u001b[0;31mDocstring:\u001b[0m returns 'hello world'\n",
       "\u001b[0;31mFile:\u001b[0m      /var/folders/65/kg2bqjyn62n9nyh0_0s86vmc0000gn/T/ipykernel_83245/2819131071.py\n",
       "\u001b[0;31mType:\u001b[0m      function\n"
      ]
     },
     "metadata": {},
     "output_type": "display_data"
    }
   ],
   "source": [
    "hello?"
   ]
  },
  {
   "cell_type": "markdown",
   "id": "926fa3f9-3121-4d1f-a2af-25156f730d5a",
   "metadata": {},
   "source": [
    "<br>\n",
    "\n",
    "## Exercise\n",
    "Define and apply a decorator that makes a string appear red. <br>\n",
    "You can achieve this by wrapping the string in `<span style='color: red'> str </span>`"
   ]
  },
  {
   "cell_type": "code",
   "execution_count": 18,
   "id": "3ac2ae4e-4dbe-4c13-a2a4-4f873b9813a9",
   "metadata": {},
   "outputs": [
    {
     "data": {
      "text/html": [
       "<b><i>hello world</i></b>"
      ],
      "text/plain": [
       "<IPython.core.display.HTML object>"
      ]
     },
     "execution_count": 18,
     "metadata": {},
     "output_type": "execute_result"
    }
   ],
   "source": [
    "def red(fn):\n",
    "    pass\n",
    "\n",
    "@html\n",
    "#@red\n",
    "@bold\n",
    "@italic\n",
    "def hello():\n",
    "    \"\"\"returns 'hello world'\"\"\"\n",
    "    return \"hello world\"\n",
    "\n",
    "hello()"
   ]
  },
  {
   "cell_type": "code",
   "execution_count": null,
   "id": "8f294d51-af7d-448e-82e6-16350a11faf2",
   "metadata": {},
   "outputs": [],
   "source": []
  },
  {
   "cell_type": "markdown",
   "id": "49e6e072",
   "metadata": {
    "id": "GiaGArLCBnTQ"
   },
   "source": [
    "# String Formatting"
   ]
  },
  {
   "cell_type": "markdown",
   "id": "ba6c4fe3",
   "metadata": {
    "id": "r9dfOSnkCUC0"
   },
   "source": [
    "String formatting lets you inject items into a string rather than trying to chain items together using commas or string concatenation.\n",
    "\n",
    "There are three ways to perform string formatting.\n",
    "\n",
    " - The oldest method involves placeholders using the modulo `% `character.\n",
    " - An improved technique uses the `.format()` string method.\n",
    " - The newest method, introduced with Python 3.6, uses formatted string literals, called `f-strings`.\n",
    "\n",
    "\n"
   ]
  },
  {
   "cell_type": "markdown",
   "id": "6580601e",
   "metadata": {
    "id": "zZE0jKGLDNgM"
   },
   "source": [
    "### Formatting with placeholders"
   ]
  },
  {
   "cell_type": "markdown",
   "id": "b91627b7",
   "metadata": {
    "id": "UIwirl61DXMV"
   },
   "source": [
    "You can use `%s` to inject strings into your print statements. The module `%` is referred to as a \"string formatting operator\"."
   ]
  },
  {
   "cell_type": "code",
   "execution_count": 1,
   "id": "c4077b4f",
   "metadata": {
    "colab": {
     "base_uri": "https://localhost:8080/"
    },
    "executionInfo": {
     "elapsed": 9,
     "status": "ok",
     "timestamp": 1650297026932,
     "user": {
      "displayName": "Argha Sarker",
      "userId": "00722939545107565048"
     },
     "user_tz": -120
    },
    "id": "ctrRlZJcDM55",
    "outputId": "c48111a3-fe5b-4f13-b759-d6fb2e2f8bb8"
   },
   "outputs": [
    {
     "name": "stdout",
     "output_type": "stream",
     "text": [
      "lets get vaccinate against covid-19.\n"
     ]
    }
   ],
   "source": [
    "print(\"lets get %s against covid-19.\" %'vaccinate')"
   ]
  },
  {
   "cell_type": "markdown",
   "id": "d68c32a5",
   "metadata": {
    "id": "1aEpGsGvDtIf"
   },
   "source": [
    "You can pass multiple items by placing them inside a tuple after the % operator."
   ]
  },
  {
   "cell_type": "code",
   "execution_count": 2,
   "id": "b1d82ed9",
   "metadata": {
    "colab": {
     "base_uri": "https://localhost:8080/"
    },
    "executionInfo": {
     "elapsed": 8,
     "status": "ok",
     "timestamp": 1650297026932,
     "user": {
      "displayName": "Argha Sarker",
      "userId": "00722939545107565048"
     },
     "user_tz": -120
    },
    "id": "9XvwDtpgCTZc",
    "outputId": "b9191f25-0e75-4f1a-ed7e-36ff223a5101"
   },
   "outputs": [
    {
     "name": "stdout",
     "output_type": "stream",
     "text": [
      "lets get vaccinated against covid-19.\n"
     ]
    }
   ],
   "source": [
    "print(\"lets get %s against %s.\" %('vaccinated','covid-19'))"
   ]
  },
  {
   "cell_type": "markdown",
   "id": "bcd5ce85",
   "metadata": {
    "id": "DfAFHuJEDxJF"
   },
   "source": [
    "It can be also variable names"
   ]
  },
  {
   "cell_type": "code",
   "execution_count": 3,
   "id": "99c45f82",
   "metadata": {
    "colab": {
     "base_uri": "https://localhost:8080/"
    },
    "executionInfo": {
     "elapsed": 7,
     "status": "ok",
     "timestamp": 1650297026932,
     "user": {
      "displayName": "Argha Sarker",
      "userId": "00722939545107565048"
     },
     "user_tz": -120
    },
    "id": "WWvuxGeTBmmk",
    "outputId": "ea8b9cc5-8f2b-45cf-f059-1cf332b9fc1f"
   },
   "outputs": [
    {
     "name": "stdout",
     "output_type": "stream",
     "text": [
      "lets get vaccinated against covid-19.\n"
     ]
    }
   ],
   "source": [
    "x, y = 'vaccinated','covid-19'\n",
    "print(\"lets get %s against %s.\" %(x,y))"
   ]
  },
  {
   "cell_type": "markdown",
   "id": "f66c82d5",
   "metadata": {
    "id": "wbLSY0QICo6t"
   },
   "source": [
    "The `%s` operator converts whatever it receives into a string, including integers and floats. The `%d` operator converts numbers to integers first, without rounding. Note the difference below:"
   ]
  },
  {
   "cell_type": "code",
   "execution_count": 4,
   "id": "7f600c11",
   "metadata": {
    "colab": {
     "base_uri": "https://localhost:8080/"
    },
    "executionInfo": {
     "elapsed": 7,
     "status": "ok",
     "timestamp": 1650297026933,
     "user": {
      "displayName": "Argha Sarker",
      "userId": "00722939545107565048"
     },
     "user_tz": -120
    },
    "id": "VwF8IoawBlzp",
    "outputId": "0661e968-6ab8-49e7-8ecd-af165f4697e9"
   },
   "outputs": [
    {
     "name": "stdout",
     "output_type": "stream",
     "text": [
      "I wrote 3.99 programs today.\n",
      "I wrote 3 programs today.\n"
     ]
    }
   ],
   "source": [
    "print('I wrote %s programs today.' %3.99)\n",
    "print('I wrote %d programs today.' %3.99)   "
   ]
  },
  {
   "cell_type": "markdown",
   "id": "f76315d9",
   "metadata": {
    "id": "5HU9011oDPcn"
   },
   "source": [
    "Padding and Precision of Floating Point Numbers: \n",
    "\n",
    " - Floating point numbers use the format `%5.2f`. Here, 5 would be the minimum number of characters the string should contain; these may be padded with whitespace if the entire number does not have this many digits. Next to this, `.2f` stands for how many numbers to show past the decimal point. \n",
    " \n",
    "Let's see some examples:"
   ]
  },
  {
   "cell_type": "code",
   "execution_count": 29,
   "id": "8f119e93",
   "metadata": {
    "colab": {
     "base_uri": "https://localhost:8080/"
    },
    "executionInfo": {
     "elapsed": 635,
     "status": "ok",
     "timestamp": 1650298725380,
     "user": {
      "displayName": "Argha Sarker",
      "userId": "00722939545107565048"
     },
     "user_tz": -120
    },
    "id": "oW_zKzmdDOsU",
    "outputId": "c268043a-1092-4fa1-ebca-362dd11cb22b"
   },
   "outputs": [
    {
     "name": "stdout",
     "output_type": "stream",
     "text": [
      "Floating point numbers: 1390.14\n"
     ]
    }
   ],
   "source": [
    "print('Floating point numbers: %5.2f' %(1390.1442872))"
   ]
  },
  {
   "cell_type": "code",
   "execution_count": 6,
   "id": "af2f47de",
   "metadata": {
    "colab": {
     "base_uri": "https://localhost:8080/"
    },
    "executionInfo": {
     "elapsed": 7,
     "status": "ok",
     "timestamp": 1650297026933,
     "user": {
      "displayName": "Argha Sarker",
      "userId": "00722939545107565048"
     },
     "user_tz": -120
    },
    "id": "WxYXzAoDDhj4",
    "outputId": "c5df1d3e-dad2-4f84-dd74-965078419de7"
   },
   "outputs": [
    {
     "name": "stdout",
     "output_type": "stream",
     "text": [
      "Floating point numbers:       1390\n"
     ]
    }
   ],
   "source": [
    "print('Floating point numbers: %10.0f' %(1390.1442872))"
   ]
  },
  {
   "cell_type": "code",
   "execution_count": 7,
   "id": "11c6e238",
   "metadata": {
    "colab": {
     "base_uri": "https://localhost:8080/"
    },
    "executionInfo": {
     "elapsed": 6,
     "status": "ok",
     "timestamp": 1650297026933,
     "user": {
      "displayName": "Argha Sarker",
      "userId": "00722939545107565048"
     },
     "user_tz": -120
    },
    "id": "LJnS_rZWDpij",
    "outputId": "d34ce6c7-d59f-4f96-b2e1-d93be5e2a89e"
   },
   "outputs": [
    {
     "name": "stdout",
     "output_type": "stream",
     "text": [
      "Floating point numbers:                   1390.14\n"
     ]
    }
   ],
   "source": [
    "print('Floating point numbers: %25.2f' %(1390.1442872))"
   ]
  },
  {
   "cell_type": "markdown",
   "id": "4b7cd117",
   "metadata": {
    "id": "wEbK-HRoE9FA"
   },
   "source": [
    "Multiple Formatting\n",
    "\n",
    "- Nothing prohibits using more than one conversion tool in the same print statement:"
   ]
  },
  {
   "cell_type": "code",
   "execution_count": 8,
   "id": "c2c2c6db",
   "metadata": {
    "colab": {
     "base_uri": "https://localhost:8080/"
    },
    "executionInfo": {
     "elapsed": 431,
     "status": "ok",
     "timestamp": 1650297027359,
     "user": {
      "displayName": "Argha Sarker",
      "userId": "00722939545107565048"
     },
     "user_tz": -120
    },
    "id": "vx4DWAaFE_9_",
    "outputId": "bc5fbecb-d744-46a5-8a5d-d3436e24a395"
   },
   "outputs": [
    {
     "name": "stdout",
     "output_type": "stream",
     "text": [
      "First: hi!, Second:  3.14, Third: 'bye!'\n"
     ]
    }
   ],
   "source": [
    "print('First: %s, Second: %5.2f, Third: %r' %('hi!',3.1415,'bye!'))"
   ]
  },
  {
   "cell_type": "markdown",
   "id": "80ac007e",
   "metadata": {
    "id": "WErW1NTmFEI8"
   },
   "source": [
    "For more information on string formatting with placeholders visit `https://docs.python.org/3/library/stdtypes.html#old-string-formatting`"
   ]
  },
  {
   "cell_type": "markdown",
   "id": "d0dd9728",
   "metadata": {
    "id": "0qR-AcWsFHL8"
   },
   "source": [
    "# Formatting with the .format() method\n",
    "\n",
    "A better way to format objects into your strings for print statements is with the string `.format()` method. The syntax is:\n",
    "\n",
    "'String here `{}` then also `{}'.format('something1','something2')`\n",
    "\n",
    "For example:"
   ]
  },
  {
   "cell_type": "code",
   "execution_count": 9,
   "id": "dc848b47",
   "metadata": {
    "colab": {
     "base_uri": "https://localhost:8080/"
    },
    "executionInfo": {
     "elapsed": 20,
     "status": "ok",
     "timestamp": 1650297027360,
     "user": {
      "displayName": "Argha Sarker",
      "userId": "00722939545107565048"
     },
     "user_tz": -120
    },
    "id": "UoDUlZOnFXO_",
    "outputId": "f5a27522-f149-4411-87f0-20b552827c76"
   },
   "outputs": [
    {
     "name": "stdout",
     "output_type": "stream",
     "text": [
      "This is a string with an insert\n"
     ]
    }
   ],
   "source": [
    "print('This is a string with an {}'.format('insert'))"
   ]
  },
  {
   "cell_type": "markdown",
   "id": "46620a32",
   "metadata": {
    "id": "_-ZEFhabFmtA"
   },
   "source": [
    "The `.format()` method has several advantages over the `%s` placeholder method\n",
    "\n",
    "-  Inserted objects can be called by index position:"
   ]
  },
  {
   "cell_type": "code",
   "execution_count": 10,
   "id": "88c23c51",
   "metadata": {
    "colab": {
     "base_uri": "https://localhost:8080/"
    },
    "executionInfo": {
     "elapsed": 19,
     "status": "ok",
     "timestamp": 1650297027360,
     "user": {
      "displayName": "Argha Sarker",
      "userId": "00722939545107565048"
     },
     "user_tz": -120
    },
    "id": "AbUFW6H2FZZo",
    "outputId": "46e507b1-2c91-46e4-d25d-b9e3630e30cc"
   },
   "outputs": [
    {
     "name": "stdout",
     "output_type": "stream",
     "text": [
      "The quick brown fox\n"
     ]
    }
   ],
   "source": [
    "print('The {2} {1} {0}'.format('fox','brown','quick'))"
   ]
  },
  {
   "cell_type": "markdown",
   "id": "b6ae35ad",
   "metadata": {
    "id": "9Lg93JDIFuwL"
   },
   "source": [
    "- Inserted objects can be assigned keywords:"
   ]
  },
  {
   "cell_type": "code",
   "execution_count": 11,
   "id": "63dd44d1",
   "metadata": {
    "colab": {
     "base_uri": "https://localhost:8080/"
    },
    "executionInfo": {
     "elapsed": 18,
     "status": "ok",
     "timestamp": 1650297027360,
     "user": {
      "displayName": "Argha Sarker",
      "userId": "00722939545107565048"
     },
     "user_tz": -120
    },
    "id": "Z9gsbZTLFuNQ",
    "outputId": "068978f9-4382-40dc-8adf-e5e2979500cc"
   },
   "outputs": [
    {
     "name": "stdout",
     "output_type": "stream",
     "text": [
      "First Object: 1, Second Object: Two, Third Object: 12.3\n"
     ]
    }
   ],
   "source": [
    "print('First Object: {a}, Second Object: {b}, Third Object: {c}'.format(a=1,b='Two',c=12.3))"
   ]
  },
  {
   "cell_type": "markdown",
   "id": "9ae14554",
   "metadata": {
    "id": "XbnoL60fFyi3"
   },
   "source": [
    " - Inserted objects can be reused, avoiding duplication:"
   ]
  },
  {
   "cell_type": "code",
   "execution_count": 12,
   "id": "4a66dddb",
   "metadata": {
    "colab": {
     "base_uri": "https://localhost:8080/"
    },
    "executionInfo": {
     "elapsed": 18,
     "status": "ok",
     "timestamp": 1650297027361,
     "user": {
      "displayName": "Argha Sarker",
      "userId": "00722939545107565048"
     },
     "user_tz": -120
    },
    "id": "fEeotDfGF5OF",
    "outputId": "3e051d1f-7d3d-48ec-bdb7-4a8e0c145134"
   },
   "outputs": [
    {
     "name": "stdout",
     "output_type": "stream",
     "text": [
      "A penny saved is a penny earned.\n",
      "A penny saved is a penny earned.\n"
     ]
    }
   ],
   "source": [
    "print('A %s saved is a %s earned.' %('penny','penny'))\n",
    "# vs.\n",
    "print('A {p} saved is a {p} earned.'.format(p='penny'))"
   ]
  },
  {
   "cell_type": "markdown",
   "id": "83cbe743",
   "metadata": {
    "id": "qRrxgnghF7TE"
   },
   "source": [
    "Alignment, padding and precision with `.format()`\n",
    "\n",
    "Within the curly braces you can assign field lengths, left/right alignments, rounding parameters and more"
   ]
  },
  {
   "cell_type": "code",
   "execution_count": 13,
   "id": "8bc4671c",
   "metadata": {
    "colab": {
     "base_uri": "https://localhost:8080/"
    },
    "executionInfo": {
     "elapsed": 16,
     "status": "ok",
     "timestamp": 1650297027361,
     "user": {
      "displayName": "Argha Sarker",
      "userId": "00722939545107565048"
     },
     "user_tz": -120
    },
    "id": "8XaDP01tGVz7",
    "outputId": "488f090d-d5e8-4a60-b94d-4cb23c6c7e47"
   },
   "outputs": [
    {
     "name": "stdout",
     "output_type": "stream",
     "text": [
      "Fruit    | Quantity \n",
      "Apples   |       3.0\n",
      "Oranges  |        10\n"
     ]
    }
   ],
   "source": [
    "print('{0:8} | {1:9}'.format('Fruit', 'Quantity'))\n",
    "print('{0:8} | {1:9}'.format('Apples', 3.))\n",
    "print('{0:8} | {1:9}'.format('Oranges', 10))"
   ]
  },
  {
   "cell_type": "markdown",
   "id": "20548f02",
   "metadata": {
    "id": "yrKpqgDrGdXn"
   },
   "source": [
    "- By default, `.format()` aligns text to the left, numbers to the right. You can pass an optional `<`, `^`,or `>` to set a left, center or right alignment:"
   ]
  },
  {
   "cell_type": "code",
   "execution_count": 14,
   "id": "0591a7a2",
   "metadata": {
    "colab": {
     "base_uri": "https://localhost:8080/"
    },
    "executionInfo": {
     "elapsed": 15,
     "status": "ok",
     "timestamp": 1650297027361,
     "user": {
      "displayName": "Argha Sarker",
      "userId": "00722939545107565048"
     },
     "user_tz": -120
    },
    "id": "uIdIEsJWGiVv",
    "outputId": "99e1b52a-8112-4a47-da75-8a57ee5d2ee1"
   },
   "outputs": [
    {
     "name": "stdout",
     "output_type": "stream",
     "text": [
      "Left     |  Center  |    Right\n",
      "11       |    22    |       33\n"
     ]
    }
   ],
   "source": [
    "print('{0:<8} | {1:^8} | {2:>8}'.format('Left','Center','Right'))\n",
    "print('{0:<8} | {1:^8} | {2:>8}'.format(11,22,33))"
   ]
  },
  {
   "cell_type": "markdown",
   "id": "6bf35612",
   "metadata": {
    "id": "oGHpTkNQIi0q"
   },
   "source": [
    "For more information on the string `.format()` method visit `https://docs.python.org/3/library/string.html#formatstrings`"
   ]
  },
  {
   "cell_type": "markdown",
   "id": "117646f5",
   "metadata": {
    "id": "16Ssd4t2HXx_"
   },
   "source": [
    "# Formatted String Literals (f-strings)\n",
    "\n",
    "Introduced in Python 3.6, f-strings offer several benefits over the older `.format()` string method described above. For one, you can bring outside variables immediately into to the string rather than pass them as arguments through `.format(var)`."
   ]
  },
  {
   "cell_type": "code",
   "execution_count": 15,
   "id": "39b3e51f",
   "metadata": {
    "colab": {
     "base_uri": "https://localhost:8080/"
    },
    "executionInfo": {
     "elapsed": 15,
     "status": "ok",
     "timestamp": 1650297027362,
     "user": {
      "displayName": "Argha Sarker",
      "userId": "00722939545107565048"
     },
     "user_tz": -120
    },
    "id": "v2vCIuoMHkdv",
    "outputId": "a90b1b30-98d9-4f54-84fd-6106a6d73253"
   },
   "outputs": [
    {
     "name": "stdout",
     "output_type": "stream",
     "text": [
      "He said his name is Fred.\n"
     ]
    }
   ],
   "source": [
    "name = 'Fred'\n",
    "\n",
    "print(f\"He said his name is {name}.\")"
   ]
  },
  {
   "cell_type": "markdown",
   "id": "8de5d2c6",
   "metadata": {
    "id": "P0MRja6zHqtO"
   },
   "source": [
    " - Pass `!r` to get the string representation:"
   ]
  },
  {
   "cell_type": "code",
   "execution_count": 16,
   "id": "f4a20516",
   "metadata": {
    "colab": {
     "base_uri": "https://localhost:8080/"
    },
    "executionInfo": {
     "elapsed": 14,
     "status": "ok",
     "timestamp": 1650297027362,
     "user": {
      "displayName": "Argha Sarker",
      "userId": "00722939545107565048"
     },
     "user_tz": -120
    },
    "id": "mCcA4wviHs-g",
    "outputId": "a2ebb1d0-57b5-44c0-eca5-83d865e06780"
   },
   "outputs": [
    {
     "name": "stdout",
     "output_type": "stream",
     "text": [
      "He said his name is 'Fred'\n"
     ]
    }
   ],
   "source": [
    "print(f\"He said his name is {name!r}\")"
   ]
  },
  {
   "cell_type": "markdown",
   "id": "fc396835",
   "metadata": {
    "id": "eo9dt0qCH8z2"
   },
   "source": [
    "#### Float formatting follows \"result: `{value:{width}.{precision}}`\"\n",
    "\n",
    "\n",
    "Where with the `.format()` method you might see `{value:10.4f}`, with f-strings this can become `{value:{10}.{6}}`"
   ]
  },
  {
   "cell_type": "code",
   "execution_count": 17,
   "id": "efdb6aed",
   "metadata": {
    "colab": {
     "base_uri": "https://localhost:8080/"
    },
    "executionInfo": {
     "elapsed": 13,
     "status": "ok",
     "timestamp": 1650297027362,
     "user": {
      "displayName": "Argha Sarker",
      "userId": "00722939545107565048"
     },
     "user_tz": -120
    },
    "id": "yh6qk9KjIC1n",
    "outputId": "05c0e4a4-c01a-4c8d-acad-07b4db2b1d72"
   },
   "outputs": [
    {
     "name": "stdout",
     "output_type": "stream",
     "text": [
      "My 10 character, four decimal number is:   23.4568\n",
      "My 10 character, four decimal number is:   23.4568\n"
     ]
    }
   ],
   "source": [
    "num = 23.45678\n",
    "print(\"My 10 character, four decimal number is:{0:10.4f}\".format(num))\n",
    "print(f\"My 10 character, four decimal number is:{num:{10}.{6}}\")"
   ]
  },
  {
   "cell_type": "markdown",
   "id": "04dd05af",
   "metadata": {
    "id": "XBOx88SjIfPq"
   },
   "source": [
    "For more info on formatted string literals visit `https://docs.python.org/3/reference/lexical_analysis.html#f-strings`"
   ]
  },
  {
   "cell_type": "markdown",
   "id": "7c744dcb",
   "metadata": {
    "id": "1Dall3ytFWly"
   },
   "source": [
    "# Context managers \n",
    "\n",
    "Context managers can be seen as conceptual counterpart to functions. While a function presents a chunk of code that is reused in between other operations, a context manager is a chunk of code that is reused around other operations."
   ]
  },
  {
   "cell_type": "code",
   "execution_count": 18,
   "id": "d8680642",
   "metadata": {
    "colab": {
     "base_uri": "https://localhost:8080/"
    },
    "executionInfo": {
     "elapsed": 12,
     "status": "ok",
     "timestamp": 1650297027362,
     "user": {
      "displayName": "Argha Sarker",
      "userId": "00722939545107565048"
     },
     "user_tz": -120
    },
    "id": "o80eiverPENW",
    "outputId": "b9241210-19c3-4189-cbef-548d8be807d6"
   },
   "outputs": [
    {
     "name": "stdout",
     "output_type": "stream",
     "text": [
      "Entering context.\n",
      "I am inside the context\n",
      "Exiting context.\n",
      "I am outside!\n"
     ]
    }
   ],
   "source": [
    "class PrintingContext:\n",
    "    \n",
    "    def __enter__(self):\n",
    "        print('Entering context.')\n",
    "    \n",
    "    def __exit__(self, exception_type, exception_value, traceback):\n",
    "        print('Exiting context.')\n",
    "        \n",
    "with PrintingContext():\n",
    "    print('I am inside the context')\n",
    "    \n",
    "print(\"I am outside!\")"
   ]
  },
  {
   "cell_type": "code",
   "execution_count": 19,
   "id": "269764ee",
   "metadata": {
    "colab": {
     "base_uri": "https://localhost:8080/"
    },
    "executionInfo": {
     "elapsed": 12,
     "status": "ok",
     "timestamp": 1650297027363,
     "user": {
      "displayName": "Argha Sarker",
      "userId": "00722939545107565048"
     },
     "user_tz": -120
    },
    "id": "kp_7hOpdPHPL",
    "outputId": "0f30268d-12df-4419-80e0-37865380d264"
   },
   "outputs": [
    {
     "name": "stdout",
     "output_type": "stream",
     "text": [
      "before...\n",
      "Entering context.\n",
      "I am inside!\n",
      "Exiting context.\n",
      "after!\n"
     ]
    }
   ],
   "source": [
    "def my_func():\n",
    "    with PrintingContext():\n",
    "        print(\"I am inside!\")\n",
    "        return\n",
    "    \n",
    "print(\"before...\")\n",
    "my_func()\n",
    "print(\"after!\")"
   ]
  },
  {
   "cell_type": "markdown",
   "id": "d62e701e",
   "metadata": {
    "id": "DzPrU6fmP3T3"
   },
   "source": [
    "more info on context managers: `https://jeffknupp.com/blog/2016/03/07/python-with-context-managers/`"
   ]
  },
  {
   "cell_type": "markdown",
   "id": "5e6bb8a4",
   "metadata": {
    "id": "xCT-yTsWPJK8"
   },
   "source": [
    "# File IO\n",
    "\n",
    "#### Writing to a file.\n",
    "\n",
    "##### Create a New File:\n",
    "\n",
    "To create a new file in Python, use the `open()` method, with one of the following parameters:\n",
    "\n",
    "- `\"x\"` - Create - will create a file, returns an error if the file exist.\n",
    "\n",
    "- `\"w\"` - Write - will create a file if the specified file does not exist.\n",
    "\n",
    "##### Write to an Existing File\n",
    "To write to an existing file, you must add a parameter to the `open()` function:\n",
    "\n",
    "- `\"a\"` - Append - will append to the end of the file.\n",
    "\n",
    "- `\"w\"` - Write - will overwrite any existing content.\n",
    "\n",
    "\n",
    "\n"
   ]
  },
  {
   "cell_type": "code",
   "execution_count": 20,
   "id": "d65f8aef",
   "metadata": {
    "executionInfo": {
     "elapsed": 11,
     "status": "ok",
     "timestamp": 1650297027363,
     "user": {
      "displayName": "Argha Sarker",
      "userId": "00722939545107565048"
     },
     "user_tz": -120
    },
    "id": "gImVqYYfRXWu"
   },
   "outputs": [],
   "source": [
    "# creating a file name \"myfile.txt\"\n",
    "f = open(\"myfile.txt\", \"w\")"
   ]
  },
  {
   "cell_type": "code",
   "execution_count": 21,
   "id": "2f7b978d",
   "metadata": {
    "executionInfo": {
     "elapsed": 11,
     "status": "ok",
     "timestamp": 1650297027363,
     "user": {
      "displayName": "Argha Sarker",
      "userId": "00722939545107565048"
     },
     "user_tz": -120
    },
    "id": "vs3WCncTPRhd"
   },
   "outputs": [],
   "source": [
    "string = \"\"\"Welcome to SciPy, \n",
    "In this Course you are going to learn about multiple scientific python libraries\n",
    "for example: NumPy, Pandas, Matplitlib, Seaborn and manymore. \n",
    "\"\"\"\n",
    "\n",
    "# open needs an file path in tah argument and a mode to initiate\n",
    "# in whice mode to open/create tha file. \n",
    "  # returns a file-handle we can work with\n",
    "  \n",
    "# don't forget to close the file afterwards!\n",
    "fh.close()                 "
   ]
  },
  {
   "cell_type": "code",
   "execution_count": 22,
   "id": "80205ca8",
   "metadata": {
    "colab": {
     "base_uri": "https://localhost:8080/"
    },
    "executionInfo": {
     "elapsed": 11,
     "status": "ok",
     "timestamp": 1650297027363,
     "user": {
      "displayName": "Argha Sarker",
      "userId": "00722939545107565048"
     },
     "user_tz": -120
    },
    "id": "OyOuZwHCPVA1",
    "outputId": "842e97f3-2225-4e4e-c4b0-b0f3e1449727"
   },
   "outputs": [
    {
     "name": "stdout",
     "output_type": "stream",
     "text": [
      "Welcome to SciPy, \n",
      "In this Course you are going to learn about multiple scientific python libraries\n",
      "for example: NumPy, Pandas, Matplitlib, Seaborn and manymore. \n"
     ]
    }
   ],
   "source": [
    "%%bash\n",
    "cat myfile.txt"
   ]
  },
  {
   "cell_type": "markdown",
   "id": "12dee54d",
   "metadata": {
    "id": "f9m6uB7OPXoC"
   },
   "source": [
    "Now we can read from the file what we just wrote by changing the mode to `\"r\"`. "
   ]
  },
  {
   "cell_type": "code",
   "execution_count": 23,
   "id": "4bb31070",
   "metadata": {
    "colab": {
     "base_uri": "https://localhost:8080/"
    },
    "executionInfo": {
     "elapsed": 11,
     "status": "ok",
     "timestamp": 1650297027364,
     "user": {
      "displayName": "Argha Sarker",
      "userId": "00722939545107565048"
     },
     "user_tz": -120
    },
    "id": "suJZ0MoDPaIO",
    "outputId": "f9b8f787-88a3-4a5d-c84d-944f258af963"
   },
   "outputs": [
    {
     "name": "stdout",
     "output_type": "stream",
     "text": [
      "Welcome to SciPy, \n",
      "In this Course you are going to learn about multiple scientific python libraries\n",
      "for example: NumPy, Pandas, Matplitlib, Seaborn and manymore. \n"
     ]
    }
   ],
   "source": [
    "# reading example:\n",
    "fh = open('myfile.txt', 'r')\n",
    "lines = fh.readlines()\n",
    "\n",
    "for line in lines:\n",
    "    print(line, end='')\n",
    "    \n",
    "fh.close()"
   ]
  },
  {
   "cell_type": "markdown",
   "id": "abde36eb",
   "metadata": {
    "id": "SwMLasQbWjK-"
   },
   "source": [
    "for more information please refer to the documentation `https://docs.python.org/3/tutorial/inputoutput.html#reading-and-writing-files`"
   ]
  },
  {
   "cell_type": "markdown",
   "id": "8492c6d5",
   "metadata": {
    "id": "VRrV34OTUVP-"
   },
   "source": [
    "##### To Delete Files. \n",
    "\n",
    "- with `os` module you can delete a file from the directory with `os.remove()`.\n",
    "- to remove a folder use `os.rmdir()`. \n"
   ]
  },
  {
   "cell_type": "code",
   "execution_count": 24,
   "id": "570dc1e3",
   "metadata": {
    "executionInfo": {
     "elapsed": 9,
     "status": "ok",
     "timestamp": 1650297027364,
     "user": {
      "displayName": "Argha Sarker",
      "userId": "00722939545107565048"
     },
     "user_tz": -120
    },
    "id": "NGa9OQ0LUrKG"
   },
   "outputs": [],
   "source": [
    "import os\n",
    "\n",
    "# checks if the file exists! \n",
    "if os.path.exists(\"myfile.txt\"):\n",
    "  os.remove(\"myfile.txt\")\n",
    "\n",
    "else:\n",
    "  print(\"The file does not exist\")"
   ]
  },
  {
   "cell_type": "code",
   "execution_count": 25,
   "id": "e9155be5",
   "metadata": {
    "colab": {
     "base_uri": "https://localhost:8080/"
    },
    "executionInfo": {
     "elapsed": 9,
     "status": "ok",
     "timestamp": 1650297027364,
     "user": {
      "displayName": "Argha Sarker",
      "userId": "00722939545107565048"
     },
     "user_tz": -120
    },
    "id": "PhYoa_NGVG51",
    "outputId": "190e444d-aeb9-4583-8feb-9f3f9b320f22"
   },
   "outputs": [
    {
     "name": "stderr",
     "output_type": "stream",
     "text": [
      "cat: myfile.txt: No such file or directory\n"
     ]
    }
   ],
   "source": [
    "%%bash\n",
    "cat myfile.txt"
   ]
  }
 ],
 "metadata": {
  "colab": {
   "name": "leo_week03.ipynb",
   "provenance": []
  },
  "kernelspec": {
   "display_name": "Python 3 (ipykernel)",
   "language": "python",
   "name": "python3"
  },
  "language_info": {
   "codemirror_mode": {
    "name": "ipython",
    "version": 3
   },
   "file_extension": ".py",
   "mimetype": "text/x-python",
   "name": "python",
   "nbconvert_exporter": "python",
   "pygments_lexer": "ipython3",
   "version": "3.10.4"
  }
 },
 "nbformat": 4,
 "nbformat_minor": 5
}
