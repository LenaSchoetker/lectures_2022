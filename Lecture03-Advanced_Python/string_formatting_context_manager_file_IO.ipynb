{
 "cells": [
  {
   "cell_type": "markdown",
   "metadata": {
    "id": "GiaGArLCBnTQ"
   },
   "source": [
    "# String Formatting"
   ]
  },
  {
   "cell_type": "markdown",
   "metadata": {
    "id": "r9dfOSnkCUC0"
   },
   "source": [
    "String formatting lets you inject items into a string rather than trying to chain items together using commas or string concatenation.\n",
    "\n",
    "There are three ways to perform string formatting.\n",
    "\n",
    " - The oldest method involves placeholders using the modulo `% `character.\n",
    " - An improved technique uses the `.format()` string method.\n",
    " - The newest method, introduced with Python 3.6, uses formatted string literals, called `f-strings`.\n",
    "\n",
    "\n"
   ]
  },
  {
   "cell_type": "markdown",
   "metadata": {
    "id": "zZE0jKGLDNgM"
   },
   "source": [
    "### Formatting with placeholders"
   ]
  },
  {
   "cell_type": "markdown",
   "metadata": {
    "id": "UIwirl61DXMV"
   },
   "source": [
    "You can use `%s` to inject strings into your print statements. The modulo `%` is referred to as a \"string formatting operator\"."
   ]
  },
  {
   "cell_type": "code",
   "execution_count": 1,
   "metadata": {
    "colab": {
     "base_uri": "https://localhost:8080/"
    },
    "id": "ctrRlZJcDM55",
    "outputId": "c48111a3-fe5b-4f13-b759-d6fb2e2f8bb8"
   },
   "outputs": [
    {
     "name": "stdout",
     "output_type": "stream",
     "text": [
      "lets get vaccinate against covid-19.\n"
     ]
    }
   ],
   "source": [
    "print(\"lets get %s against covid-19.\" %'vaccinate')"
   ]
  },
  {
   "cell_type": "markdown",
   "metadata": {
    "id": "1aEpGsGvDtIf"
   },
   "source": [
    "You can pass multiple items by placing them inside a tuple after the % operator."
   ]
  },
  {
   "cell_type": "code",
   "execution_count": 2,
   "metadata": {
    "colab": {
     "base_uri": "https://localhost:8080/"
    },
    "id": "9XvwDtpgCTZc",
    "outputId": "b9191f25-0e75-4f1a-ed7e-36ff223a5101"
   },
   "outputs": [
    {
     "name": "stdout",
     "output_type": "stream",
     "text": [
      "lets get vaccinated against covid-19.\n"
     ]
    }
   ],
   "source": [
    "print(\"lets get %s against %s.\" %('vaccinated','covid-19'))"
   ]
  },
  {
   "cell_type": "markdown",
   "metadata": {
    "id": "DfAFHuJEDxJF"
   },
   "source": [
    "It can be also variable names"
   ]
  },
  {
   "cell_type": "code",
   "execution_count": 3,
   "metadata": {
    "colab": {
     "base_uri": "https://localhost:8080/"
    },
    "id": "WWvuxGeTBmmk",
    "outputId": "ea8b9cc5-8f2b-45cf-f059-1cf332b9fc1f"
   },
   "outputs": [
    {
     "name": "stdout",
     "output_type": "stream",
     "text": [
      "lets get vaccinated against covid-19.\n"
     ]
    }
   ],
   "source": [
    "x, y = 'vaccinated','covid-19'\n",
    "print(\"lets get %s against %s.\" %(x,y))"
   ]
  },
  {
   "cell_type": "markdown",
   "metadata": {
    "id": "wbLSY0QICo6t"
   },
   "source": [
    "The `%s` operator converts whatever it receives into a string, including integers and floats. The `%d` operator converts numbers to integers first, without rounding. Note the difference below:"
   ]
  },
  {
   "cell_type": "code",
   "execution_count": 4,
   "metadata": {
    "colab": {
     "base_uri": "https://localhost:8080/"
    },
    "id": "VwF8IoawBlzp",
    "outputId": "0661e968-6ab8-49e7-8ecd-af165f4697e9"
   },
   "outputs": [
    {
     "name": "stdout",
     "output_type": "stream",
     "text": [
      "I wrote 3.99 programs today.\n",
      "I wrote 3 programs today.\n"
     ]
    }
   ],
   "source": [
    "print('I wrote %s programs today.' %3.99)\n",
    "print('I wrote %d programs today.' %3.99)   "
   ]
  },
  {
   "cell_type": "markdown",
   "metadata": {
    "id": "5HU9011oDPcn"
   },
   "source": [
    "Padding and Precision of Floating Point Numbers: \n",
    "\n",
    " - Floating point numbers use the format `%5.2f`. Here, 5 would be the minimum number of characters the string should contain; these may be padded with whitespace if the entire number does not have this many digits. Next to this, `.2f` stands for how many numbers to show past the decimal point. \n",
    " \n",
    "Let's see some examples:"
   ]
  },
  {
   "cell_type": "code",
   "execution_count": 5,
   "metadata": {
    "colab": {
     "base_uri": "https://localhost:8080/"
    },
    "id": "oW_zKzmdDOsU",
    "outputId": "eb0a67a7-93cf-4c7f-e256-1128803095ef"
   },
   "outputs": [
    {
     "name": "stdout",
     "output_type": "stream",
     "text": [
      "Floating point numbers: 1390.14\n"
     ]
    }
   ],
   "source": [
    "print('Floating point numbers: %5.2f' %(1390.1442872))"
   ]
  },
  {
   "cell_type": "code",
   "execution_count": 6,
   "metadata": {
    "colab": {
     "base_uri": "https://localhost:8080/"
    },
    "id": "WxYXzAoDDhj4",
    "outputId": "c5df1d3e-dad2-4f84-dd74-965078419de7"
   },
   "outputs": [
    {
     "name": "stdout",
     "output_type": "stream",
     "text": [
      "Floating point numbers:       1390\n"
     ]
    }
   ],
   "source": [
    "print('Floating point numbers: %10.0f' %(1390.1442872))"
   ]
  },
  {
   "cell_type": "code",
   "execution_count": 7,
   "metadata": {
    "colab": {
     "base_uri": "https://localhost:8080/"
    },
    "id": "LJnS_rZWDpij",
    "outputId": "d34ce6c7-d59f-4f96-b2e1-d93be5e2a89e"
   },
   "outputs": [
    {
     "name": "stdout",
     "output_type": "stream",
     "text": [
      "Floating point numbers:                   1390.14\n"
     ]
    }
   ],
   "source": [
    "print('Floating point numbers: %25.2f' %(1390.1442872))"
   ]
  },
  {
   "cell_type": "markdown",
   "metadata": {
    "id": "wEbK-HRoE9FA"
   },
   "source": [
    "Multiple Formatting\n",
    "\n",
    "- Nothing prohibits using more than one conversion tool in the same print statement:"
   ]
  },
  {
   "cell_type": "code",
   "execution_count": 8,
   "metadata": {
    "colab": {
     "base_uri": "https://localhost:8080/"
    },
    "id": "vx4DWAaFE_9_",
    "outputId": "bc5fbecb-d744-46a5-8a5d-d3436e24a395"
   },
   "outputs": [
    {
     "name": "stdout",
     "output_type": "stream",
     "text": [
      "First: hi!, Second:  3.14, Third: 'bye!'\n"
     ]
    }
   ],
   "source": [
    "print('First: %s, Second: %5.2f, Third: %r' %('hi!',3.1415,'bye!'))"
   ]
  },
  {
   "cell_type": "markdown",
   "metadata": {
    "id": "WErW1NTmFEI8"
   },
   "source": [
    "For more information on string formatting with placeholders visit `https://docs.python.org/3/library/stdtypes.html#old-string-formatting`"
   ]
  },
  {
   "cell_type": "markdown",
   "metadata": {
    "id": "0qR-AcWsFHL8"
   },
   "source": [
    "# Formatting with the .format() method\n",
    "\n",
    "A better way to format objects into your strings for print statements is with the string `.format()` method. The syntax is:\n",
    "\n",
    "'String here `{}` then also `{}'.format('something1','something2')`\n",
    "\n",
    "For example:"
   ]
  },
  {
   "cell_type": "code",
   "execution_count": 9,
   "metadata": {
    "colab": {
     "base_uri": "https://localhost:8080/"
    },
    "id": "UoDUlZOnFXO_",
    "outputId": "f5a27522-f149-4411-87f0-20b552827c76"
   },
   "outputs": [
    {
     "name": "stdout",
     "output_type": "stream",
     "text": [
      "This is a string with an insert\n"
     ]
    }
   ],
   "source": [
    "print('This is a string with an {}'.format('insert'))"
   ]
  },
  {
   "cell_type": "markdown",
   "metadata": {},
   "source": [
    "The `.format()` method has several advantages over the `%s` placeholder method\n",
    "\n",
    "-  Inserted objects can be called by index position:"
   ]
  },
  {
   "cell_type": "code",
   "execution_count": 10,
   "metadata": {
    "colab": {
     "base_uri": "https://localhost:8080/"
    },
    "id": "AbUFW6H2FZZo",
    "outputId": "46e507b1-2c91-46e4-d25d-b9e3630e30cc"
   },
   "outputs": [
    {
     "name": "stdout",
     "output_type": "stream",
     "text": [
      "The quick brown fox\n"
     ]
    }
   ],
   "source": [
    "print('The {2} {1} {0}'.format('fox','brown','quick'))"
   ]
  },
  {
   "cell_type": "markdown",
   "metadata": {
    "id": "9Lg93JDIFuwL"
   },
   "source": [
    "- Inserted objects can be assigned keywords:"
   ]
  },
  {
   "cell_type": "code",
   "execution_count": 11,
   "metadata": {
    "colab": {
     "base_uri": "https://localhost:8080/"
    },
    "id": "Z9gsbZTLFuNQ",
    "outputId": "068978f9-4382-40dc-8adf-e5e2979500cc"
   },
   "outputs": [
    {
     "name": "stdout",
     "output_type": "stream",
     "text": [
      "First Object: 1, Second Object: Two, Third Object: 12.3\n"
     ]
    }
   ],
   "source": [
    "print('First Object: {a}, Second Object: {b}, Third Object: {c}'.format(a=1,b='Two',c=12.3))"
   ]
  },
  {
   "cell_type": "markdown",
   "metadata": {
    "id": "XbnoL60fFyi3"
   },
   "source": [
    " - Inserted objects can be reused, avoiding duplication:"
   ]
  },
  {
   "cell_type": "code",
   "execution_count": 12,
   "metadata": {
    "colab": {
     "base_uri": "https://localhost:8080/"
    },
    "id": "fEeotDfGF5OF",
    "outputId": "3e051d1f-7d3d-48ec-bdb7-4a8e0c145134"
   },
   "outputs": [
    {
     "name": "stdout",
     "output_type": "stream",
     "text": [
      "A penny saved is a penny earned.\n",
      "A penny saved is a penny earned.\n"
     ]
    }
   ],
   "source": [
    "print('A %s saved is a %s earned.' %('penny','penny'))\n",
    "# vs.\n",
    "print('A {p} saved is a {p} earned.'.format(p='penny'))"
   ]
  },
  {
   "cell_type": "markdown",
   "metadata": {
    "id": "qRrxgnghF7TE"
   },
   "source": [
    "Alignment, padding and precision with `.format()`\n",
    "\n",
    "Within the curly braces you can assign field lengths, left/right alignments, rounding parameters and more"
   ]
  },
  {
   "cell_type": "code",
   "execution_count": 13,
   "metadata": {
    "colab": {
     "base_uri": "https://localhost:8080/"
    },
    "id": "8XaDP01tGVz7",
    "outputId": "488f090d-d5e8-4a60-b94d-4cb23c6c7e47"
   },
   "outputs": [
    {
     "name": "stdout",
     "output_type": "stream",
     "text": [
      "Fruit    | Quantity \n",
      "Apples   |       3.0\n",
      "Oranges  |        10\n"
     ]
    }
   ],
   "source": [
    "print('{0:8} | {1:9}'.format('Fruit', 'Quantity'))\n",
    "print('{0:8} | {1:9}'.format('Apples', 3.))\n",
    "print('{0:8} | {1:9}'.format('Oranges', 10))"
   ]
  },
  {
   "cell_type": "markdown",
   "metadata": {
    "id": "yrKpqgDrGdXn"
   },
   "source": [
    "- By default, `.format()` aligns text to the left, numbers to the right. You can pass an optional `<`, `^`,or `>` to set a left, center or right alignment:"
   ]
  },
  {
   "cell_type": "code",
   "execution_count": 14,
   "metadata": {
    "colab": {
     "base_uri": "https://localhost:8080/"
    },
    "id": "uIdIEsJWGiVv",
    "outputId": "99e1b52a-8112-4a47-da75-8a57ee5d2ee1"
   },
   "outputs": [
    {
     "name": "stdout",
     "output_type": "stream",
     "text": [
      "Left     |  Center  |    Right\n",
      "11       |    22    |       33\n"
     ]
    }
   ],
   "source": [
    "print('{0:<8} | {1:^8} | {2:>8}'.format('Left','Center','Right'))\n",
    "print('{0:<8} | {1:^8} | {2:>8}'.format(11,22,33))"
   ]
  },
  {
   "cell_type": "markdown",
   "metadata": {
    "id": "oGHpTkNQIi0q"
   },
   "source": [
    "For more information on the string `.format()` method visit `https://docs.python.org/3/library/string.html#formatstrings`"
   ]
  },
  {
   "cell_type": "markdown",
   "metadata": {
    "id": "16Ssd4t2HXx_"
   },
   "source": [
    "# Formatted String Literals (f-strings)\n",
    "\n",
    "Introduced in Python 3.6, f-strings offer several benefits over the older `.format()` string method described above. For one, you can bring outside variables immediately into to the string rather than pass them as arguments through `.format(var)`."
   ]
  },
  {
   "cell_type": "code",
   "execution_count": 15,
   "metadata": {
    "colab": {
     "base_uri": "https://localhost:8080/"
    },
    "id": "v2vCIuoMHkdv",
    "outputId": "a90b1b30-98d9-4f54-84fd-6106a6d73253"
   },
   "outputs": [
    {
     "name": "stdout",
     "output_type": "stream",
     "text": [
      "He said his name is Fred.\n"
     ]
    }
   ],
   "source": [
    "name = 'Fred'\n",
    "\n",
    "print(f\"He said his name is {name}.\")"
   ]
  },
  {
   "cell_type": "markdown",
   "metadata": {
    "id": "P0MRja6zHqtO"
   },
   "source": [
    " - Pass `!r` to get the string representation:"
   ]
  },
  {
   "cell_type": "code",
   "execution_count": 16,
   "metadata": {
    "colab": {
     "base_uri": "https://localhost:8080/"
    },
    "id": "mCcA4wviHs-g",
    "outputId": "a2ebb1d0-57b5-44c0-eca5-83d865e06780"
   },
   "outputs": [
    {
     "name": "stdout",
     "output_type": "stream",
     "text": [
      "He said his name is 'Fred'\n"
     ]
    }
   ],
   "source": [
    "print(f\"He said his name is {name!r}\")"
   ]
  },
  {
   "cell_type": "markdown",
   "metadata": {
    "id": "eo9dt0qCH8z2"
   },
   "source": [
    "#### Float formatting follows \"result: `{value:{width}.{precision}}`\"\n",
    "\n",
    "\n",
    "Where with the `.format()` method you might see `{value:10.4f}`, with f-strings this can become `{value:{10}.{6}}`"
   ]
  },
  {
   "cell_type": "code",
   "execution_count": 17,
   "metadata": {
    "colab": {
     "base_uri": "https://localhost:8080/"
    },
    "id": "yh6qk9KjIC1n",
    "outputId": "05c0e4a4-c01a-4c8d-acad-07b4db2b1d72"
   },
   "outputs": [
    {
     "name": "stdout",
     "output_type": "stream",
     "text": [
      "My 10 character, four decimal number is:   23.4568\n",
      "My 10 character, four decimal number is:   23.4568\n"
     ]
    }
   ],
   "source": [
    "num = 23.45678\n",
    "print(\"My 10 character, four decimal number is:{0:10.4f}\".format(num))\n",
    "print(f\"My 10 character, four decimal number is:{num:{10}.{6}}\")"
   ]
  },
  {
   "cell_type": "markdown",
   "metadata": {
    "id": "XBOx88SjIfPq"
   },
   "source": [
    "For more info on formatted string literals visit `https://docs.python.org/3/reference/lexical_analysis.html#f-strings`"
   ]
  },
  {
   "cell_type": "markdown",
   "metadata": {
    "id": "1Dall3ytFWly"
   },
   "source": [
    "# Context managers (and IO)\n",
    "\n",
    "Context managers can be seen as conceptual counterpart to functions. While a function presents a chunk of code that is reused in between other operations, a context manager is a chunk of code that is reused around other operations."
   ]
  },
  {
   "cell_type": "code",
   "execution_count": 18,
   "metadata": {
    "colab": {
     "base_uri": "https://localhost:8080/"
    },
    "id": "o80eiverPENW",
    "outputId": "b9241210-19c3-4189-cbef-548d8be807d6"
   },
   "outputs": [
    {
     "name": "stdout",
     "output_type": "stream",
     "text": [
      "Entering context.\n",
      "I am inside the context\n",
      "Exiting context.\n",
      "I am outside!\n"
     ]
    }
   ],
   "source": [
    "class PrintingContext:\n",
    "    \n",
    "    def __enter__(self):\n",
    "        print('Entering context.')\n",
    "    \n",
    "    def __exit__(self, exception_type, exception_value, traceback):\n",
    "        print('Exiting context.')\n",
    "        \n",
    "with PrintingContext():\n",
    "    print('I am inside the context')\n",
    "    \n",
    "print(\"I am outside!\")"
   ]
  },
  {
   "cell_type": "code",
   "execution_count": 19,
   "metadata": {
    "colab": {
     "base_uri": "https://localhost:8080/"
    },
    "id": "kp_7hOpdPHPL",
    "outputId": "0f30268d-12df-4419-80e0-37865380d264"
   },
   "outputs": [
    {
     "name": "stdout",
     "output_type": "stream",
     "text": [
      "before...\n",
      "Entering context.\n",
      "I am inside!\n",
      "Exiting context.\n",
      "after!\n"
     ]
    }
   ],
   "source": [
    "def my_func():\n",
    "    with PrintingContext():\n",
    "        print(\"I am inside!\")\n",
    "        return\n",
    "    \n",
    "print(\"before...\")\n",
    "my_func()\n",
    "print(\"after!\")"
   ]
  },
  {
   "cell_type": "markdown",
   "metadata": {
    "id": "DzPrU6fmP3T3"
   },
   "source": [
    "more info on context managers: `https://jeffknupp.com/blog/2016/03/07/python-with-context-managers/`"
   ]
  },
  {
   "cell_type": "markdown",
   "metadata": {
    "id": "xCT-yTsWPJK8"
   },
   "source": [
    "### File IO\n",
    "\n",
    "#### Writing to a file.\n",
    "\n",
    "##### Create a New File:\n",
    "\n",
    "To create a new file in Python, use the `open()` method, with one of the following parameters:\n",
    "\n",
    "- `\"x\"` - Create - will create a file, returns an error if the file exist.\n",
    "\n",
    "- `\"w\"` - Write - will create a file if the specified file does not exist.\n",
    "\n",
    "##### Write to an Existing File\n",
    "To write to an existing file, you must add a parameter to the `open()` function:\n",
    "\n",
    "- `\"a\"` - Append - will append to the end of the file.\n",
    "\n",
    "- `\"w\"` - Write - will overwrite any existing content.\n",
    "\n",
    "\n",
    "\n"
   ]
  },
  {
   "cell_type": "code",
   "execution_count": 20,
   "metadata": {
    "id": "gImVqYYfRXWu"
   },
   "outputs": [],
   "source": [
    "# creating a file name \"myfile.txt\"\n",
    "f = open(\"myfile.txt\", \"w\")"
   ]
  },
  {
   "cell_type": "code",
   "execution_count": 21,
   "metadata": {
    "id": "vs3WCncTPRhd"
   },
   "outputs": [],
   "source": [
    "string = \"\"\"Welcome to SciPy, \n",
    "In this Course you are going to learn about multiple scientific python libraries\n",
    "for example: NumPy, Pandas, Matplitlib, Seaborn and manymore. \n",
    "\"\"\"\n",
    "\n",
    "# open needs an file path in tah argument and a mode to initiate\n",
    "# in whice mode to open/create tha file. \n",
    "# returns a file-handle we can work with\n",
    "fh = open('myfile.txt', 'w') \n",
    "                           \n",
    "\n",
    "fh.write(string)\n",
    "\n",
    "#              !!! IMPORTANT !!! \n",
    "# don't forget to close the file afterwards!\n",
    "fh.close()                 "
   ]
  },
  {
   "cell_type": "code",
   "execution_count": 22,
   "metadata": {
    "colab": {
     "base_uri": "https://localhost:8080/"
    },
    "id": "OyOuZwHCPVA1",
    "outputId": "842e97f3-2225-4e4e-c4b0-b0f3e1449727"
   },
   "outputs": [
    {
     "name": "stdout",
     "output_type": "stream",
     "text": [
      "Welcome to SciPy, \n",
      "In this Course you are going to learn about multiple scientific python libraries\n",
      "for example: NumPy, Pandas, Matplitlib, Seaborn and manymore. \n"
     ]
    }
   ],
   "source": [
    "%%bash\n",
    "cat myfile.txt"
   ]
  },
  {
   "cell_type": "markdown",
   "metadata": {
    "id": "f9m6uB7OPXoC"
   },
   "source": [
    "Now we can read from the file what we just wrote by changing the mode to `\"r\"`. "
   ]
  },
  {
   "cell_type": "code",
   "execution_count": 23,
   "metadata": {
    "colab": {
     "base_uri": "https://localhost:8080/"
    },
    "id": "suJZ0MoDPaIO",
    "outputId": "f9b8f787-88a3-4a5d-c84d-944f258af963"
   },
   "outputs": [
    {
     "name": "stdout",
     "output_type": "stream",
     "text": [
      "Welcome to SciPy, \n",
      "In this Course you are going to learn about multiple scientific python libraries\n",
      "for example: NumPy, Pandas, Matplitlib, Seaborn and manymore. \n"
     ]
    }
   ],
   "source": [
    "# reading example:\n",
    "fh = open('myfile.txt', 'r')\n",
    "lines = fh.readlines()\n",
    "\n",
    "for line in lines:\n",
    "    print(line, end='')\n",
    "    \n",
    "fh.close()"
   ]
  },
  {
   "cell_type": "markdown",
   "metadata": {
    "id": "SwMLasQbWjK-"
   },
   "source": [
    "for more information please refer to the documentation `https://docs.python.org/3/tutorial/inputoutput.html#reading-and-writing-files`"
   ]
  },
  {
   "cell_type": "markdown",
   "metadata": {
    "id": "VRrV34OTUVP-"
   },
   "source": [
    "##### To Delete Files. \n",
    "\n",
    "- with `os` module you can delete a file from the directory with `os.remove()`.\n",
    "- to remove a folder use `os.rmdir()`. \n"
   ]
  },
  {
   "cell_type": "code",
   "execution_count": 24,
   "metadata": {
    "id": "NGa9OQ0LUrKG"
   },
   "outputs": [],
   "source": [
    "import os\n",
    "\n",
    "# checks if the file exists! \n",
    "if os.path.exists(\"myfile.txt\"):\n",
    "    \n",
    "    os.remove(\"myfile.txt\")\n",
    "\n",
    "else:\n",
    "    print(\"The file does not exist\")"
   ]
  },
  {
   "cell_type": "code",
   "execution_count": 25,
   "metadata": {
    "colab": {
     "base_uri": "https://localhost:8080/"
    },
    "id": "PhYoa_NGVG51",
    "outputId": "190e444d-aeb9-4583-8feb-9f3f9b320f22"
   },
   "outputs": [
    {
     "name": "stderr",
     "output_type": "stream",
     "text": [
      "cat: myfile.txt: No such file or directory\n"
     ]
    }
   ],
   "source": [
    "%%bash\n",
    "cat myfile.txt"
   ]
  }
 ],
 "metadata": {
  "colab": {
   "name": "argha_week3.ipynb",
   "provenance": []
  },
  "kernelspec": {
   "display_name": "Python 3 (ipykernel)",
   "language": "python",
   "name": "python3"
  },
  "language_info": {
   "codemirror_mode": {
    "name": "ipython",
    "version": 3
   },
   "file_extension": ".py",
   "mimetype": "text/x-python",
   "name": "python",
   "nbconvert_exporter": "python",
   "pygments_lexer": "ipython3",
   "version": "3.9.7"
  }
 },
 "nbformat": 4,
 "nbformat_minor": 4
}
